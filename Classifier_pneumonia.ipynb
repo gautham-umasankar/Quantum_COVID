{
  "nbformat": 4,
  "nbformat_minor": 0,
  "metadata": {
    "kernelspec": {
      "display_name": "Python 3",
      "language": "python",
      "name": "python3"
    },
    "language_info": {
      "codemirror_mode": {
        "name": "ipython",
        "version": 3
      },
      "file_extension": ".py",
      "mimetype": "text/x-python",
      "name": "python",
      "nbconvert_exporter": "python",
      "pygments_lexer": "ipython3",
      "version": "3.6.6"
    },
    "colab": {
      "name": "Classifier_pneumonia.ipynb",
      "provenance": [],
      "collapsed_sections": [],
      "machine_shape": "hm",
      "include_colab_link": true
    }
  },
  "cells": [
    {
      "cell_type": "markdown",
      "metadata": {
        "id": "view-in-github",
        "colab_type": "text"
      },
      "source": [
        "<a href=\"https://colab.research.google.com/github/gautham-umasankar/Quantum_COVID/blob/master/Classifier_pneumonia.ipynb\" target=\"_parent\"><img src=\"https://colab.research.google.com/assets/colab-badge.svg\" alt=\"Open In Colab\"/></a>"
      ]
    },
    {
      "cell_type": "markdown",
      "metadata": {
        "id": "47lvRRN7DtsL",
        "colab_type": "text"
      },
      "source": [
        "# Model Training\n",
        "\n"
      ]
    },
    {
      "cell_type": "markdown",
      "metadata": {
        "id": "DCXwaTe1A5qc",
        "colab_type": "text"
      },
      "source": [
        "##DWave Installation"
      ]
    },
    {
      "cell_type": "code",
      "metadata": {
        "id": "lVjmrjG2mLzv",
        "colab_type": "code",
        "colab": {
          "base_uri": "https://localhost:8080/"
        },
        "outputId": "3f16dbac-321d-450a-c0d1-94db4f517c5b"
      },
      "source": [
        "!conda --version"
      ],
      "execution_count": null,
      "outputs": [
        {
          "output_type": "stream",
          "text": [
            "/bin/bash: conda: command not found\n"
          ],
          "name": "stdout"
        }
      ]
    },
    {
      "cell_type": "code",
      "metadata": {
        "id": "QmA1tkrDAlqO",
        "colab_type": "code",
        "colab": {
          "base_uri": "https://localhost:8080/",
          "height": 1000
        },
        "outputId": "e454c52e-5027-4ad5-96bc-df1a1b248490"
      },
      "source": [
        "!pip install dwave-ocean-sdk\n"
      ],
      "execution_count": null,
      "outputs": [
        {
          "output_type": "stream",
          "text": [
            "Collecting dwave-ocean-sdk\n",
            "  Downloading https://files.pythonhosted.org/packages/3f/ff/e8666170e7179caa2faeb97dd0b61701c6114867e0a150ed75f430051cc8/dwave_ocean_sdk-2.4.0-py3-none-any.whl\n",
            "Collecting penaltymodel==0.16.3\n",
            "  Downloading https://files.pythonhosted.org/packages/e7/1d/d114fe1c401719964fbf404c2c25113edb994df9f93c5773c19da406d192/penaltymodel-0.16.3-py3-none-any.whl\n",
            "Collecting pyqubo>=0.4.0\n",
            "  Downloading https://files.pythonhosted.org/packages/28/57/ba41de3b13ba23e981463aa1daa2ebe6bd9dcddb15571e4c5905463326c7/pyqubo-0.4.0.tar.gz\n",
            "Collecting dwave-inspector==0.2.2\n",
            "  Downloading https://files.pythonhosted.org/packages/37/8e/4a9a9b8389628b25919ab8cc86844e57f9f259e351d3f70b68c86361a779/dwave_inspector-0.2.2-py3-none-any.whl\n",
            "Collecting dwave-cloud-client==0.7.4\n",
            "\u001b[?25l  Downloading https://files.pythonhosted.org/packages/74/a9/f13df73ea4592a46348106838f9f36b9f5d29eec975f079969d5ceac8c85/dwave_cloud_client-0.7.4-py2.py3-none-any.whl (83kB)\n",
            "\u001b[K     |████████████████████████████████| 92kB 7.4MB/s \n",
            "\u001b[?25hCollecting minorminer==0.1.9\n",
            "\u001b[?25l  Downloading https://files.pythonhosted.org/packages/ea/4b/339ce1e98a45cf99be04e83771742f5eb5ec7b50ab28a4e10a40ec0a4b71/minorminer-0.1.9-cp36-cp36m-manylinux1_x86_64.whl (2.3MB)\n",
            "\u001b[K     |████████████████████████████████| 2.3MB 40.8MB/s \n",
            "\u001b[?25hCollecting penaltymodel-cache==0.4.1\n",
            "  Downloading https://files.pythonhosted.org/packages/02/c5/3cb25828105a8b5e4b181cb94d23593f44cfca71c4e1247a6a631dca3dd2/penaltymodel_cache-0.4.1-py3-none-any.whl\n",
            "Collecting penaltymodel-lp==0.1.3\n",
            "  Downloading https://files.pythonhosted.org/packages/e2/86/4c4c4de17c7e45f1958547da6a3fe866b6a6f48bf4785575bf6cc9ab91ca/penaltymodel_lp-0.1.3-py3-none-any.whl\n",
            "Collecting dwave-qbsolv==0.3.0\n",
            "\u001b[?25l  Downloading https://files.pythonhosted.org/packages/eb/6a/2e2842b329b43f6e9d21f9ec8660392e7b476c710f5495a56bb297d05512/dwave_qbsolv-0.3.0-cp36-cp36m-manylinux1_x86_64.whl (204kB)\n",
            "\u001b[K     |████████████████████████████████| 204kB 49.0MB/s \n",
            "\u001b[?25hCollecting dwavebinarycsp==0.1.2\n",
            "  Downloading https://files.pythonhosted.org/packages/e6/f2/8422100bfa1a9cce5c0f3ca8b088a3d1f46582c0085adb2db09837dbc0f1/dwavebinarycsp-0.1.2-py3-none-any.whl\n",
            "Collecting dwave-system==0.9.6\n",
            "\u001b[?25l  Downloading https://files.pythonhosted.org/packages/55/de/4164c1226475fe12044d1ee9bc5f67a0a1eb6f6273e574f972b46e80f423/dwave_system-0.9.6-py3-none-any.whl (87kB)\n",
            "\u001b[K     |████████████████████████████████| 92kB 9.0MB/s \n",
            "\u001b[?25hCollecting dwave-networkx==0.8.6\n",
            "\u001b[?25l  Downloading https://files.pythonhosted.org/packages/bf/87/9841ea5c76d1916259eb4286d92cdeb039b1bb09ce768ab74ba4d78681ec/dwave_networkx-0.8.6-py2.py3-none-any.whl (81kB)\n",
            "\u001b[K     |████████████████████████████████| 81kB 7.6MB/s \n",
            "\u001b[?25hCollecting dwave-tabu==0.3.0\n",
            "\u001b[?25l  Downloading https://files.pythonhosted.org/packages/f1/b0/bd1bee98246423e9b39bcc71397f82c6d66def17e67d0878e3a0b7c06f59/dwave_tabu-0.3.0-cp36-cp36m-manylinux1_x86_64.whl (788kB)\n",
            "\u001b[K     |████████████████████████████████| 798kB 51.4MB/s \n",
            "\u001b[?25hCollecting dimod==0.9.4\n",
            "\u001b[?25l  Downloading https://files.pythonhosted.org/packages/15/10/28ac95e33ff56e8ac3d2698420d9d9d884c4c31858a9a0b3353671f1e5ec/dimod-0.9.4-cp36-cp36m-manylinux1_x86_64.whl (4.7MB)\n",
            "\u001b[K     |████████████████████████████████| 4.7MB 51.0MB/s \n",
            "\u001b[?25hCollecting dwave-hybrid==0.5.0\n",
            "\u001b[?25l  Downloading https://files.pythonhosted.org/packages/53/ac/c2bbc441d4bf34df2af2f0b08ce02fca423346f75f6e9ed0f8085367bad0/dwave_hybrid-0.5.0-py3-none-any.whl (90kB)\n",
            "\u001b[K     |████████████████████████████████| 92kB 7.7MB/s \n",
            "\u001b[?25hCollecting dwave-neal==0.5.4\n",
            "\u001b[?25l  Downloading https://files.pythonhosted.org/packages/c6/14/964a6a7aff39d97fbcb9ff82a4525a484d301468048a706be3dcc5be64ca/dwave_neal-0.5.4-cp36-cp36m-manylinux1_x86_64.whl (390kB)\n",
            "\u001b[K     |████████████████████████████████| 399kB 53.5MB/s \n",
            "\u001b[?25hCollecting penaltymodel-mip==0.2.3; platform_machine == \"x86_64\" or platform_machine == \"amd64\" or platform_machine == \"AMD64\"\n",
            "  Downloading https://files.pythonhosted.org/packages/7d/f5/fa3cc200983692675fdb07c57d6e28ee0b07a98e7ec0955f4d45ab7c4764/penaltymodel_mip-0.2.3-py3-none-any.whl\n",
            "Requirement already satisfied: networkx<3.0,>=2.0 in /usr/local/lib/python3.6/dist-packages (from penaltymodel==0.16.3->dwave-ocean-sdk) (2.4)\n",
            "Requirement already satisfied: six<2.0.0,>=1.11.0 in /usr/local/lib/python3.6/dist-packages (from penaltymodel==0.16.3->dwave-ocean-sdk) (1.15.0)\n",
            "Requirement already satisfied: numpy<2.0.0,>=1.14.0 in /usr/local/lib/python3.6/dist-packages (from pyqubo>=0.4.0->dwave-ocean-sdk) (1.18.5)\n",
            "Collecting importlib-resources; python_version < \"3.7\"\n",
            "  Downloading https://files.pythonhosted.org/packages/ba/03/0f9595c0c2ef12590877f3c47e5f579759ce5caf817f8256d5dcbd8a1177/importlib_resources-3.0.0-py2.py3-none-any.whl\n",
            "Requirement already satisfied: Flask>=1.1.1 in /usr/local/lib/python3.6/dist-packages (from dwave-inspector==0.2.2->dwave-ocean-sdk) (1.1.2)\n",
            "Requirement already satisfied: requests[socks]>=2.18 in /usr/local/lib/python3.6/dist-packages (from dwave-cloud-client==0.7.4->dwave-ocean-sdk) (2.23.0)\n",
            "Requirement already satisfied: click>=7.0 in /usr/local/lib/python3.6/dist-packages (from dwave-cloud-client==0.7.4->dwave-ocean-sdk) (7.1.2)\n",
            "Collecting plucky>=0.4.3\n",
            "  Downloading https://files.pythonhosted.org/packages/d8/70/7b43e7280284bafecb345f4edb3eea7042cf0d089c5d112920eda650fda5/plucky-0.4.3-py2.py3-none-any.whl\n",
            "Collecting homebase>=1.0\n",
            "  Downloading https://files.pythonhosted.org/packages/50/ad/e0080c35bd177682d5118a95bc2e7c1ac0541394b4ffce5e9554b6a077f9/homebase-1.0.1-py2.py3-none-any.whl\n",
            "Requirement already satisfied: python-dateutil>=2.7 in /usr/local/lib/python3.6/dist-packages (from dwave-cloud-client==0.7.4->dwave-ocean-sdk) (2.8.1)\n",
            "Requirement already satisfied: scipy<2.0.0,>=0.15.0 in /usr/local/lib/python3.6/dist-packages (from penaltymodel-lp==0.1.3->dwave-ocean-sdk) (1.4.1)\n",
            "Requirement already satisfied: decorator<5.0.0,>=4.1.0 in /usr/local/lib/python3.6/dist-packages (from dwave-networkx==0.8.6->dwave-ocean-sdk) (4.4.2)\n",
            "Collecting ortools<8.0.0,>=6.6.4659\n",
            "\u001b[?25l  Downloading https://files.pythonhosted.org/packages/6c/e9/57ee68e41e02b00836dbe61a4f9679c953623168dcca3a84e2cd16a3e9b2/ortools-7.8.7959-cp36-cp36m-manylinux1_x86_64.whl (32.7MB)\n",
            "\u001b[K     |████████████████████████████████| 32.7MB 130kB/s \n",
            "\u001b[?25hRequirement already satisfied: zipp>=0.4; python_version < \"3.8\" in /usr/local/lib/python3.6/dist-packages (from importlib-resources; python_version < \"3.7\"->dwave-inspector==0.2.2->dwave-ocean-sdk) (3.1.0)\n",
            "Requirement already satisfied: itsdangerous>=0.24 in /usr/local/lib/python3.6/dist-packages (from Flask>=1.1.1->dwave-inspector==0.2.2->dwave-ocean-sdk) (1.1.0)\n",
            "Requirement already satisfied: Jinja2>=2.10.1 in /usr/local/lib/python3.6/dist-packages (from Flask>=1.1.1->dwave-inspector==0.2.2->dwave-ocean-sdk) (2.11.2)\n",
            "Requirement already satisfied: Werkzeug>=0.15 in /usr/local/lib/python3.6/dist-packages (from Flask>=1.1.1->dwave-inspector==0.2.2->dwave-ocean-sdk) (1.0.1)\n",
            "Requirement already satisfied: idna<3,>=2.5 in /usr/local/lib/python3.6/dist-packages (from requests[socks]>=2.18->dwave-cloud-client==0.7.4->dwave-ocean-sdk) (2.10)\n",
            "Requirement already satisfied: chardet<4,>=3.0.2 in /usr/local/lib/python3.6/dist-packages (from requests[socks]>=2.18->dwave-cloud-client==0.7.4->dwave-ocean-sdk) (3.0.4)\n",
            "Requirement already satisfied: certifi>=2017.4.17 in /usr/local/lib/python3.6/dist-packages (from requests[socks]>=2.18->dwave-cloud-client==0.7.4->dwave-ocean-sdk) (2020.6.20)\n",
            "Requirement already satisfied: urllib3!=1.25.0,!=1.25.1,<1.26,>=1.21.1 in /usr/local/lib/python3.6/dist-packages (from requests[socks]>=2.18->dwave-cloud-client==0.7.4->dwave-ocean-sdk) (1.24.3)\n",
            "Requirement already satisfied: PySocks!=1.5.7,>=1.5.6; extra == \"socks\" in /usr/local/lib/python3.6/dist-packages (from requests[socks]>=2.18->dwave-cloud-client==0.7.4->dwave-ocean-sdk) (1.7.1)\n",
            "Requirement already satisfied: protobuf>=3.12.2 in /usr/local/lib/python3.6/dist-packages (from ortools<8.0.0,>=6.6.4659->penaltymodel-mip==0.2.3; platform_machine == \"x86_64\" or platform_machine == \"amd64\" or platform_machine == \"AMD64\"->dwave-ocean-sdk) (3.12.4)\n",
            "Requirement already satisfied: MarkupSafe>=0.23 in /usr/local/lib/python3.6/dist-packages (from Jinja2>=2.10.1->Flask>=1.1.1->dwave-inspector==0.2.2->dwave-ocean-sdk) (1.1.1)\n",
            "Requirement already satisfied: setuptools in /usr/local/lib/python3.6/dist-packages (from protobuf>=3.12.2->ortools<8.0.0,>=6.6.4659->penaltymodel-mip==0.2.3; platform_machine == \"x86_64\" or platform_machine == \"amd64\" or platform_machine == \"AMD64\"->dwave-ocean-sdk) (49.2.0)\n",
            "Building wheels for collected packages: pyqubo\n",
            "  Building wheel for pyqubo (setup.py) ... \u001b[?25l\u001b[?25hdone\n",
            "  Created wheel for pyqubo: filename=pyqubo-0.4.0-cp36-none-any.whl size=40712 sha256=d0e4d256c9aa4ffd2228b7d8d9696645ed006aeb22549faf2461c3d4a03f20b2\n",
            "  Stored in directory: /root/.cache/pip/wheels/77/b7/47/b989889699f788f4fecdc534bfddbb16df9a9a51f4e431b04d\n",
            "Successfully built pyqubo\n",
            "Installing collected packages: dimod, penaltymodel, dwave-neal, pyqubo, importlib-resources, plucky, homebase, dwave-cloud-client, dwave-tabu, minorminer, dwave-networkx, dwave-system, dwave-inspector, penaltymodel-cache, penaltymodel-lp, dwave-qbsolv, dwavebinarycsp, dwave-hybrid, ortools, penaltymodel-mip, dwave-ocean-sdk\n",
            "Successfully installed dimod-0.9.4 dwave-cloud-client-0.7.4 dwave-hybrid-0.5.0 dwave-inspector-0.2.2 dwave-neal-0.5.4 dwave-networkx-0.8.6 dwave-ocean-sdk-2.4.0 dwave-qbsolv-0.3.0 dwave-system-0.9.6 dwave-tabu-0.3.0 dwavebinarycsp-0.1.2 homebase-1.0.1 importlib-resources-3.0.0 minorminer-0.1.9 ortools-7.8.7959 penaltymodel-0.16.3 penaltymodel-cache-0.4.1 penaltymodel-lp-0.1.3 penaltymodel-mip-0.2.3 plucky-0.4.3 pyqubo-0.4.0\n"
          ],
          "name": "stdout"
        }
      ]
    },
    {
      "cell_type": "code",
      "metadata": {
        "id": "LQEiqo2VBDaD",
        "colab_type": "code",
        "colab": {
          "base_uri": "https://localhost:8080/",
          "height": 527
        },
        "outputId": "72cd92de-3ddb-4ad2-e92e-b26369fdd51f"
      },
      "source": [
        "!dwave setup"
      ],
      "execution_count": null,
      "outputs": [
        {
          "output_type": "stream",
          "text": [
            "Optionally install non-open-source packages and configure your environment.\n",
            "\n",
            "Do you want to select non-open-source packages to install (y/n)? [y]: y\n",
            "\n",
            "D-Wave Drivers\n",
            "These drivers enable some automated performance-tuning features.\n",
            "This package is available under the D-Wave EULA license.\n",
            "The terms of the license are available online: https://docs.ocean.dwavesys.com/eula\n",
            "Install (y/n)? [y]: y\n",
            "Installing: D-Wave Drivers\n",
            "Successfully installed D-Wave Drivers.\n",
            "\n",
            "D-Wave Problem Inspector\n",
            "This tool visualizes problems submitted to the quantum computer and the results returned.\n",
            "This package is available under the D-Wave EULA license.\n",
            "The terms of the license are available online: https://docs.ocean.dwavesys.com/eula\n",
            "Install (y/n)? [y]: y\n",
            "Installing: D-Wave Problem Inspector\n",
            "Successfully installed D-Wave Problem Inspector.\n",
            "\n",
            "Creating the D-Wave configuration file.\n",
            "Configuration file not found; the default location is: /root/.config/dwave/dwave.conf\n",
            "Configuration file path [/root/.config/dwave/dwave.conf]: \n",
            "Configuration file path does not exist. Create it? [y/N]: y\n",
            "Profile (create new) [prod]: \n",
            "API endpoint URL [skip]: \n",
            "Authentication token [skip]: CV19-1122fdf8a51f88913cb1641aaec175b4729a3bc4\n",
            "Default client class [skip]: \n",
            "Default solver [skip]: \n",
            "Configuration saved.\n"
          ],
          "name": "stdout"
        }
      ]
    },
    {
      "cell_type": "markdown",
      "metadata": {
        "id": "jwRMBsSidPaC",
        "colab_type": "text"
      },
      "source": [
        "##Imports"
      ]
    },
    {
      "cell_type": "code",
      "metadata": {
        "id": "qkZhIWiUdOQ0",
        "colab_type": "code",
        "colab": {
          "base_uri": "https://localhost:8080/",
          "height": 190
        },
        "outputId": "cb9f10eb-e424-4382-c38e-972c553d15f3"
      },
      "source": [
        "from __future__ import print_function, division\n",
        "from google.colab import drive\n",
        "drive.mount('/content/drive', force_remount = True)\n",
        "\n",
        "\n",
        "!pip install -q git+https://github.com/tensorflow/examples.git\n",
        "\n",
        "import glob\n",
        "import pandas  as pd\n",
        "import numpy   as np\n",
        "import nibabel as nib\n",
        "import matplotlib.pyplot as plt\n",
        "import tensorflow as tf\n",
        "from tensorflow.keras import datasets, layers, models\n",
        "from tensorflow.keras.preprocessing.image import ImageDataGenerator\n",
        "from zipfile import ZipFile\n",
        "from shutil import copyfile, copyfileobj\n",
        "import gzip\n",
        "from tensorflow_examples.models.pix2pix import pix2pix\n",
        "from IPython.display import clear_output\n",
        "from PIL import Image\n",
        "import os\n",
        "import matplotlib.image as mpimg\n",
        "from scipy.ndimage import zoom\n",
        "\n",
        "\n",
        "print(\"Version: \", tf.__version__)\n",
        "print(\"Eager mode: \", tf.executing_eagerly())\n",
        "print(\"GPU is\", \"available\" if tf.config.experimental.list_physical_devices(\"GPU\") else \"NOT AVAILABLE\")"
      ],
      "execution_count": null,
      "outputs": [
        {
          "output_type": "stream",
          "text": [
            "Go to this URL in a browser: https://accounts.google.com/o/oauth2/auth?client_id=947318989803-6bn6qk8qdgf4n4g3pfee6491hc0brc4i.apps.googleusercontent.com&redirect_uri=urn%3aietf%3awg%3aoauth%3a2.0%3aoob&scope=email%20https%3a%2f%2fwww.googleapis.com%2fauth%2fdocs.test%20https%3a%2f%2fwww.googleapis.com%2fauth%2fdrive%20https%3a%2f%2fwww.googleapis.com%2fauth%2fdrive.photos.readonly%20https%3a%2f%2fwww.googleapis.com%2fauth%2fpeopleapi.readonly&response_type=code\n",
            "\n",
            "Enter your authorization code:\n",
            "··········\n",
            "Mounted at /content/drive\n",
            "  Building wheel for tensorflow-examples (setup.py) ... \u001b[?25l\u001b[?25hdone\n",
            "Version:  2.3.0\n",
            "Eager mode:  True\n",
            "GPU is NOT AVAILABLE\n"
          ],
          "name": "stdout"
        }
      ]
    },
    {
      "cell_type": "code",
      "metadata": {
        "id": "UucbZhgaicU8",
        "colab_type": "code",
        "colab": {}
      },
      "source": [
        "\n",
        "import sys\n",
        "sys.path.append(\"/content/drive/My Drive/Colab Notebooks/qboost\")\n",
        "\n",
        "from sklearn import preprocessing, metrics\n",
        "from sklearn.ensemble import AdaBoostClassifier\n",
        "from sklearn.datasets import load_breast_cancer, fetch_openml\n",
        "from sklearn.impute import SimpleImputer\n",
        "from dwave.system.samplers import DWaveSampler\n",
        "from dwave.system.composites import EmbeddingComposite\n",
        "from qboost import WeakClassifiers, QBoostClassifier, QboostPlus"
      ],
      "execution_count": null,
      "outputs": []
    },
    {
      "cell_type": "markdown",
      "metadata": {
        "id": "8OwN17DHfDqw",
        "colab_type": "text"
      },
      "source": [
        "##Classifier function"
      ]
    },
    {
      "cell_type": "code",
      "metadata": {
        "id": "QpYre9IgNycm",
        "colab_type": "code",
        "colab": {}
      },
      "source": [
        "def metric(y, y_pred):\n",
        "\n",
        "    return metrics.accuracy_score(y, y_pred)\n"
      ],
      "execution_count": null,
      "outputs": []
    },
    {
      "cell_type": "code",
      "metadata": {
        "id": "an95Xz-FfHhM",
        "colab_type": "code",
        "colab": {}
      },
      "source": [
        "def train_model(X_train, y_train, X_test, y_test, lmd):\n",
        "    \"\"\"\n",
        "    Train qboost model\n",
        "\n",
        "    :param X_train: train input\n",
        "    :param y_train: train label\n",
        "    :param X_test: test input\n",
        "    :param y_test: test label\n",
        "    :param lmd: lmbda to control regularization term\n",
        "    :return:\n",
        "    \"\"\"\n",
        "    NUM_READS = 3000\n",
        "    NUM_WEAK_CLASSIFIERS = 50\n",
        "    # lmd = 0.5\n",
        "    TREE_DEPTH = 3\n",
        "\n",
        "    # define sampler\n",
        "    dwave_sampler = DWaveSampler(solver={'qpu': True})\n",
        "    # sa_sampler = micro.dimod.SimulatedAnnealingSampler()\n",
        "    emb_sampler = EmbeddingComposite(dwave_sampler)\n",
        "\n",
        "    N_train = len(X_train)\n",
        "    N_test = len(X_test)\n",
        "\n",
        "    print(\"\\n======================================\")\n",
        "    print(\"Train#: %d, Test: %d\" %(N_train, N_test))\n",
        "    print('Num weak classifiers:', NUM_WEAK_CLASSIFIERS)\n",
        "    print('Tree depth:', TREE_DEPTH)\n",
        "\n",
        "\n",
        "    # input: dataset X and labels y (in {+1, -1}\n",
        "\n",
        "    # Preprocessing data\n",
        "    # imputer = SimpleImputer()\n",
        "    scaler = preprocessing.StandardScaler()     # standardize features\n",
        "    normalizer = preprocessing.Normalizer()     # normalize samples\n",
        "\n",
        "    # X = imputer.fit_transform(X)\n",
        "    X_train = scaler.fit_transform(X_train)\n",
        "    X_train = normalizer.fit_transform(X_train)\n",
        "\n",
        "    # X_test = imputer.fit_transform(X_test)\n",
        "    X_test = scaler.fit_transform(X_test)\n",
        "    X_test = normalizer.fit_transform(X_test)\n",
        "\n",
        "    ## Adaboost\n",
        "    print('\\nAdaboost')\n",
        "\n",
        "    clf = AdaBoostClassifier(n_estimators=NUM_WEAK_CLASSIFIERS)\n",
        "\n",
        "    # scores = cross_val_score(clf, X, y, cv=5, scoring='accuracy')\n",
        "    print('fitting...')\n",
        "    clf.fit(X_train, y_train)\n",
        "\n",
        "    hypotheses_ada = clf.estimators_\n",
        "    # clf.estimator_weights_ = np.random.uniform(0,1,size=NUM_WEAK_CLASSIFIERS)\n",
        "    print('testing...')\n",
        "    y_train_pred = clf.predict(X_train)\n",
        "    y_test_pred = clf.predict(X_test)\n",
        "\n",
        "    print('accu (train): %5.2f'%(metric(y_train, y_train_pred)))\n",
        "    print('accu (test): %5.2f'%(metric(y_test, y_test_pred)))\n",
        "\n",
        "    # Ensembles of Decision Tree\n",
        "    print('\\nDecision tree')\n",
        "\n",
        "    clf2 = WeakClassifiers(n_estimators=NUM_WEAK_CLASSIFIERS, max_depth=TREE_DEPTH)\n",
        "    clf2.fit(X_train, y_train)\n",
        "\n",
        "    y_train_pred2 = clf2.predict(X_train)\n",
        "    y_test_pred2 = clf2.predict(X_test)\n",
        "    print(clf2.estimator_weights)\n",
        "\n",
        "    print('accu (train): %5.2f' % (metric(y_train, y_train_pred2)))\n",
        "    print('accu (test): %5.2f' % (metric(y_test, y_test_pred2)))\n",
        "\n",
        "    # Ensembles of Decision Tree\n",
        "    print('\\nQBoost')\n",
        "\n",
        "    DW_PARAMS = {'num_reads': NUM_READS,\n",
        "                 'auto_scale': True,\n",
        "                 # \"answer_mode\": \"histogram\",\n",
        "                 'num_spin_reversal_transforms': 10,\n",
        "                 # 'annealing_time': 10,\n",
        "                 'postprocess': 'optimization',\n",
        "                 }\n",
        "\n",
        "    clf3 = QBoostClassifier(n_estimators=NUM_WEAK_CLASSIFIERS, max_depth=TREE_DEPTH)\n",
        "    clf3.fit(X_train, y_train, emb_sampler, lmd=lmd, **DW_PARAMS)\n",
        "\n",
        "    y_train_dw = clf3.predict(X_train)\n",
        "    y_test_dw = clf3.predict(X_test)\n",
        "\n",
        "    print(clf3.estimator_weights)\n",
        "\n",
        "    print('accu (train): %5.2f' % (metric(y_train, y_train_dw)))\n",
        "    print('accu (test): %5.2f' % (metric(y_test, y_test_dw)))\n",
        "\n",
        "\n",
        "    # Ensembles of Decision Tree\n",
        "    print('\\nQBoostPlus')\n",
        "    clf4 = QboostPlus([clf, clf2, clf3])\n",
        "    clf4.fit(X_train, y_train, emb_sampler, lmd=lmd, **DW_PARAMS)\n",
        "    y_train4 = clf4.predict(X_train)\n",
        "    y_test4 = clf4.predict(X_test)\n",
        "    print(clf4.estimator_weights)\n",
        "\n",
        "    print('accu (train): %5.2f' % (metric(y_train, y_train4)))\n",
        "    print('accu (test): %5.2f' % (metric(y_test, y_test4)))\n",
        "\n",
        "\n",
        "    print(\"=============================================\")\n",
        "    print(\"Method \\t Adaboost \\t DecisionTree \\t Qboost \\t QboostIt\")\n",
        "    print(\"Train\\t %5.2f \\t\\t %5.2f \\t\\t\\t %5.2f \\t\\t %5.2f\"% (metric(y_train, y_train_pred),\n",
        "                                                               metric(y_train, y_train_pred2),\n",
        "                                                               metric(y_train, y_train_dw),\n",
        "                                                               metric(y_train, y_train4)))\n",
        "    print(\"Test\\t %5.2f \\t\\t %5.2f \\t\\t\\t %5.2f \\t\\t %5.2f\"% (metric(y_test, y_test_pred),\n",
        "                                                              metric(y_test,y_test_pred2),\n",
        "                                                              metric(y_test, y_test_dw),\n",
        "                                                              metric(y_test, y_test4)))\n",
        "    print(\"=============================================\")\n",
        "\n",
        "    # plt.subplot(211)\n",
        "    # plt.bar(range(len(y_test)), y_test)\n",
        "    # plt.subplot(212)\n",
        "    # plt.bar(range(len(y_test)), y_test_dw)\n",
        "    # plt.show()\n",
        "\n",
        "    return\n"
      ],
      "execution_count": null,
      "outputs": []
    },
    {
      "cell_type": "markdown",
      "metadata": {
        "id": "Kk_o2hrmfWtT",
        "colab_type": "text"
      },
      "source": [
        "##Calling the classifier with relevant data"
      ]
    },
    {
      "cell_type": "code",
      "metadata": {
        "id": "ylAtq1uUCzfU",
        "colab_type": "code",
        "colab": {}
      },
      "source": [
        "# #del ncp_scan_list\n",
        "# del ncp_scan_list\n",
        "# #del normal_scan_list\n",
        "# del normal_scan_list\n",
        "# #del ncp_dataset_list\n",
        "# #del normal_dataset_list\n",
        "\n"
      ],
      "execution_count": null,
      "outputs": []
    },
    {
      "cell_type": "code",
      "metadata": {
        "id": "D0wZKPRqfeXb",
        "colab_type": "code",
        "colab": {
          "base_uri": "https://localhost:8080/",
          "height": 34
        },
        "outputId": "5847171c-c987-4938-cdcc-42253e819dfb"
      },
      "source": [
        "n_train = 0.8\n",
        "n_test = 0.2\n",
        "path_ncp = '/content/drive/My Drive/Colab Notebooks/COVID19-1/NCP/'\n",
        "path_cp = '/content/drive/My Drive/Colab Notebooks/CP/'\n",
        "path_normal = '/content/drive/My Drive/Colab Notebooks/Ordered/'\n",
        "path_ncp_save = '/content/drive/My Drive/Colab Notebooks/Masks_final/NCP'\n",
        "path_cp_save = '/content/drive/My Drive/Colab Notebooks/Masks_final/CP'\n",
        "path_normal_save = '/content/drive/My Drive/Colab Notebooks/Masks_final/Normal'\n",
        "n_ncp = 30\n",
        "n_cp = 30\n",
        "n_normal = 50\n",
        "masks_ncp = []\n",
        "masks_cp = []\n",
        "#masks_normal = []\n",
        "def mask_reader(path,n):\n",
        "  mask_list = []\n",
        "  for i,p in enumerate(os.listdir(path)):\n",
        "    if i>=n:\n",
        "      break\n",
        "    mask = np.load(path + '/' + p)\n",
        "    mask_list.append(mask)\n",
        "    #print(mask.shape)\n",
        "  return mask_list\n",
        "\n",
        "masks_ncp = mask_reader(path_ncp_save,n_ncp)\n",
        "masks_cp = mask_reader(path_cp_save,n_cp)\n",
        "#masks_normal = mask_reader(path_normal_save,n_normal)\n",
        "\n",
        "patient_list = []\n",
        "\n",
        "for mask in masks_ncp:\n",
        "  patient_label = {}\n",
        "  patient_label['mask'] = mask\n",
        "  patient_label['label'] = 1\n",
        "  patient_list.append(patient_label)\n",
        "  del patient_label\n",
        "\n",
        "del masks_ncp\n",
        "\n",
        "for mask in masks_cp:\n",
        "  patient_label = {}\n",
        "  patient_label['mask'] = mask\n",
        "  patient_label['label'] = -1\n",
        "  patient_list.append(patient_label)\n",
        "  del patient_label\n",
        "\n",
        "del masks_cp\n",
        "\n",
        "# for mask in masks_normal:\n",
        "#   patient_label = {}\n",
        "#   patient_label['mask'] = mask\n",
        "#   patient_label['label'] = -1\n",
        "#   patient_list.append(patient_label)\n",
        "#   del patient_label\n",
        "\n",
        "# del masks_normal\n",
        "\n",
        "print(len(patient_list))\n"
      ],
      "execution_count": null,
      "outputs": [
        {
          "output_type": "stream",
          "text": [
            "60\n"
          ],
          "name": "stdout"
        }
      ]
    },
    {
      "cell_type": "code",
      "metadata": {
        "id": "fbh4aqugpqI7",
        "colab_type": "code",
        "colab": {
          "base_uri": "https://localhost:8080/",
          "height": 34
        },
        "outputId": "8c984da1-1010-482c-e207-b7b5b2a0eb7f"
      },
      "source": [
        "patient_list[5]['label']"
      ],
      "execution_count": null,
      "outputs": [
        {
          "output_type": "execute_result",
          "data": {
            "text/plain": [
              "1"
            ]
          },
          "metadata": {
            "tags": []
          },
          "execution_count": 9
        }
      ]
    },
    {
      "cell_type": "code",
      "metadata": {
        "id": "vv9C5DslE508",
        "colab_type": "code",
        "colab": {}
      },
      "source": [
        "import random\n",
        "random.shuffle(patient_list)\n"
      ],
      "execution_count": null,
      "outputs": []
    },
    {
      "cell_type": "code",
      "metadata": {
        "id": "S-WF_UGRM32Q",
        "colab_type": "code",
        "colab": {
          "base_uri": "https://localhost:8080/",
          "height": 1000
        },
        "outputId": "b76a4339-9069-48db-92cd-dfd49c3141b0"
      },
      "source": [
        "for i in patient_list:\n",
        "  print(i['label'])"
      ],
      "execution_count": null,
      "outputs": [
        {
          "output_type": "stream",
          "text": [
            "-1\n",
            "1\n",
            "1\n",
            "-1\n",
            "-1\n",
            "-1\n",
            "1\n",
            "1\n",
            "1\n",
            "-1\n",
            "-1\n",
            "-1\n",
            "1\n",
            "-1\n",
            "-1\n",
            "1\n",
            "1\n",
            "-1\n",
            "-1\n",
            "-1\n",
            "1\n",
            "-1\n",
            "-1\n",
            "1\n",
            "-1\n",
            "-1\n",
            "-1\n",
            "-1\n",
            "1\n",
            "-1\n",
            "1\n",
            "-1\n",
            "-1\n",
            "1\n",
            "-1\n",
            "-1\n",
            "1\n",
            "1\n",
            "1\n",
            "1\n",
            "1\n",
            "1\n",
            "1\n",
            "1\n",
            "-1\n",
            "1\n",
            "1\n",
            "1\n",
            "-1\n",
            "-1\n",
            "1\n",
            "1\n",
            "1\n",
            "1\n",
            "-1\n",
            "-1\n",
            "-1\n",
            "-1\n",
            "1\n",
            "1\n"
          ],
          "name": "stdout"
        }
      ]
    },
    {
      "cell_type": "code",
      "metadata": {
        "id": "NIeTiuGUFEQu",
        "colab_type": "code",
        "colab": {
          "base_uri": "https://localhost:8080/",
          "height": 34
        },
        "outputId": "fac67b2c-2690-41a3-8c2b-ffa4e0fb8030"
      },
      "source": [
        "n_total = len(patient_list)\n",
        "train_data = patient_list[:round(n_train*n_total)]\n",
        "test_data = patient_list[round(n_train*n_total):]\n",
        "print(len(train_data),len(test_data))"
      ],
      "execution_count": null,
      "outputs": [
        {
          "output_type": "stream",
          "text": [
            "48 12\n"
          ],
          "name": "stdout"
        }
      ]
    },
    {
      "cell_type": "code",
      "metadata": {
        "id": "JJCIBER8FZiS",
        "colab_type": "code",
        "colab": {
          "base_uri": "https://localhost:8080/",
          "height": 34
        },
        "outputId": "8a0672a4-5dd0-4b69-f5e7-bd94deb2fe86"
      },
      "source": [
        "print(type(train_data[0]['mask']),type(train_data[0]['label']))\n",
        "del patient_list"
      ],
      "execution_count": null,
      "outputs": [
        {
          "output_type": "stream",
          "text": [
            "<class 'numpy.ndarray'> <class 'int'>\n"
          ],
          "name": "stdout"
        }
      ]
    },
    {
      "cell_type": "code",
      "metadata": {
        "id": "R3EowwhpFiwe",
        "colab_type": "code",
        "colab": {
          "base_uri": "https://localhost:8080/",
          "height": 34
        },
        "outputId": "176e3d4b-22af-4824-fac5-55319414ce1c"
      },
      "source": [
        "print(train_data[0]['mask'].shape,train_data[1]['mask'].shape)"
      ],
      "execution_count": null,
      "outputs": [
        {
          "output_type": "stream",
          "text": [
            "(224, 224, 90) (224, 224, 90)\n"
          ],
          "name": "stdout"
        }
      ]
    },
    {
      "cell_type": "code",
      "metadata": {
        "id": "PgeQ85r6-AkF",
        "colab_type": "code",
        "colab": {
          "base_uri": "https://localhost:8080/",
          "height": 1000
        },
        "outputId": "92fa6e4c-910c-444d-84a9-8a76c123f072"
      },
      "source": [
        "local_vars = list(locals().items())\n",
        "for var, obj in local_vars:\n",
        "    print(var, sys.getsizeof(obj))"
      ],
      "execution_count": null,
      "outputs": [
        {
          "output_type": "stream",
          "text": [
            "__name__ 57\n",
            "__doc__ 113\n",
            "__package__ 16\n",
            "__loader__ 16\n",
            "__spec__ 16\n",
            "__builtin__ 80\n",
            "__builtins__ 80\n",
            "_ih 192\n",
            "_oh 240\n",
            "_dh 72\n",
            "_sh 80\n",
            "In 192\n",
            "Out 240\n",
            "get_ipython 64\n",
            "exit 56\n",
            "quit 56\n",
            "_ 28\n",
            "__ 53\n",
            "___ 53\n",
            "_i 111\n",
            "_ii 129\n",
            "_iii 215\n",
            "_i1 77\n",
            "_exit_code 24\n",
            "_i2 61\n",
            "_i3 960\n",
            "print_function 56\n",
            "division 56\n",
            "drive 80\n",
            "glob 80\n",
            "pd 80\n",
            "np 80\n",
            "nib 80\n",
            "plt 80\n",
            "tf 80\n",
            "datasets 80\n",
            "layers 80\n",
            "models 80\n",
            "ImageDataGenerator 1056\n",
            "ZipFile 1056\n",
            "copyfile 136\n",
            "copyfileobj 136\n",
            "gzip 80\n",
            "pix2pix 80\n",
            "clear_output 136\n",
            "Image 80\n",
            "os 80\n",
            "mpimg 80\n",
            "zoom 136\n",
            "_i4 488\n",
            "sys 80\n",
            "preprocessing 80\n",
            "metrics 80\n",
            "AdaBoostClassifier 1056\n",
            "load_breast_cancer 136\n",
            "fetch_openml 136\n",
            "SimpleImputer 1056\n",
            "DWaveSampler 1056\n",
            "EmbeddingComposite 1056\n",
            "WeakClassifiers 1056\n",
            "QBoostClassifier 1056\n",
            "QboostPlus 1056\n",
            "_i5 117\n",
            "metric 136\n",
            "_i6 4597\n",
            "train_model 136\n",
            "_i7 187\n",
            "_i8 1525\n",
            "n_train 24\n",
            "n_test 24\n",
            "path_ncp 103\n",
            "path_cp 92\n",
            "path_normal 97\n",
            "path_ncp_save 104\n",
            "path_cp_save 103\n",
            "path_normal_save 107\n",
            "n_ncp 28\n",
            "n_cp 28\n",
            "n_normal 28\n",
            "mask_reader 136\n",
            "mask 36126848\n",
            "_i9 73\n",
            "_9 28\n",
            "_i10 91\n",
            "random 80\n",
            "_i11 91\n",
            "i 240\n",
            "_i12 215\n",
            "n_total 28\n",
            "train_data 448\n",
            "test_data 160\n",
            "_i13 129\n",
            "_i14 111\n",
            "_i15 147\n"
          ],
          "name": "stdout"
        }
      ]
    },
    {
      "cell_type": "code",
      "metadata": {
        "id": "qXGkpEX6HH_e",
        "colab_type": "code",
        "colab": {}
      },
      "source": [
        "del mask\n",
        "# pad = np.zeros((224,224))\n",
        "# max = 0\n",
        "# for i in train_data:\n",
        "#   if i['mask'].shape[2] > max:\n",
        "#     max = i['mask'].shape[2]\n",
        "# for i in test_data:\n",
        "#   if i['mask'].shape[2] > max:\n",
        "#     max = i['mask'].shape[2]\n",
        "\n",
        "# print(max)"
      ],
      "execution_count": null,
      "outputs": []
    },
    {
      "cell_type": "code",
      "metadata": {
        "id": "ozGQ-iCgJ1t8",
        "colab_type": "code",
        "colab": {}
      },
      "source": [
        "# for i in train_data:\n",
        "#   if i['mask'].shape[2] < max:\n",
        "#     temp = np.zeros((224,224,max))\n",
        "#     temp_size = round((max - i['mask'].shape[2])/2.0)\n",
        "#     temp[:,:,temp_size:(temp_size+i['mask'].shape[2])] = i['mask']\n",
        "#     i['mask'] = temp"
      ],
      "execution_count": null,
      "outputs": []
    },
    {
      "cell_type": "code",
      "metadata": {
        "id": "M5orqY4mK3QH",
        "colab_type": "code",
        "colab": {}
      },
      "source": [
        "# for i in test_data:\n",
        "#   if i['mask'].shape[2] < max:\n",
        "#     temp = np.zeros((224,224,max))\n",
        "#     temp_size = round((max - i['mask'].shape[2])/2.0)\n",
        "#     temp[:,:,temp_size:(temp_size+i['mask'].shape[2])] = i['mask']\n",
        "#     i['mask'] = temp"
      ],
      "execution_count": null,
      "outputs": []
    },
    {
      "cell_type": "code",
      "metadata": {
        "id": "KNpkoZ11LG_-",
        "colab_type": "code",
        "colab": {}
      },
      "source": [
        "Height = 224\n",
        "Width = 224\n",
        "for i in train_data:\n",
        "  i['mask'] = np.reshape(i['mask'],(Height*Width*90,))\n",
        "for i in test_data:\n",
        "  i['mask'] = np.reshape(i['mask'],(Height*Width*90,))\n"
      ],
      "execution_count": null,
      "outputs": []
    },
    {
      "cell_type": "code",
      "metadata": {
        "id": "4VDLJLPsLRtd",
        "colab_type": "code",
        "colab": {}
      },
      "source": [
        "X_train = np.zeros((round(n_total*n_train),Height*Width*90))\n",
        "Y_train = np.zeros((round(n_total*n_train),))\n",
        "X_test = np.zeros((n_total - round(n_total*n_train),Height*Width*90))\n",
        "Y_test = np.zeros((n_total - round(n_total*n_train),))\n",
        "\n",
        "\n",
        "for idx,i in enumerate(train_data):\n",
        "  X_train[idx,:] = i['mask']\n",
        "  Y_train[idx] = i['label']\n",
        "\n",
        "for idx,i in enumerate(test_data):\n",
        "  X_test[idx,:] = i['mask']\n",
        "  Y_test[idx] = i['label']\n"
      ],
      "execution_count": null,
      "outputs": []
    },
    {
      "cell_type": "code",
      "metadata": {
        "id": "BwMHOs9jMg9S",
        "colab_type": "code",
        "colab": {
          "base_uri": "https://localhost:8080/",
          "height": 102
        },
        "outputId": "e1c77a2d-7e3f-40a6-827a-cf1c1a48a845"
      },
      "source": [
        "print(X_train.shape,Y_train.shape)\n",
        "print(X_test.shape,Y_test.shape)\n",
        "print(Y_train,Y_test)"
      ],
      "execution_count": null,
      "outputs": [
        {
          "output_type": "stream",
          "text": [
            "(48, 4515840) (48,)\n",
            "(12, 4515840) (12,)\n",
            "[-1.  1.  1. -1. -1. -1.  1.  1.  1. -1. -1. -1.  1. -1. -1.  1.  1. -1.\n",
            " -1. -1.  1. -1. -1.  1. -1. -1. -1. -1.  1. -1.  1. -1. -1.  1. -1. -1.\n",
            "  1.  1.  1.  1.  1.  1.  1.  1. -1.  1.  1.  1.] [-1. -1.  1.  1.  1.  1. -1. -1. -1. -1.  1.  1.]\n"
          ],
          "name": "stdout"
        }
      ]
    },
    {
      "cell_type": "code",
      "metadata": {
        "id": "h7kR63r--Rh0",
        "colab_type": "code",
        "colab": {
          "base_uri": "https://localhost:8080/",
          "height": 180
        },
        "outputId": "7b9776c9-1cbb-459e-9b2a-966a94c6995d"
      },
      "source": [
        "del train_data\n",
        "del test_data"
      ],
      "execution_count": null,
      "outputs": [
        {
          "output_type": "error",
          "ename": "NameError",
          "evalue": "ignored",
          "traceback": [
            "\u001b[0;31m---------------------------------------------------------------------------\u001b[0m",
            "\u001b[0;31mNameError\u001b[0m                                 Traceback (most recent call last)",
            "\u001b[0;32m<ipython-input-23-95d29dda9a3b>\u001b[0m in \u001b[0;36m<module>\u001b[0;34m()\u001b[0m\n\u001b[0;32m----> 1\u001b[0;31m \u001b[0;32mdel\u001b[0m \u001b[0mtrain_data\u001b[0m\u001b[0;34m\u001b[0m\u001b[0;34m\u001b[0m\u001b[0m\n\u001b[0m\u001b[1;32m      2\u001b[0m \u001b[0;32mdel\u001b[0m \u001b[0mtest_data\u001b[0m\u001b[0;34m\u001b[0m\u001b[0;34m\u001b[0m\u001b[0m\n",
            "\u001b[0;31mNameError\u001b[0m: name 'train_data' is not defined"
          ]
        }
      ]
    },
    {
      "cell_type": "code",
      "metadata": {
        "id": "o9V1Uo4yMH5g",
        "colab_type": "code",
        "colab": {
          "base_uri": "https://localhost:8080/",
          "height": 697
        },
        "outputId": "83c17ad3-0595-410a-e3ef-cdee6ba67980"
      },
      "source": [
        "clfs = train_model(X_train, Y_train, X_test, Y_test, 1.0)\n"
      ],
      "execution_count": null,
      "outputs": [
        {
          "output_type": "stream",
          "text": [
            "\n",
            "======================================\n",
            "Train#: 48, Test: 12\n",
            "Num weak classifiers: 50\n",
            "Tree depth: 3\n",
            "\n",
            "Adaboost\n",
            "fitting...\n",
            "testing...\n",
            "accu (train):  1.00\n",
            "accu (test):  0.33\n",
            "\n",
            "Decision tree\n",
            "[23.02585093 23.02585093 23.02585093 23.02585093 23.02585093 23.02585093\n",
            " 23.02585093 23.02585093 23.02585093 23.02585093 23.02585093 23.02585093\n",
            " 23.02585093 23.02585093 23.02585093 23.02585093 23.02585093 23.02585093\n",
            " 23.02585093 23.02585093 23.02585093 23.02585093 23.02585093 23.02585093\n",
            " 23.02585093 23.02585093 23.02585093 23.02585093 23.02585093 23.02585093\n",
            " 23.02585093 23.02585093 23.02585093 23.02585093 23.02585093 23.02585093\n",
            " 23.02585093 23.02585093 23.02585093 23.02585093 23.02585093 23.02585093\n",
            " 23.02585093 23.02585093 23.02585093 23.02585093 23.02585093 23.02585093\n",
            " 23.02585093 23.02585093]\n",
            "accu (train):  1.00\n",
            "accu (test):  0.50\n",
            "\n",
            "QBoost\n",
            "[1 1 1 1 1 1 1 0 1 1 1 0 1 0 0 1 0 1 1 1 1 1 1 1 1 1 1 1 1 1 1 1 1 1 1 1 1\n",
            " 1 1 0 1 1 1 1 1 0 1 1 1 1]\n",
            "accu (train):  1.00\n",
            "accu (test):  0.67\n",
            "\n",
            "QBoostPlus\n",
            "[1 1 1]\n",
            "accu (train):  1.00\n",
            "accu (test):  0.50\n",
            "=============================================\n",
            "Method \t Adaboost \t DecisionTree \t Qboost \t QboostIt\n",
            "Train\t  1.00 \t\t  1.00 \t\t\t  1.00 \t\t  1.00\n",
            "Test\t  0.33 \t\t  0.50 \t\t\t  0.67 \t\t  0.50\n",
            "=============================================\n"
          ],
          "name": "stdout"
        }
      ]
    },
    {
      "cell_type": "code",
      "metadata": {
        "id": "cFgFfuTXq_I9",
        "colab_type": "code",
        "colab": {}
      },
      "source": [
        ""
      ],
      "execution_count": null,
      "outputs": []
    }
  ]
}