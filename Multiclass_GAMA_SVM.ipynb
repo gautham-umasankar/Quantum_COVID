{
  "nbformat": 4,
  "nbformat_minor": 0,
  "metadata": {
    "colab": {
      "name": "Multiclass GAMA_SVM.ipynb",
      "provenance": [],
      "collapsed_sections": [
        "PDi9NiTMU4Ac",
        "AM1wNR8iVOsL",
        "YqFOsx25JgwM",
        "ZGgZ_nxL5QOn",
        "nmk3m6LN5je2",
        "sV9ifYRI6Ny0",
        "gxHGHOnpM8oQ",
        "xS4-mVsYM_qQ",
        "hDAhytHNdKpS",
        "b1m3lBF_hKwO",
        "wI7Qrpu9Svwe",
        "PrkIqZMC6Uy9",
        "7zJevynX6yLD",
        "KxfV6yoBOgc4",
        "juvC1psXOu8q",
        "ES6kkI3CEWgF",
        "Ku64r63YnfHu",
        "QpZhe6MIgOBv",
        "4HhC2lZMEEpS",
        "71Het9dQW9ez",
        "kiDXqBPMFtV5",
        "MIdGp6xzgFTM",
        "DB8megAdUKRU",
        "DoxV0rVlP1qG"
      ],
      "include_colab_link": true
    },
    "kernelspec": {
      "display_name": "Python 3",
      "name": "python3"
    }
  },
  "cells": [
    {
      "cell_type": "markdown",
      "metadata": {
        "id": "view-in-github",
        "colab_type": "text"
      },
      "source": [
        "<a href=\"https://colab.research.google.com/github/gautham-umasankar/Quantum_COVID/blob/master/Multiclass_GAMA_SVM.ipynb\" target=\"_parent\"><img src=\"https://colab.research.google.com/assets/colab-badge.svg\" alt=\"Open In Colab\"/></a>"
      ]
    },
    {
      "cell_type": "markdown",
      "metadata": {
        "id": "dmREeQ127Myu"
      },
      "source": [
        "# Install"
      ]
    },
    {
      "cell_type": "markdown",
      "metadata": {
        "id": "fW6h6Um47h9O"
      },
      "source": [
        "DWave Installation\n",
        "API token: (will be present on your Dwave accounts' dashboard)\n",
        "\n",
        "For now, the default solver is the Advantage system, as seen below. For choosing different solvers, we can run !dwave setup and change the default solver, as per the information give below.\n",
        "\n",
        "Supported Solvers\n",
        "\n",
        "Solver_Name Description\n",
        "\n",
        "hybrid_binary_quadratic_model_version2 Hybrid solver for general BQM problems, version 2.0\n",
        "\n",
        "hybrid_discrete_quadratic_model_version1 Hybrid solver for general DQM problems, version 1.0\n",
        "\n",
        "hybrid_v1 Hybrid solver for general BQM problems, version 1.0 QPU\n",
        "\n",
        "Advantage_system1.1 Advantage system\n",
        "\n",
        "DW_2000Q_6 D-Wave 2000Q lower-noise system"
      ]
    },
    {
      "cell_type": "code",
      "metadata": {
        "colab": {
          "base_uri": "https://localhost:8080/"
        },
        "id": "5_1egGgH4_4t",
        "outputId": "352667df-0102-4723-ef62-95e9eb6f7ba9"
      },
      "source": [
        "!pip install dwave-ocean-sdk\n",
        "!dwave setup"
      ],
      "execution_count": null,
      "outputs": [
        {
          "output_type": "stream",
          "text": [
            "Requirement already satisfied: dwave-ocean-sdk in /usr/local/lib/python3.6/dist-packages (3.1.1)\n",
            "Requirement already satisfied: penaltymodel-mip==0.2.3; platform_machine == \"x86_64\" or platform_machine == \"amd64\" or platform_machine == \"AMD64\" in /usr/local/lib/python3.6/dist-packages (from dwave-ocean-sdk) (0.2.3)\n",
            "Requirement already satisfied: dwave-neal==0.5.6 in /usr/local/lib/python3.6/dist-packages (from dwave-ocean-sdk) (0.5.6)\n",
            "Requirement already satisfied: dwavebinarycsp==0.1.2 in /usr/local/lib/python3.6/dist-packages (from dwave-ocean-sdk) (0.1.2)\n",
            "Requirement already satisfied: penaltymodel-lp==0.1.3 in /usr/local/lib/python3.6/dist-packages (from dwave-ocean-sdk) (0.1.3)\n",
            "Requirement already satisfied: dimod==0.9.10 in /usr/local/lib/python3.6/dist-packages (from dwave-ocean-sdk) (0.9.10)\n",
            "Requirement already satisfied: dwave-greedy==0.1.1 in /usr/local/lib/python3.6/dist-packages (from dwave-ocean-sdk) (0.1.1)\n",
            "Requirement already satisfied: dwave-qbsolv==0.3.1 in /usr/local/lib/python3.6/dist-packages (from dwave-ocean-sdk) (0.3.1)\n",
            "Requirement already satisfied: dwave-hybrid==0.6.0 in /usr/local/lib/python3.6/dist-packages (from dwave-ocean-sdk) (0.6.0)\n",
            "Requirement already satisfied: dwave-inspector==0.2.4 in /usr/local/lib/python3.6/dist-packages (from dwave-ocean-sdk) (0.2.4)\n",
            "Requirement already satisfied: dwave-system==1.2.1 in /usr/local/lib/python3.6/dist-packages (from dwave-ocean-sdk) (1.2.1)\n",
            "Requirement already satisfied: penaltymodel==0.16.3 in /usr/local/lib/python3.6/dist-packages (from dwave-ocean-sdk) (0.16.3)\n",
            "Requirement already satisfied: pyqubo==0.4.0 in /usr/local/lib/python3.6/dist-packages (from dwave-ocean-sdk) (0.4.0)\n",
            "Requirement already satisfied: dwave-tabu==0.3.0 in /usr/local/lib/python3.6/dist-packages (from dwave-ocean-sdk) (0.3.0)\n",
            "Requirement already satisfied: penaltymodel-cache==0.4.1 in /usr/local/lib/python3.6/dist-packages (from dwave-ocean-sdk) (0.4.1)\n",
            "Requirement already satisfied: dwave-cloud-client==0.8.1 in /usr/local/lib/python3.6/dist-packages (from dwave-ocean-sdk) (0.8.1)\n",
            "Requirement already satisfied: minorminer==0.2.3 in /usr/local/lib/python3.6/dist-packages (from dwave-ocean-sdk) (0.2.3)\n",
            "Requirement already satisfied: dwave-networkx==0.8.8 in /usr/local/lib/python3.6/dist-packages (from dwave-ocean-sdk) (0.8.8)\n",
            "Requirement already satisfied: ortools<8.0.0,>=6.6.4659 in /usr/local/lib/python3.6/dist-packages (from penaltymodel-mip==0.2.3; platform_machine == \"x86_64\" or platform_machine == \"amd64\" or platform_machine == \"AMD64\"->dwave-ocean-sdk) (7.8.7959)\n",
            "Requirement already satisfied: networkx<3.0,>=2.0 in /usr/local/lib/python3.6/dist-packages (from penaltymodel-mip==0.2.3; platform_machine == \"x86_64\" or platform_machine == \"amd64\" or platform_machine == \"AMD64\"->dwave-ocean-sdk) (2.5)\n",
            "Requirement already satisfied: numpy<2.0.0,>=1.16.0 in /usr/local/lib/python3.6/dist-packages (from dwave-neal==0.5.6->dwave-ocean-sdk) (1.18.5)\n",
            "Requirement already satisfied: six<2.0.0,>=1.11.0 in /usr/local/lib/python3.6/dist-packages (from dwavebinarycsp==0.1.2->dwave-ocean-sdk) (1.15.0)\n",
            "Requirement already satisfied: scipy<2.0.0,>=0.15.0 in /usr/local/lib/python3.6/dist-packages (from penaltymodel-lp==0.1.3->dwave-ocean-sdk) (1.4.1)\n",
            "Requirement already satisfied: click>5 in /usr/local/lib/python3.6/dist-packages (from dwave-hybrid==0.6.0->dwave-ocean-sdk) (7.1.2)\n",
            "Requirement already satisfied: plucky>=0.4.3 in /usr/local/lib/python3.6/dist-packages (from dwave-hybrid==0.6.0->dwave-ocean-sdk) (0.4.3)\n",
            "Requirement already satisfied: Flask>=1.1.1 in /usr/local/lib/python3.6/dist-packages (from dwave-inspector==0.2.4->dwave-ocean-sdk) (1.1.2)\n",
            "Requirement already satisfied: importlib-resources; python_version < \"3.7\" in /usr/local/lib/python3.6/dist-packages (from dwave-inspector==0.2.4->dwave-ocean-sdk) (3.3.0)\n",
            "Requirement already satisfied: homebase<2.0.0,>=1.0.0 in /usr/local/lib/python3.6/dist-packages (from dwave-system==1.2.1->dwave-ocean-sdk) (1.0.1)\n",
            "Requirement already satisfied: python-dateutil>=2.7 in /usr/local/lib/python3.6/dist-packages (from dwave-cloud-client==0.8.1->dwave-ocean-sdk) (2.8.1)\n",
            "Requirement already satisfied: requests[socks]>=2.18 in /usr/local/lib/python3.6/dist-packages (from dwave-cloud-client==0.8.1->dwave-ocean-sdk) (2.23.0)\n",
            "Requirement already satisfied: fasteners in /usr/local/lib/python3.6/dist-packages (from minorminer==0.2.3->dwave-ocean-sdk) (0.15)\n",
            "Requirement already satisfied: decorator<5.0.0,>=4.1.0 in /usr/local/lib/python3.6/dist-packages (from dwave-networkx==0.8.8->dwave-ocean-sdk) (4.4.2)\n",
            "Requirement already satisfied: protobuf>=3.12.2 in /usr/local/lib/python3.6/dist-packages (from ortools<8.0.0,>=6.6.4659->penaltymodel-mip==0.2.3; platform_machine == \"x86_64\" or platform_machine == \"amd64\" or platform_machine == \"AMD64\"->dwave-ocean-sdk) (3.12.4)\n",
            "Requirement already satisfied: Werkzeug>=0.15 in /usr/local/lib/python3.6/dist-packages (from Flask>=1.1.1->dwave-inspector==0.2.4->dwave-ocean-sdk) (1.0.1)\n",
            "Requirement already satisfied: itsdangerous>=0.24 in /usr/local/lib/python3.6/dist-packages (from Flask>=1.1.1->dwave-inspector==0.2.4->dwave-ocean-sdk) (1.1.0)\n",
            "Requirement already satisfied: Jinja2>=2.10.1 in /usr/local/lib/python3.6/dist-packages (from Flask>=1.1.1->dwave-inspector==0.2.4->dwave-ocean-sdk) (2.11.2)\n",
            "Requirement already satisfied: zipp>=0.4; python_version < \"3.8\" in /usr/local/lib/python3.6/dist-packages (from importlib-resources; python_version < \"3.7\"->dwave-inspector==0.2.4->dwave-ocean-sdk) (3.4.0)\n",
            "Requirement already satisfied: idna<3,>=2.5 in /usr/local/lib/python3.6/dist-packages (from requests[socks]>=2.18->dwave-cloud-client==0.8.1->dwave-ocean-sdk) (2.10)\n",
            "Requirement already satisfied: chardet<4,>=3.0.2 in /usr/local/lib/python3.6/dist-packages (from requests[socks]>=2.18->dwave-cloud-client==0.8.1->dwave-ocean-sdk) (3.0.4)\n",
            "Requirement already satisfied: urllib3!=1.25.0,!=1.25.1,<1.26,>=1.21.1 in /usr/local/lib/python3.6/dist-packages (from requests[socks]>=2.18->dwave-cloud-client==0.8.1->dwave-ocean-sdk) (1.24.3)\n",
            "Requirement already satisfied: certifi>=2017.4.17 in /usr/local/lib/python3.6/dist-packages (from requests[socks]>=2.18->dwave-cloud-client==0.8.1->dwave-ocean-sdk) (2020.11.8)\n",
            "Requirement already satisfied: PySocks!=1.5.7,>=1.5.6; extra == \"socks\" in /usr/local/lib/python3.6/dist-packages (from requests[socks]>=2.18->dwave-cloud-client==0.8.1->dwave-ocean-sdk) (1.7.1)\n",
            "Requirement already satisfied: monotonic>=0.1 in /usr/local/lib/python3.6/dist-packages (from fasteners->minorminer==0.2.3->dwave-ocean-sdk) (1.5)\n",
            "Requirement already satisfied: setuptools in /usr/local/lib/python3.6/dist-packages (from protobuf>=3.12.2->ortools<8.0.0,>=6.6.4659->penaltymodel-mip==0.2.3; platform_machine == \"x86_64\" or platform_machine == \"amd64\" or platform_machine == \"AMD64\"->dwave-ocean-sdk) (50.3.2)\n",
            "Requirement already satisfied: MarkupSafe>=0.23 in /usr/local/lib/python3.6/dist-packages (from Jinja2>=2.10.1->Flask>=1.1.1->dwave-inspector==0.2.4->dwave-ocean-sdk) (1.1.1)\n",
            "Optionally install non-open-source packages and configure your environment.\n",
            "\n",
            "Do you want to select non-open-source packages to install (y/n)? [y]: \n",
            "\n",
            "D-Wave Drivers installed and up to date.\n",
            "\n",
            "D-Wave Problem Inspector installed and up to date.\n",
            "\n",
            "Creating the D-Wave configuration file.\n",
            "Found existing configuration file: /root/.config/dwave/dwave.conf\n",
            "Configuration file path [/root/.config/dwave/dwave.conf]: \n",
            "Profile (create new or choose from: prod): \n",
            "Input required, please try again.\n",
            "Profile (create new or choose from: prod): prod\n",
            "API endpoint URL [skip]: \n",
            "Authentication token [skip]: CV19-1122fdf8a51f88913cb1641aaec175b4729a3bc4\n",
            "Default client class [CV19-1122fdf8a51f88913cb1641aaec175b4729a3bc4]: \n",
            "Default solver [skip]: \n",
            "Configuration saved.\n"
          ],
          "name": "stdout"
        }
      ]
    },
    {
      "cell_type": "markdown",
      "metadata": {
        "id": "PDi9NiTMU4Ac"
      },
      "source": [
        "#Import"
      ]
    },
    {
      "cell_type": "code",
      "metadata": {
        "id": "xBWVKtMp5Fs8"
      },
      "source": [
        "from sympy import *\n",
        "import matplotlib.pyplot as plt\n",
        "import numpy as np\n",
        "from typing import Callable\n",
        "import tensorflow as tf\n",
        "from sklearn.model_selection import train_test_split\n",
        "import itertools\n",
        "import random\n",
        "import time\n",
        "# Import the Dwave packages dimod and neal\n",
        "import dimod\n",
        "import neal\n",
        "from dwave.system import DWaveSampler, EmbeddingComposite\n",
        "from minorminer import find_embedding\n",
        "import dwave\n",
        "from numpy import linalg as la\n",
        "import scipy.optimize as scopt\n",
        "# import pyomo.environ as pyo\n",
        "import pickle\n",
        "import os"
      ],
      "execution_count": null,
      "outputs": []
    },
    {
      "cell_type": "code",
      "metadata": {
        "colab": {
          "base_uri": "https://localhost:8080/"
        },
        "id": "Y8myeLnwOEMv",
        "outputId": "a8a3c6fb-1b05-4bf1-d3ee-3e8cb88c969c"
      },
      "source": [
        "from google.colab import drive\n",
        "drive.mount('/content/drive')"
      ],
      "execution_count": null,
      "outputs": [
        {
          "output_type": "stream",
          "text": [
            "Drive already mounted at /content/drive; to attempt to forcibly remount, call drive.mount(\"/content/drive\", force_remount=True).\n"
          ],
          "name": "stdout"
        }
      ]
    },
    {
      "cell_type": "markdown",
      "metadata": {
        "id": "AM1wNR8iVOsL"
      },
      "source": [
        "# Load data\n",
        "\n"
      ]
    },
    {
      "cell_type": "code",
      "metadata": {
        "id": "2-CgjvCEVTM6"
      },
      "source": [
        "#Loading the dataset\n",
        "(x_train, y_train), (x_test, y_test) = tf.keras.datasets.mnist.load_data()\n",
        "#Normalizing the data\n",
        "x_train=x_train/255.0\n",
        "x_test=x_test/255.0"
      ],
      "execution_count": null,
      "outputs": []
    },
    {
      "cell_type": "code",
      "metadata": {
        "colab": {
          "base_uri": "https://localhost:8080/"
        },
        "id": "oTwxmlOi6DVF",
        "outputId": "3f831251-84b6-40ad-aa79-c63a04c87fdc"
      },
      "source": [
        "# Scaling the data\n",
        "x_train = x_train.reshape([60000, 784])\n",
        "# q = scale(p)\n",
        "# x_train = q.reshape([60000,28,28])\n",
        "\n",
        "x_test = x_test.reshape([10000, 784])\n",
        "# q = scale(p)\n",
        "# x_test = q.reshape([10000,28,28])\n",
        "training_data = []\n",
        "training_labels = []\n",
        "validate_data = []\n",
        "validate_labels = []\n",
        "test_data = []\n",
        "test_labels = []\n",
        "\n",
        "training_data, validate_data, training_labels, validate_labels = train_test_split(x_train, y_train, test_size = 0.2, train_size = 0.8 ,random_state = 10)\n",
        "print(\"Number of training images:\",len(training_labels))\n",
        "\n",
        "for i,img in enumerate(x_test):\n",
        "  test_data.append(np.reshape(img,784))\n",
        "  test_labels.append(y_test[i])\n",
        "\n",
        "binary_training_labels = np.array([-1 if training_labels[i]<5 else 1 for i in range(len(training_data))])\n",
        "binary_validate_labels = np.array([-1 if validate_labels[i]<5 else 1 for i in range(len(validate_data))])\n",
        "\n",
        "N = 60\n",
        "batches = np.reshape(training_data, [int(len(training_data)/N), N, len(training_data[0])])\n",
        "binary_training_labels = np.array([-1 if training_labels[i]<5 else 1 for i in range(len(training_data))])\n",
        "batches_labels = np.reshape(binary_training_labels, [int(len(binary_training_labels)/N), N])"
      ],
      "execution_count": null,
      "outputs": [
        {
          "output_type": "stream",
          "text": [
            "Number of training images: 48000\n"
          ],
          "name": "stdout"
        }
      ]
    },
    {
      "cell_type": "markdown",
      "metadata": {
        "id": "YqFOsx25JgwM"
      },
      "source": [
        "# Data for DAG\n"
      ]
    },
    {
      "cell_type": "code",
      "metadata": {
        "id": "i3gwBL6PJoEW"
      },
      "source": [
        "l7_indices = np.where(np.array(training_labels) < 8)\r\n",
        "l7_training_labels = np.array(training_labels)[l7_indices][0:36000]\r\n",
        "l7_training_set = np.array(training_data)[l7_indices][0:36000]\r\n",
        "l7_indices = np.where(np.array(validate_labels) < 8)\r\n",
        "l7_validate_labels = np.array(validate_labels)[l7_indices][0:9000]\r\n",
        "l7_validate_set = np.array(validate_data)[l7_indices][0:9000]"
      ],
      "execution_count": null,
      "outputs": []
    },
    {
      "cell_type": "code",
      "metadata": {
        "id": "_o4C8BkwGINt"
      },
      "source": [
        "g3_indices = np.where(np.array(l7_training_labels) > 3)\r\n",
        "g3_training_labels = np.array(l7_training_labels)[g3_indices][0:15000]\r\n",
        "g3_training_set = np.array(l7_training_set)[g3_indices][0:15000]"
      ],
      "execution_count": null,
      "outputs": []
    },
    {
      "cell_type": "code",
      "metadata": {
        "id": "c5r6mwZ9G-N3"
      },
      "source": [
        "g3_indices = np.where(np.array(l7_validate_labels) > 3)\r\n",
        "g3_validate_labels = np.array(l7_validate_labels)[g3_indices][0:4000]\r\n",
        "g3_validate_set = np.array(l7_validate_set)[g3_indices][0:4000]"
      ],
      "execution_count": null,
      "outputs": []
    },
    {
      "cell_type": "code",
      "metadata": {
        "id": "sAwHgJg7KiVG"
      },
      "source": [
        "l6_indices = np.where(g3_training_labels < 6)\r\n",
        "l6_training_labels = g3_training_labels[l6_indices][0:6000]\r\n",
        "l6_training_set = g3_training_set[l6_indices][0:6000]"
      ],
      "execution_count": null,
      "outputs": []
    },
    {
      "cell_type": "code",
      "metadata": {
        "id": "fetdDBIdKiiT"
      },
      "source": [
        "l6_indices = np.where(g3_validate_labels < 6)\r\n",
        "l6_validate_labels = g3_validate_labels[l6_indices][0:2000]\r\n",
        "l6_validate_set = g3_validate_set[l6_indices][0:2000]"
      ],
      "execution_count": null,
      "outputs": []
    },
    {
      "cell_type": "code",
      "metadata": {
        "id": "MOp2wjyZL6jE"
      },
      "source": [
        "g6_indices = np.where(g3_training_labels >= 6)\r\n",
        "g6_training_labels = g3_training_labels[g6_indices][0:6000]\r\n",
        "g6_training_set = g3_training_set[g6_indices][0:6000]"
      ],
      "execution_count": null,
      "outputs": []
    },
    {
      "cell_type": "code",
      "metadata": {
        "id": "hkpTI40vL7GL"
      },
      "source": [
        "g6_indices = np.where(g3_validate_labels >= 6)\r\n",
        "g6_validate_labels = g3_validate_labels[g6_indices][0:2000]\r\n",
        "g6_validate_set = g3_validate_set[g6_indices][0:2000]"
      ],
      "execution_count": null,
      "outputs": []
    },
    {
      "cell_type": "code",
      "metadata": {
        "id": "qkSoD-52vJkq"
      },
      "source": [
        "le3_indices = np.where(np.array(l7_training_labels) <= 3)\n",
        "le3_training_labels = np.array(l7_training_labels)[le3_indices][0:18000]\n",
        "le3_training_set = np.array(l7_training_set)[le3_indices][0:18000]"
      ],
      "execution_count": null,
      "outputs": []
    },
    {
      "cell_type": "code",
      "metadata": {
        "id": "eQn7DG5dA3LY"
      },
      "source": [
        "le3_indices = np.where(np.array(l7_validate_labels) <= 3)\n",
        "le3_validate_labels = np.array(l7_validate_labels)[le3_indices][0:4000]\n",
        "le3_validate_set = np.array(l7_validate_set)[le3_indices][0:4000]"
      ],
      "execution_count": null,
      "outputs": []
    },
    {
      "cell_type": "code",
      "metadata": {
        "id": "bb8pWcg-2AO3"
      },
      "source": [
        "l2_indices = np.where(le3_training_labels < 2)\n",
        "l2_training_labels = le3_training_labels[l2_indices][0:6000]\n",
        "l2_training_set = le3_training_set[l2_indices][0:6000]"
      ],
      "execution_count": null,
      "outputs": []
    },
    {
      "cell_type": "code",
      "metadata": {
        "id": "GwsXJKCABIPS"
      },
      "source": [
        "l2_indices = np.where(le3_validate_labels < 2)\n",
        "l2_validate_labels = le3_validate_labels[l2_indices][0:2000]\n",
        "l2_validate_set = le3_validate_set[l2_indices][0:2000]"
      ],
      "execution_count": null,
      "outputs": []
    },
    {
      "cell_type": "code",
      "metadata": {
        "id": "7rq6votj3rVT"
      },
      "source": [
        "g2_indices = np.where(le3_training_labels >= 2)\n",
        "g2_training_labels = le3_training_labels[g2_indices][0:6000]\n",
        "g2_training_set = le3_training_set[g2_indices][0:6000]"
      ],
      "execution_count": null,
      "outputs": []
    },
    {
      "cell_type": "code",
      "metadata": {
        "id": "M-_QOQwpBbpJ"
      },
      "source": [
        "g2_indices = np.where(le3_validate_labels >= 2)\n",
        "g2_validate_labels = le3_validate_labels[g2_indices][0:2000]\n",
        "g2_validate_set = le3_validate_set[g2_indices][0:2000]"
      ],
      "execution_count": null,
      "outputs": []
    },
    {
      "cell_type": "markdown",
      "metadata": {
        "id": "ZGgZ_nxL5QOn"
      },
      "source": [
        "#Bisection\n"
      ]
    },
    {
      "cell_type": "code",
      "metadata": {
        "id": "bijd27dT5ONR"
      },
      "source": [
        "# Bisection rules for finding best step size\n",
        "def bisection(g: np.ndarray, fun: Callable, x: np.ndarray, x_lo: np.ndarray = None, x_up: np.ndarray = None, laststep: np.ndarray = None) -> (float, int):\n",
        "    if np.array_equal(g, laststep):\n",
        "        return (fun(x), 0)\n",
        "    if x_lo is None:\n",
        "        x_lo = np.zeros_like(x)\n",
        "    if x_up is None:\n",
        "        x_up = np.ones_like(x)*max(x)*2\n",
        "\n",
        "    u = max(x_up) - min(x_lo)\n",
        "    l = -(max(x_up) - min(x_lo))\n",
        "    for i, gi in enumerate(g):\n",
        "        if gi >= 1:\n",
        "            if np.floor((x_up[i] - x[i]) / gi) < u:\n",
        "                u = int(np.floor((x_up[i] - x[i]) / gi))\n",
        "            if np.ceil((x_lo[i] - x[i]) / gi) > l:\n",
        "                l = int(np.ceil((x_lo[i] - x[i]) / gi))\n",
        "        elif gi <= -1:\n",
        "            if np.ceil((x_up[i] - x[i]) / gi) > l:\n",
        "                l = int(np.ceil((x_up[i] - x[i]) / gi))\n",
        "            if np.floor((x_lo[i] - x[i]) / gi) < u:\n",
        "                u = int(np.floor((x_lo[i] - x[i]) / gi))\n",
        "    alpha = u\n",
        "\n",
        "    while u - l > 1:\n",
        "        if fun(x + l*g) < fun(x + u*g):\n",
        "            alpha = l\n",
        "        else:\n",
        "            alpha = u\n",
        "        p1 = int(np.floor((l+u)/2) - 1)\n",
        "        p2 = int(np.floor((l+u)/2))\n",
        "        p3 = int(np.floor((l+u)/2) + 1)\n",
        "        if fun(x + p1*g) < fun(x + p2*g):\n",
        "            u = int(np.floor((l+u)/2))\n",
        "        elif fun(x + p3*g) < fun(x + p2*g):\n",
        "            l = int(np.floor((l+u)/2) + 1)\n",
        "        else:\n",
        "            alpha = p2\n",
        "            break\n",
        "\n",
        "    if fun(x + l*g) < fun(x + u*g) and fun(x + l*g) < fun(x + alpha*g):\n",
        "        alpha = l\n",
        "    elif fun(x + u*g) < fun(x + alpha*g):\n",
        "        alpha = u\n",
        "\n",
        "    return (fun(x + alpha*g), alpha)"
      ],
      "execution_count": null,
      "outputs": []
    },
    {
      "cell_type": "markdown",
      "metadata": {
        "id": "nmk3m6LN5je2"
      },
      "source": [
        "# GREEDY\n"
      ]
    },
    {
      "cell_type": "code",
      "metadata": {
        "id": "xw-zI_hZ5hPH"
      },
      "source": [
        "# We can just have a single step move (works well with greedy approach)\n",
        "def single_move(g: np.ndarray, fun: Callable, x: np.ndarray, x_lo: np.ndarray = None, x_up: np.ndarray = None, laststep: np.ndarray = None) -> (float, int):\n",
        "    if x_lo is None:\n",
        "        x_lo = np.zeros_like(x)\n",
        "    if x_up is None:\n",
        "        x_up = np.ones_like(x)*max(x)*2\n",
        "\n",
        "    alpha = 0\n",
        "\n",
        "    if (x + g <= x_up).all() and (x + g >= x_lo).all():\n",
        "        if fun(x + g) < fun(x):\n",
        "            alpha = 1\n",
        "    elif (x - g <= x_up).all() and (x - g >= x_lo).all():\n",
        "        if fun(x - g) < fun(x) and fun(x - g) < fun(x + g):\n",
        "            alpha = -1\n",
        "\n",
        "    return (fun(x + alpha*g), alpha)"
      ],
      "execution_count": null,
      "outputs": []
    },
    {
      "cell_type": "code",
      "metadata": {
        "id": "dgA8yHLg5LF7"
      },
      "source": [
        "# Define rules to choose augmentation element, either the best one (argmin) or the first one that is found\n",
        "def argmin(iterable):\n",
        "    return min(enumerate(iterable), key=lambda x: x[1])\n",
        "\n",
        "def greedy(iterable):\n",
        "    for i, val in enumerate(iterable):\n",
        "        if val[1] != 0:\n",
        "            return i, val\n",
        "    else:\n",
        "        return i, val"
      ],
      "execution_count": null,
      "outputs": []
    },
    {
      "cell_type": "code",
      "metadata": {
        "id": "Q7XJK-mT5vwT"
      },
      "source": [
        "def augmentation(grav, func, x, x_lo, x_up, OPTION: int = 1, VERBOSE: bool = True, itermax: int = 1000) -> (int, float, np.ndarray):\n",
        "    # Let's perform the augmentation and return the number of steps and the best solution\n",
        "    # OPTION = 1 # Best augmentation, select using bisection rule\n",
        "    # OPTION = 2 # Greedy augmentation, select using bisection rule\n",
        "    # OPTION = 3 # Greedy augmentation, select using first found\n",
        "\n",
        "    dist = 1\n",
        "    gprev = None\n",
        "    k = 1\n",
        "    if VERBOSE:\n",
        "        print(\"Initial point:\", x)\n",
        "        print(\"Objective function:\",func(x))\n",
        "    while dist != 0 and k < itermax:\n",
        "        if OPTION == 1:\n",
        "            g1, (obj, dist) = argmin(\n",
        "                bisection(g=e, fun=func, x=x, laststep=gprev, x_lo=x_lo, x_up=x_up) for e in grav)\n",
        "        elif OPTION == 2:\n",
        "            g1, (obj, dist) = greedy(\n",
        "                bisection(g=e, fun=func, x=x, laststep=gprev, x_lo=x_lo, x_up=x_up) for e in grav)\n",
        "        elif OPTION == 3:    \n",
        "            g1, (obj, dist) = greedy(\n",
        "                single_move(g=e, fun=func, x=x, x_lo=x_lo, x_up=x_up) for e in grav)\n",
        "        else:\n",
        "            print(\"Option not implemented\")\n",
        "            break\n",
        "        x = x + grav[g1]*dist\n",
        "        gprev = grav[g1]\n",
        "        if VERBOSE:\n",
        "            print(\"Iteration \", k)\n",
        "            print(g1, (obj, dist))\n",
        "            print(\"Augmentation direction:\", gprev)\n",
        "            print(\"Distanced moved:\", dist)\n",
        "            print(\"Step taken:\", grav[g1]*dist)\n",
        "            print(\"Objective function:\", obj)\n",
        "            print(func(x))\n",
        "            print(\"Current point:\", x)\n",
        "            # print(\"Are constraints satisfied?\", const(x))\n",
        "        else:\n",
        "            if k%50 == 0:\n",
        "                print(k)\n",
        "                print(obj)\n",
        "        k += 1\n",
        "    return(k,obj,x)"
      ],
      "execution_count": null,
      "outputs": []
    },
    {
      "cell_type": "markdown",
      "metadata": {
        "id": "sV9ifYRI6Ny0"
      },
      "source": [
        "# Graver and feasible"
      ]
    },
    {
      "cell_type": "markdown",
      "metadata": {
        "id": "gxHGHOnpM8oQ"
      },
      "source": [
        "##Finding Graver"
      ]
    },
    {
      "cell_type": "code",
      "metadata": {
        "id": "3j1drq7J58FW"
      },
      "source": [
        "# Function to get graver basis from annealer. \n",
        "# All vectors/matrixes must be in proper shape. No reshaping done inside the function\n",
        "def find_graver(N,B,K,M,L,A,samples = 1000,K0 = 0,sim = True, annealing_time=5, programming_thermalization=1, readout_thermalization=1):\n",
        "\n",
        "  AA = A.T@A\n",
        "  E = []\n",
        "  for i in range(K):\n",
        "    E.append(float(B)**(i-K0))\n",
        "  print(\"Encoding = \", E)\n",
        "\n",
        "\n",
        "  E = np.kron(np.eye(N,dtype=float),E)\n",
        "  Q = E.T@AA@E\n",
        "  #print(\"EAE = \\n\",Q)\n",
        "  Q = Q + 2*np.diag((L.T@AA@E)[0])\n",
        "  #print(\"diag = \\n\",2*np.diag((L.T@AA@E)[0]))\n",
        "  #print(\"Q = \\n\",Q)\n",
        "  \n",
        "  if not sim:\n",
        "    sampler = DWaveSampler()\n",
        "    print(\"Finding Embedding\")\n",
        "    #Calculate Q as a dictionary\n",
        "    Q_dict = {}\n",
        "    for i in range(N*K): \n",
        "      Q_dict[(i,i)] = Q[i][i]\n",
        "      for j in range(i+1,N*K):\n",
        "        Q_dict[(i,j)] = Q[i][j] + Q[j][i]\n",
        "\n",
        "    #Create N*K clique adjacency matrix\n",
        "    graph = []\n",
        "    for i in range(N*K):\n",
        "      for j in range(i+1,N*K):\n",
        "        graph.append((i,j))\n",
        "        \n",
        "    found_embed = False    \n",
        "    embed_path = '/content/drive/My Drive/QuIP_project_parth/Pickles/'\n",
        "    #Load the embedding\n",
        "    for i in os.listdir(embed_path):\n",
        "      if int(i.split('.')[0].split('_')[1]) == N*K:\n",
        "        with open(os.path.join(embed_path,i), 'rb') as f: \n",
        "          embedding = pickle.load(f)\n",
        "        found_embed = True   \n",
        "        print(\"Embedding was already there for {} spins\".format(N*K)) \n",
        "    \n",
        "    if not found_embed:\n",
        "      print(\"Embedding was not already there, finding a new one\")\n",
        "      embedding=find_embedding(graph,sampler.edgelist,random_seed=10)  \n",
        "      with open('/content/drive/My Drive/QuIP_project_parth/Pickles/embedding_{}.pickle'.format(N*K),'wb') as f:\n",
        "          pickle.dump(embedding,f)\n",
        "\n",
        "\n",
        "    #Embed Weights       \n",
        "    Q_embed = dwave.embedding.embed_qubo(Q_dict,embedding,sampler.adjacency) #Embeds the particular biases/interactions\n",
        "    #Sample\n",
        "    sampleset = sampler.sample_qubo(Q_embed, num_reads=samples, annealing_time = annealing_time, programming_thermalization = programming_thermalization, readout_thermalization = readout_thermalization) \n",
        "    #Unembed the data\n",
        "    bqm=dimod.BinaryQuadraticModel.from_qubo(Q_dict)\n",
        "    response=dwave.embedding.unembed_sampleset(sampleset,embedding,bqm)\n",
        "    print(\"Time taken =\", response.info[\"timing\"])\n",
        " \n",
        "  else:\n",
        "    print(\"Doing simulated Annealing\")\n",
        "    sampler = neal.SimulatedAnnealingSampler()\n",
        "    bqm = dimod.BinaryQuadraticModel.from_numpy_matrix(mat = Q)\n",
        "    response = sampler.sample(bqm,num_reads = samples)\n",
        "\n",
        "  response = response.aggregate()\n",
        "\n",
        "  final = []\n",
        "\n",
        "  for i in response.record:\n",
        "    final.append(i[0].astype(float))\n",
        "  final = np.array(final).T\n",
        "\n",
        "  #Transform back to original QUIO \n",
        "  graver = np.zeros([N,1])\n",
        "  for i in range(final.shape[1]):\n",
        "    graver = np.c_[graver, L + E@final[:,i].reshape([N*K,1])]\n",
        "  graver = graver[:,1:]\n",
        "  #print(\"Before post processing graver = \", graver)\n",
        "  \n",
        "  print(\"Shape before removing zero elements = \",graver.shape)\n",
        "\n",
        "  #Remove zero elements\n",
        "  graver_1 = np.zeros([N,1])\n",
        "  for i in range(graver.shape[1]):\n",
        "    if (graver[:,i].reshape([1,N]) == np.zeros([1,N])).all():\n",
        "      continue\n",
        "    else:\n",
        "      graver_1 = np.c_[graver_1,graver[:,i]]\n",
        "\n",
        "  graver = graver_1[:,1:]\n",
        "  \n",
        "  #print(\"Graver before filtration= \")\n",
        "  #print(graver)\n",
        "  print(\"Shape after removing zero elements: \",graver.shape)\n",
        "  post_dict = {}\n",
        "  #Keep only elements for which Ax = 0\n",
        "  graver_1 = np.zeros([N,1])\n",
        "  for i in range(graver.shape[1]):\n",
        "    if np.all(A@graver[:,i].reshape([N,1]) == np.zeros([M,1])) :\n",
        "      graver_1 = np.c_[graver_1,graver[:,i]]\n",
        "    else: \n",
        "      if (A@graver[:,i])[0] not in post_dict:\n",
        "        post_dict[(A@graver[:,i])[0]] = [i]\n",
        "      else:\n",
        "        post_dict[(A@graver[:,i])[0]].append(i)\n",
        "        \n",
        "  graver_post = graver  \n",
        "  graver = graver_1[:,1:]\n",
        "  \n",
        "  print(\"Shape before post-processing: \", graver.shape)\n",
        "  done = []\n",
        "  for i in post_dict:\n",
        "    if i not in done:\n",
        "      if (-i) in post_dict:\n",
        "        done.append(i)\n",
        "        done.append(-i)\n",
        "        key = i if len(post_dict[i])<=len(post_dict[-i]) else -i\n",
        "        for l_ind,array_ind in enumerate(post_dict[key]):\n",
        "          graver = np.c_[graver,graver_post[:,array_ind]+graver_post[:,post_dict[-key][l_ind]]]\n",
        "  print(\"Shape after post-processing: \",graver.shape)\n",
        "  print(\"Checking if all elements are in kernel: \")\n",
        "  count = 0\n",
        "  for i in range(graver.shape[1]):\n",
        "    if A@graver[:,i] == 0:\n",
        "      count+=1\n",
        "    else:\n",
        "      print(i)\n",
        "      print(A@graver[:,i])\n",
        "  \n",
        "  print(\"The number of kernel elements after post-processing is: \", count)\n",
        "\n",
        "  #Do conformal minimal filtration\n",
        "  graver_filtered = np.zeros([N,1])\n",
        "  for i in range(graver.shape[1]):\n",
        "    col1 = graver[:,i]\n",
        "    check = False\n",
        "    for j in range(graver.shape[1]):\n",
        "      if j==i:\n",
        "        continue\n",
        "      if len(np.where(graver[:,j]*col1<0)[0]) == 0 :\n",
        "        if len(np.where(np.abs(graver[:,j])<=np.abs(col1))[0]) == N:\n",
        "          check = True \n",
        "          break\n",
        "    if not check:\n",
        "      graver_filtered = np.c_[graver_filtered,col1]\n",
        "  graver_filtered = graver_filtered[:,1:]\n",
        "\n",
        "  final_graver = list(graver_filtered.T)\n",
        "\n",
        "  #Filter out elements which repeat in the opposite octant (j = -i)\n",
        "  final2 = []\n",
        "  for ind,i in enumerate(final_graver):\n",
        "    check = True\n",
        "    for j in range(ind+1,len(final_graver)):\n",
        "      if np.all(final_graver[j]==-i):\n",
        "        check = False\n",
        "    if check:\n",
        "      #Create opposite octant elements after filtering\n",
        "      final2.append(i)\n",
        "      final2.append(-i)\n",
        "\n",
        "  return final2"
      ],
      "execution_count": null,
      "outputs": []
    },
    {
      "cell_type": "markdown",
      "metadata": {
        "id": "xS4-mVsYM_qQ"
      },
      "source": [
        "##Finding Feasible"
      ]
    },
    {
      "cell_type": "code",
      "metadata": {
        "id": "b-SNTnOK5_1b"
      },
      "source": [
        "def get_feasible(N, B, K, M, L, A, b, samples=1000,K0 = 0, sim = True, annealing_time=5, programming_thermalization=1, readout_thermalization=1):\n",
        "\n",
        "    #Create QUBO\n",
        "    E = []\n",
        "    for i in range(K):\n",
        "      E.append(B**(i-K0))\n",
        "    print(\"Encoding = \", E)\n",
        "    E = np.kron(np.eye(N,dtype=int),E)\n",
        "\n",
        "    AA = A.T@A\n",
        "    EAE = E.T@AA@E\n",
        "    diag = 2*np.diag(((L.T@AA - b.T@A)@E)[0])\n",
        "    Q = EAE + diag\n",
        "    \n",
        "    if not sim:\n",
        "      sampler = DWaveSampler()\n",
        "      print(\"Finding Embedding\")\n",
        "      #Calculate Q as a dictionary\n",
        "      Q_dict = {}\n",
        "      for i in range(N*K): \n",
        "        Q_dict[(i,i)] = Q[i][i]\n",
        "        for j in range(i+1,N*K):\n",
        "          Q_dict[(i,j)] = Q[i][j] + Q[j][i]\n",
        "\n",
        "      #Create N*K clique adjacency matrix\n",
        "      graph = []\n",
        "      for i in range(N*K):\n",
        "        for j in range(i+1,N*K):\n",
        "          graph.append((i,j))\n",
        "          \n",
        "      found_embed = False    \n",
        "      embed_path = '/content/drive/My Drive/QuIP_project_parth/Pickles/'\n",
        "      #Load the embedding\n",
        "      for i in os.listdir(embed_path):\n",
        "        if int(i.split('.')[0].split('_')[1]) == N*K:\n",
        "          with open(os.path.join(embed_path,i), 'rb') as f: \n",
        "            embedding = pickle.load(f)\n",
        "          found_embed = True    \n",
        "          print(\"Embedding was already there for {} spins\".format(N*K))\n",
        "      \n",
        "      if not found_embed:\n",
        "        print(\"Embedding was not already there, finding a new one\")\n",
        "        embedding=find_embedding(graph,sampler.edgelist,random_seed=10)  \n",
        "        with open('/content/drive/My Drive/QuIP_project_parth/Pickles/embedding_{}.pickle'.format(N*K),'wb') as f:\n",
        "            pickle.dump(embedding,f)\n",
        "\n",
        "\n",
        "      #Embed Weights       \n",
        "      Q_embed = dwave.embedding.embed_qubo(Q_dict,embedding,sampler.adjacency) #Embeds the particular biases/interactions\n",
        "      #Sample\n",
        "      sampleset = sampler.sample_qubo(Q_embed, num_reads=samples, annealing_time = annealing_time, programming_thermalization = programming_thermalization, readout_thermalization = readout_thermalization) \n",
        "      #Unembed the data\n",
        "      bqm=dimod.BinaryQuadraticModel.from_qubo(Q_dict)\n",
        "      response=dwave.embedding.unembed_sampleset(sampleset,embedding,bqm)\n",
        "      print(\"Time taken =\", response.info[\"timing\"])\n",
        "\n",
        "  \n",
        "    else:\n",
        "      print(\"Doing simulated Annealing\")\n",
        "      sampler = neal.SimulatedAnnealingSampler()\n",
        "      bqm = dimod.BinaryQuadraticModel.from_numpy_matrix(mat = Q)\n",
        "      response = sampler.sample(bqm,num_reads = samples)\n",
        "\n",
        "\n",
        "    response = response.aggregate()\n",
        "\n",
        "    final = []\n",
        "\n",
        "    for i in response.record:\n",
        "      final.append(i[0].astype(float))\n",
        "    final = np.array(final).T\n",
        "    \n",
        "    #Transform back to original QUIO \n",
        "    feasible = np.zeros([N,1])\n",
        "    for i in range(final.shape[1]):\n",
        "      feasible = np.c_[feasible, L + E@final[:,i].reshape([N*K,1])]\n",
        "    feasible = feasible[:,1:]\n",
        "\n",
        "    # feasible_final = feasible\n",
        "    #Taking only elements that are exactly feasible\n",
        "    feasible_final = np.zeros([N,1])\n",
        "    for i in range(feasible.shape[1]):\n",
        "      if np.all(A@feasible[:,i].reshape([N,1]) == b.reshape([M,1])):\n",
        "        feasible_final = np.c_[feasible_final,feasible[:,i]]\n",
        "    feasible_final = feasible_final[:,1:]\n",
        "    \n",
        "    \n",
        "    #Converting to list\n",
        "    final = list(feasible_final.T)\n",
        "    \n",
        "    #Removing duplicates\n",
        "    final = [np.array(i) for i in set(map(tuple, tuple(final)))]\n",
        "    \n",
        "    return final"
      ],
      "execution_count": null,
      "outputs": []
    },
    {
      "cell_type": "markdown",
      "metadata": {
        "id": "hDAhytHNdKpS"
      },
      "source": [
        "# Model Class without GAMA\n"
      ]
    },
    {
      "cell_type": "code",
      "metadata": {
        "id": "ymwoqqCtdOz4"
      },
      "source": [
        "class model_wo_GAMA:\n",
        "    # class constructor\n",
        "  def __init__(self, data, labels, N = 10, K = 2, B = 2, gamma = 0.5, zeta = 1, sim = False):\n",
        "    #This is the set of training data\n",
        "    self.data = data\n",
        "    #This is the set of labels for the training data\n",
        "    self.labels = labels\n",
        "    # N is the number of training points\n",
        "    self.N = N\n",
        "    # K is the number of \"bits\" used for representation\n",
        "    self.K = K\n",
        "    # B is the base we are using for encoding\n",
        "    self.B = B\n",
        "    # Precompute and store the kernel in this array\n",
        "    self.kernel = np.zeros([N,N])\n",
        "    #Hyperparameter of the rbf kernel\n",
        "    self.gamma = gamma\n",
        "    # Lagrangian multiplier for constraints\n",
        "    self.zeta = zeta\n",
        "    #Create a matrix and dictionary for the QUBO\n",
        "    self.Q = np.zeros([K*N, K*N])\n",
        "    self.Q_dict = {}\n",
        "    self.Q_embed = {}\n",
        "    #Matrix of weights\n",
        "    self.alpha = np.zeros(N)\n",
        "    #Matrix of Qubit readouts\n",
        "    self.a = np.zeros(N*K)\n",
        "    #Box Constraint Hyperparameter\n",
        "    self.C = sum([self.B**k for k in range(self.K)])\n",
        "    #Bias parameter\n",
        "    self.b = 0\n",
        "    #Quantum hyperparameters in microseconds\n",
        "    self.annealing_time=5\n",
        "    self.programming_thermalization=1\n",
        "    self.readout_thermalization=1\n",
        "    self.n_read = 1000\n",
        "    #Embedding Dictionary\n",
        "    self.embedding = {}\n",
        "    self.sim = sim\n",
        "    #DWave sampler instance   \n",
        "    if self.sim:\n",
        "      self.sampler = neal.SimulatedAnnealingSampler()\n",
        "      self.sampleset = []\n",
        "      self.samples = []\n",
        "      self.bqm = []\n",
        "    else:\n",
        "      self.sampler=DWaveSampler() \n",
        "      self.sampleset = []\n",
        "      self.samples = []\n",
        "      self.bqm= []\n",
        "\n",
        "    \n",
        "\n",
        "  # function to calculate one element of the kernel matrix\n",
        "  def _calc_kernel_element(self, x_n, x_m, i, j):\n",
        "    # rbf kernel\n",
        "    if self.gamma != -1:\n",
        "      self.kernel[i,j] = (np.e)**(-self.gamma*((la.norm(x_n - x_m))**2))\n",
        "      self.kernel[j,i] = self.kernel[i,j]\n",
        "    # linear classifier\n",
        "    else:\n",
        "      self.kernel[i,j] = np.dot(x_n, x_m)\n",
        "      self.kernel[j,i] = self.kernel[i,j]\n",
        "\n",
        "  # function to call to create and precompute kernel\n",
        "  def calc_kernel(self):\n",
        "    print(\"Calculating Kernel\")\n",
        "    for i in range(self.N):\n",
        "      for j in range(i, self.N):\n",
        "        self._calc_kernel_element(self.data[i], self.data[j], i, j)\n",
        "  \n",
        "  #Function to calculate the kernel for two given datapoints\n",
        "  def kernel_two_points(self,x,y):\n",
        "    return (np.e)**(-self.gamma*((la.norm(x - y))**2))\n",
        "    \n",
        "  # create the QUBO matrix\n",
        "  def calc_QUBO(self):\n",
        "    print(\"Calculating QUBO Coefficients\")\n",
        "    self.Q = np.zeros([K*N, K*N])\n",
        "    #Calculate Q as a matrix\n",
        "    for m in range(self.N):\n",
        "      for n in range(self.N):\n",
        "        for j in range(self.K):\n",
        "          for k in range(self.K):\n",
        "            self.Q[(self.K*n)+k, (self.K*m)+j] = 0.5*((self.B**(k+j))*self.labels[n]*self.labels[m]*(self.kernel[n][m]+self.zeta))\n",
        "            if n==m and k==j:\n",
        "              self.Q[(self.K*n)+k, (self.K*m)+j] -= self.B**(k)\n",
        "    #Calculate Q as a dictionary\n",
        "    for i in range(self.N*self.K): \n",
        "      self.Q_dict[(i,i)] = self.Q[i][i]\n",
        "      for j in range(i+1,self.N*self.K):\n",
        "        self.Q_dict[(i,j)] = self.Q[i][j] + self.Q[j][i]\n",
        "\n",
        "  \n",
        "  #Function to find the bias parameter\n",
        "  def calc_b(self):\n",
        "    print(\"Finding the bias parameter\")\n",
        "    denom = sum(i*(self.C-i) for i in self.alpha)\n",
        "    numer = sum([self.alpha[n]*(self.C-self.alpha[n])*(self.labels[n] - sum([self.alpha[m]*self.labels[m]*self.kernel[m,n] for m in range(self.N)])) for n in range(self.N)])\n",
        "    self.b = numer[0]/denom[0]\n",
        "\n",
        "  #Function to find the embedding\n",
        "  def find_embedding(self):\n",
        "    if self.sim:\n",
        "      pass\n",
        "    else:\n",
        "      print(\"Finding Embedding\")\n",
        "      #Create N*K clique adjacency matrix\n",
        "      self.graph = []\n",
        "      for i in range(N*K):\n",
        "        for j in range(i+1,N*K):\n",
        "          self.graph.append((i,j))\n",
        "      \n",
        "      #Load the embedding\n",
        "      if self.N*self.K == 100:\n",
        "        with open(\"/content/drive/My Drive/QuIP_Project/Pickles/embedding.pickle\", 'rb') as f: \n",
        "          self.embedding = pickle.load(f)\n",
        "      elif self.N*self.K == 120:\n",
        "        with open(\"/content/drive/My Drive/QuIP_Project/Pickles/embedding_120.pickle\", 'rb') as f: \n",
        "          self.embedding = pickle.load(f)\n",
        "      else:\n",
        "          print(\"Embedding was not already there, finding a new one\")\n",
        "          self.embedding=find_embedding(self.graph,self.sampler.edgelist,random_seed=10)  \n",
        "          with open('/content/drive/My Drive/QuIP_Project/Pickles/embedding_{}.pickle'.format(self.N*self.K),'wb') as f:\n",
        "              pickle.dump(Model_save,f)\n",
        "    \n",
        "  #Function to sample the D-Wave Quantum computer\n",
        "  def quantum_sample(self):\n",
        "    \n",
        "    if self.sim:\n",
        "      print(\"Optimizing QUBO on Simulator\")\n",
        "      self.sampleset = self.sampler.sample_qubo(self.Q_dict, num_reads=self.n_read, answer_mode='histogram', annealing_time = self.annealing_time, programming_thermalization = self.programming_thermalization, readout_thermalization = self.readout_thermalization) \n",
        "      self.a = np.array(list(self.sampleset.first.sample.values()))\n",
        "      self.a = np.reshape(self.a,(self.N,self.K))\n",
        "      self.alpha = self.a.dot(np.array([[self.B**i] for i in range(self.K)]))\n",
        "    else:\n",
        "      print(\"Optimizing QUBO on DWave\")\n",
        "      #Embed Weights       \n",
        "      self.Q_embed = dwave.embedding.embed_qubo(self.Q_dict,self.embedding,self.sampler.adjacency) #Embeds the particular biases/interactions\n",
        "      #Sample\n",
        "      self.sampleset = self.sampler.sample_qubo(self.Q_embed, num_reads=self.n_read, answer_mode='histogram', annealing_time = self.annealing_time, programming_thermalization = self.programming_thermalization, readout_thermalization = self.readout_thermalization) \n",
        "      #Unembed the data\n",
        "      self.bqm=dimod.BinaryQuadraticModel.from_qubo(self.Q_dict)\n",
        "      self.samples=dwave.embedding.unembed_sampleset(self.sampleset,self.embedding,self.bqm)\n",
        "      self.a = np.array(list(self.samples.first.sample.values()))\n",
        "      self.a = np.reshape(self.a,(self.N,self.K))\n",
        "      self.alpha = self.a.dot(np.array([[self.B**i] for i in range(self.K)]))\n",
        "\n",
        "  #Function for the decision rule\n",
        "  def decision(self,x):\n",
        "    decision_final = np.sign(sum([self.alpha[n]*self.labels[n]*self.kernel_two_points(self.data[n],x) for n in range(self.N)])+self.b)\n",
        "    if type(decision_final) == np.ndarray:\n",
        "      return decision_final[0]\n",
        "    else:\n",
        "      return decision_final \n",
        "  \n",
        "  def validation(self, validate_data = validate_data, validate_labels = binary_validate_labels, validate_N = 3000):\n",
        "    print(\"Validating model\")\n",
        "    validate_N = validate_N #Number of elements for which the model is validated\n",
        "    print(\"Number of elements the model is validated for = \", validate_N)\n",
        "    batch_validate_x = []\n",
        "    batch_validate_labels = []\n",
        "    for i in range(validate_N):\n",
        "      batch_validate_x.append(validate_data[i])\n",
        "      batch_validate_labels.append(validate_labels[i])\n",
        "    predictions = np.array([self.decision(x) for x in batch_validate_x])\n",
        "    print(predictions)\n",
        "    self.accuracy = (len(np.where(np.array(batch_validate_labels) == np.array(predictions))[0])/validate_N)*100\n",
        "    print(\"Accuracy of the classifier: \", self.accuracy)\n",
        "    return self.accuracy, predictions\n",
        "\n",
        "  def training_accuracy(self):\n",
        "    print(\"Finding Training Accuracy of the model\")\n",
        "    predictions = np.array([self.decision(x) for x in self.data])\n",
        "    self.accuracy_train = (len(np.where(self.labels == predictions)[0])/self.N)*100\n",
        "    print(\"Training Accuracy of the classifier: \", self.accuracy_train)\n",
        "    return self.accuracy_train\n"
      ],
      "execution_count": null,
      "outputs": []
    },
    {
      "cell_type": "markdown",
      "metadata": {
        "id": "b1m3lBF_hKwO"
      },
      "source": [
        "# Testing without GAMA\n"
      ]
    },
    {
      "cell_type": "code",
      "metadata": {
        "colab": {
          "base_uri": "https://localhost:8080/"
        },
        "id": "HpQ2uQtchObU",
        "outputId": "ae39f991-cdca-43aa-cd70-baae8e8f7369"
      },
      "source": [
        "N = 100\n",
        "K = 2\n",
        "B = 2\n",
        "batches = np.reshape(training_data, [int(len(training_data)/N), N, len(training_data[0])])\n",
        "binary_training_labels = np.array([-1 if training_labels[i]<5 else 1 for i in range(len(training_data))])\n",
        "batches_labels = np.reshape(binary_training_labels, [int(len(binary_training_labels)/N), N])\n",
        "\n",
        "model_wo_GAMA_obj = model_wo_GAMA(batches[i], batches_labels[i], N, K, B, gamma = 0.02,zeta = 100,sim = True)\n",
        "model_wo_GAMA_obj.calc_kernel()\n",
        "model_wo_GAMA_obj.calc_QUBO()\n",
        "model_wo_GAMA_obj.find_embedding()\n",
        "model_wo_GAMA_obj.quantum_sample()\n",
        "model_wo_GAMA_obj.calc_b()\n",
        "model_wo_GAMA_obj.training_accuracy()\n",
        "model_wo_GAMA_obj.validation()"
      ],
      "execution_count": null,
      "outputs": [
        {
          "output_type": "stream",
          "text": [
            "Calculating Kernel\n",
            "Calculating QUBO Coefficients\n",
            "Optimizing QUBO on Simulator\n",
            "Finding the bias parameter\n",
            "Finding Training Accuracy of the model\n",
            "Training Accuracy of the classifier:  93.0\n",
            "Validating model\n",
            "Number of elements the model is validated for =  3000\n",
            "[ 1.  1.  1. ... -1.  1. -1.]\n",
            "Accuracy of the classifier:  71.2\n"
          ],
          "name": "stdout"
        },
        {
          "output_type": "execute_result",
          "data": {
            "text/plain": [
              "(71.2, array([ 1.,  1.,  1., ..., -1.,  1., -1.]))"
            ]
          },
          "metadata": {
            "tags": []
          },
          "execution_count": 61
        }
      ]
    },
    {
      "cell_type": "markdown",
      "metadata": {
        "id": "wI7Qrpu9Svwe"
      },
      "source": [
        "# Objective"
      ]
    },
    {
      "cell_type": "code",
      "metadata": {
        "id": "Enp260Bt_yyv"
      },
      "source": [
        "# Need to define our objective function over here\n",
        "kernel = None\n",
        "labels = None\n",
        "def obj(X):\n",
        "  global kernel, labels\n",
        "  # print(\"X at the start = \",X)\n",
        "  N = len(X)\n",
        "  x = np.zeros(N)\n",
        "  # print(x)\n",
        "  for i in range(len(labels)):\n",
        "    x[i] = X[i]*labels[i]\n",
        "  x = x.reshape([N,1])\n",
        "  out = (x.T)@kernel@x\n",
        "  out /= 2\n",
        "  out -= sum(X)\n",
        "  # print(\"X at the end = \",X)\n",
        "  return out[0][0]"
      ],
      "execution_count": null,
      "outputs": []
    },
    {
      "cell_type": "markdown",
      "metadata": {
        "id": "PrkIqZMC6Uy9"
      },
      "source": [
        "# Model class for GAMA\n",
        "\n"
      ]
    },
    {
      "cell_type": "code",
      "metadata": {
        "id": "7OMMhHbV6Zfm"
      },
      "source": [
        "class model:\n",
        "    # class constructor\n",
        "  def __init__(self, data, labels, N = 10, K = 2, B = 2, gamma = 0.02, zeta = 5, sim = False):\n",
        "    #This is the set of training data\n",
        "    self.data = data\n",
        "    #This is the set of labels for the training data\n",
        "    self.labels = labels\n",
        "    # N is the number of training points\n",
        "    self.N = N\n",
        "    # K is the number of \"bits\" used for representation\n",
        "    self.K = K\n",
        "    # B is the base we are using for encoding\n",
        "    self.B = B\n",
        "    # Precompute and store the kernel in this array\n",
        "    self.kernel = np.zeros([N,N])\n",
        "    #Hyperparameter of the rbf kernel\n",
        "    self.gamma = gamma\n",
        "    # Lagrangian multiplier for constraints\n",
        "    self.zeta = zeta\n",
        "    #Create a matrix and dictionary for the QUBO\n",
        "    self.Q = np.zeros([K*N, K*N])\n",
        "    self.Q_dict = {}\n",
        "    self.Q_embed = {}\n",
        "    #Matrix of weights\n",
        "    self.alpha = np.zeros(N)\n",
        "    #Matrix of Qubit readouts\n",
        "    self.a = np.zeros(N*K)\n",
        "    #Box Constraint Hyperparameter\n",
        "    self.C = sum([self.B**k for k in range(self.K)])\n",
        "    #Bias parameter\n",
        "    self.b = 0\n",
        "    #Quantum hyperparameters in microseconds\n",
        "    self.annealing_time=5\n",
        "    self.programming_thermalization=1\n",
        "    self.readout_thermalization=1\n",
        "    self.n_read = 1000\n",
        "    #Embedding Dictionary\n",
        "    self.embedding = {}\n",
        "    self.sim = sim\n",
        "    #DWave sampler instance   \n",
        "    if self.sim:\n",
        "      self.sampler = neal.SimulatedAnnealingSampler()\n",
        "      self.sampleset = []\n",
        "      self.samples = []\n",
        "      self.bqm = []\n",
        "    else:\n",
        "      self.sampler=DWaveSampler() \n",
        "      self.sampleset = []\n",
        "      self.samples = []\n",
        "      self.bqm= []\n",
        "\n",
        "  # function to calculate one element of the kernel matrix\n",
        "  def _calc_kernel_element(self, x_n, x_m, i, j):\n",
        "    # rbf kernel\n",
        "    if self.gamma != -1:\n",
        "      # print((la.norm(x_n - x_m))**2)\n",
        "      self.kernel[i,j] = (np.e)**(-self.gamma*((la.norm(x_n - x_m))**2))\n",
        "      self.kernel[j,i] = self.kernel[i,j]\n",
        "    # linear classifier\n",
        "    else:\n",
        "      self.kernel[i,j] = np.dot(x_n, x_m)\n",
        "      self.kernel[j,i] = self.kernel[i,j]\n",
        "\n",
        "  # function to call to create and precompute kernel\n",
        "  def calc_kernel(self):\n",
        "    print(\"Calculating Kernel\")\n",
        "    for i in range(self.N):\n",
        "      for j in range(i, self.N):\n",
        "        self._calc_kernel_element(self.data[i], self.data[j], i, j)\n",
        "  \n",
        "  #Function to calculate the kernel for two given datapoints\n",
        "  def kernel_two_points(self,x,y):\n",
        "    return (np.e)**(-self.gamma*((la.norm(x - y))**2))\n",
        "  \n",
        "  def calc_b(self, C):\n",
        "    print(\"Finding the bias parameter\")\n",
        "    self.C = C\n",
        "    denom = sum(i*(self.C-i) for i in self.alpha)\n",
        "    # print(denom)\n",
        "    numer = sum([self.alpha[n]*(self.C-self.alpha[n])*(self.labels[n] - sum([self.alpha[m]*self.labels[m]*self.kernel[m,n] for m in range(self.N)])) for n in range(self.N)])\n",
        "    # print(numer)\n",
        "    self.b = numer/denom\n",
        "    # print(self.b)\n",
        "\n",
        "  # #Function for the decision rule\n",
        "  def decision(self,x):\n",
        "    decision_final = sum([self.alpha[n]*self.labels[n]*self.kernel_two_points(self.data[n],x) for n in range(self.N)])+self.b\n",
        "    # print(decision_final)\n",
        "    decision_final = np.sign(decision_final)\n",
        "    if type(decision_final) == np.ndarray:\n",
        "      return decision_final[0]\n",
        "    else:\n",
        "      return decision_final \n",
        "  \n",
        "  def validation(self, validate_data = validate_data, validate_labels = binary_validate_labels, validate_N = 3000):\n",
        "    print(\"Validating model\")\n",
        "    validate_N = validate_N #Number of elements for which the model is validated\n",
        "    print(\"Number of elements the model is validated for = \", validate_N)\n",
        "    batch_validate_x = []\n",
        "    batch_validate_labels = []\n",
        "    for i in range(validate_N):\n",
        "      batch_validate_x.append(validate_data[i])\n",
        "      batch_validate_labels.append(validate_labels[i])\n",
        "    predictions = np.array([self.decision(x) for x in batch_validate_x])\n",
        "    print(predictions)\n",
        "    self.accuracy = (len(np.where(np.array(batch_validate_labels) == np.array(predictions))[0])/validate_N)*100\n",
        "    print(\"Accuracy of the classifier: \", self.accuracy)\n",
        "    return self.accuracy, predictions\n",
        "\n",
        "  def training_accuracy(self):\n",
        "    print(\"Finding Training Accuracy of the model\")\n",
        "    predictions = np.array([self.decision(x) for x in self.data])\n",
        "    self.accuracy_train = (len(np.where(self.labels == predictions)[0])/self.N)*100\n",
        "    print(\"Training Accuracy of the classifier: \", self.accuracy_train)\n",
        "    return self.accuracy_train\n"
      ],
      "execution_count": null,
      "outputs": []
    },
    {
      "cell_type": "markdown",
      "metadata": {
        "id": "7zJevynX6yLD"
      },
      "source": [
        "# Testing single SVM here"
      ]
    },
    {
      "cell_type": "markdown",
      "metadata": {
        "id": "KxfV6yoBOgc4"
      },
      "source": [
        "##Setting up a Batch"
      ]
    },
    {
      "cell_type": "code",
      "metadata": {
        "colab": {
          "base_uri": "https://localhost:8080/"
        },
        "id": "ogz3yL2h6a86",
        "outputId": "71621f4b-28df-4b5e-dd91-dda02d2796b3"
      },
      "source": [
        "i = np.random.randint(len(batches))\n",
        "A = batches_labels[i]\n",
        "A = A.reshape([1,len(A)])\n",
        "b = np.array([[0]])\n",
        "\n",
        "K = 2\n",
        "B = 2\n",
        "model_obj = model(batches[i], batches_labels[i], N, K, B, gamma = 0.01,zeta = 100,sim = True)\n",
        "model_obj.calc_kernel()\n",
        "kernel = model_obj.kernel\n",
        "labels = model_obj.labels\n"
      ],
      "execution_count": null,
      "outputs": [
        {
          "output_type": "stream",
          "text": [
            "Calculating Kernel\n"
          ],
          "name": "stdout"
        }
      ]
    },
    {
      "cell_type": "markdown",
      "metadata": {
        "id": "vBWN4b5vOnSG"
      },
      "source": [
        "##Finding Graver Bases"
      ]
    },
    {
      "cell_type": "code",
      "metadata": {
        "colab": {
          "base_uri": "https://localhost:8080/"
        },
        "id": "1CufEN2o66Y8",
        "outputId": "7dac66e5-aefc-4098-9488-39b48f4d608d"
      },
      "source": [
        "M = 1\n",
        "B = 2\n",
        "K = 2\n",
        "K0 = 2\n",
        "L = np.zeros([1,N]).T - 0.5\n",
        "\n",
        "#Defining the sampler has been done in the function\n",
        "start = time.process_time()\n",
        "r = find_graver(N,B,K,M,L,A,samples = 100, K0 = K0, sim = False)\n",
        "print(\"Time taken to find graver basis: \", time.process_time() - start, \"seconds\")\n",
        "\n",
        "print(\"Length of Graver basis = \", len(r))\n",
        "#print(\"Feasible solutions = \\n\", feas_sols)\n",
        "#print(\"Graver basis = \\n\", r)\n",
        "r = np.array(r)\n",
        "#print(r)\n"
      ],
      "execution_count": null,
      "outputs": [
        {
          "output_type": "stream",
          "text": [
            "Finding Embedding\n",
            "Embedding was not already there, finding a new one\n",
            "Time taken = {'qpu_sampling_time': 13466, 'qpu_anneal_time_per_sample': 5, 'qpu_readout_time_per_sample': 108, 'qpu_access_time': 38490, 'qpu_access_overhead_time': 9109, 'qpu_programming_time': 25024, 'qpu_delay_time_per_sample': 22, 'post_processing_overhead_time': 520, 'total_post_processing_time': 2881, 'total_real_time': 38490, 'run_time_chip': 13466, 'anneal_time_per_run': 5, 'readout_time_per_run': 108}\n",
            "Shape before removing zero elements =  (60, 100)\n",
            "Shape after removing zero elements:  (60, 100)\n",
            "Shape before post-processing:  (60, 9)\n",
            "Shape after post-processing:  (60, 34)\n",
            "Checking if all elements are in kernel: \n",
            "The number of kernel elements after post-processing is:  34\n",
            "Time taken to find graver basis:  500.155523938 seconds\n",
            "Length of Graver basis =  68\n"
          ],
          "name": "stdout"
        }
      ]
    },
    {
      "cell_type": "code",
      "metadata": {
        "colab": {
          "base_uri": "https://localhost:8080/"
        },
        "id": "krxQpVS_Zv2c",
        "outputId": "405673ac-288f-4b0f-f244-bd4dc8f9aa5a"
      },
      "source": [
        "count = 0\n",
        "for i in r:\n",
        "  if (A@i)[0] == 0:\n",
        "    count+=1\n",
        "print(count)"
      ],
      "execution_count": null,
      "outputs": [
        {
          "output_type": "stream",
          "text": [
            "1998\n"
          ],
          "name": "stdout"
        }
      ]
    },
    {
      "cell_type": "markdown",
      "metadata": {
        "id": "C_WfG9hBOpJ2"
      },
      "source": [
        "##Finding Feasible Solutions"
      ]
    },
    {
      "cell_type": "code",
      "metadata": {
        "colab": {
          "base_uri": "https://localhost:8080/"
        },
        "id": "VI3ohuCGtATo",
        "outputId": "3fa9d0fc-b274-4f37-9237-a09e85a685b5"
      },
      "source": [
        "B = 2\n",
        "K = 2\n",
        "L = np.zeros([1,N]).T\n",
        "K0 = 2\n",
        "\n",
        "start = time.process_time()\n",
        "feas_sols = get_feasible(N,B,K,M,L,A,b,samples = 1000, K0 = K0, sim = False)\n",
        "print(\"Time taken to find feasible solutions: \", time.process_time() - start, \"seconds\")\n",
        "\n",
        "print(\"Number of feasible solutions = \",len(feas_sols))\n",
        "feas_sols = np.array(feas_sols)"
      ],
      "execution_count": null,
      "outputs": [
        {
          "output_type": "stream",
          "text": [
            "Encoding =  [0.25, 0.5]\n",
            "Finding Embedding\n",
            "Embedding was already there for 120 spins\n",
            "Time taken = {'qpu_sampling_time': 134660, 'qpu_anneal_time_per_sample': 5, 'qpu_readout_time_per_sample': 108, 'qpu_access_time': 159692, 'qpu_access_overhead_time': 24260, 'qpu_programming_time': 25032, 'qpu_delay_time_per_sample': 22, 'post_processing_overhead_time': 227, 'total_post_processing_time': 32638, 'total_real_time': 159692, 'run_time_chip': 134660, 'anneal_time_per_run': 5, 'readout_time_per_run': 108}\n",
            "Time taken to find feasible solutions:  1.7619054910001068 seconds\n",
            "Number of feasible solutions =  82\n"
          ],
          "name": "stdout"
        }
      ]
    },
    {
      "cell_type": "markdown",
      "metadata": {
        "id": "Zf3D1XvlOr1w"
      },
      "source": [
        "##Performing Augmentation"
      ]
    },
    {
      "cell_type": "code",
      "metadata": {
        "colab": {
          "base_uri": "https://localhost:8080/",
          "height": 456
        },
        "id": "x_PxLUmE69uK",
        "outputId": "bd25695a-deb6-4655-c4ff-e09818df7900"
      },
      "source": [
        "print('Greedy-augmentation: Choosing among the first element of G that with a single step reduces the objective')\n",
        "init_obj = np.zeros((len(feas_sols),1))\n",
        "iters_full = np.zeros((len(feas_sols),1))\n",
        "final_obj_full = np.zeros((len(feas_sols),1))\n",
        "times_full = np.zeros((len(feas_sols),1))\n",
        "start_2 = time.process_time()\n",
        "best_sol = 100000\n",
        "for index, i in enumerate(feas_sols):\n",
        "  init_obj[index] = obj(i)\n",
        "  start = time.process_time()\n",
        "  iter,f_obj,xf = augmentation(grav = r, func = obj, x = i, x_lo = 0*np.ones_like(i), x_up = 2*np.ones_like(i), OPTION=3,VERBOSE=False)\n",
        "  # print(time.process_time() - start, 'seconds')\"\"\n",
        "  # print(iter, 'iterations')\n",
        "  # print('solution:',f_obj,xf)\n",
        "  if(f_obj <= best_sol):\n",
        "    best_sol = f_obj\n",
        "    best_arg = xf\n",
        "  final_obj_full[index] = f_obj\n",
        "print(\"Total time: \", time.process_time() - start_2, 'seconds',\"\\nBest solution = \", best_sol, \" for x = \\n\", best_arg)\n",
        "fig, ax1 = plt.subplots()\n",
        "\n",
        "ax2 = ax1.twinx()\n",
        "\n",
        "ax1.plot(init_obj, color = 'orange', marker='o', ls='-', label='Initial')\n",
        "ax1.plot(final_obj_full, color = 'blue', marker='*', ls='-', label='Final')\n",
        "ax1.set_ylabel('Objective function')\n",
        "ax1.set_xlabel('Feasible solution')"
      ],
      "execution_count": null,
      "outputs": [
        {
          "output_type": "stream",
          "text": [
            "Greedy-augmentation: Choosing among the first element of G that with a single step reduces the objective\n",
            "Total time:  0.6066915999999765 seconds \n",
            "Best solution =  -30.687221094351987  for x = \n",
            " [0.5  0.75 0.   1.5  0.5  1.5  1.   0.5  1.   0.25 1.25 0.5  1.25 0.5\n",
            " 0.5  0.   1.   0.5  1.25 0.75 0.75 0.75 1.5  0.75 0.25 1.25 0.   0.5\n",
            " 1.   0.5  0.25 1.5  1.   0.   1.5  1.25 0.5  1.75 1.25 0.75 0.75 1.5\n",
            " 1.   0.5  1.5  1.5  0.5  0.5  1.25 0.   1.   0.25 1.25 0.   1.25 1.25\n",
            " 0.   0.   0.25 0.75]\n"
          ],
          "name": "stdout"
        },
        {
          "output_type": "execute_result",
          "data": {
            "text/plain": [
              "Text(0.5, 0, 'Feasible solution')"
            ]
          },
          "metadata": {
            "tags": []
          },
          "execution_count": 79
        },
        {
          "output_type": "display_data",
          "data": {
            "image/png": "[encoded data removed]",
            "text/plain": [
              "<Figure size 432x288 with 2 Axes>"
            ]
          },
          "metadata": {
            "tags": []
          }
        }
      ]
    },
    {
      "cell_type": "markdown",
      "metadata": {
        "id": "juvC1psXOu8q"
      },
      "source": [
        "##Validating the Model"
      ]
    },
    {
      "cell_type": "code",
      "metadata": {
        "colab": {
          "base_uri": "https://localhost:8080/"
        },
        "id": "6RLMcN6c7H7U",
        "outputId": "203144cf-c914-4534-839f-ba104cdf71d0"
      },
      "source": [
        "model_obj.alpha = best_arg\n",
        "for i in np.linspace(0,0.5, 1):\n",
        "  model_obj.calc_b(10000)\n",
        "  # model_obj.b = 0\n",
        "  model_obj.training_accuracy()\n",
        "  _, predictions = model_obj.validation(validate_data, binary_validate_labels)"
      ],
      "execution_count": null,
      "outputs": [
        {
          "output_type": "stream",
          "text": [
            "Finding the bias parameter\n",
            "Finding Training Accuracy of the model\n",
            "Training Accuracy of the classifier:  96.66666666666667\n",
            "Validating model\n",
            "Number of elements the model is validated for =  3000\n",
            "[-1. -1. -1. ... -1.  1.  1.]\n",
            "Accuracy of the classifier:  72.86666666666667\n"
          ],
          "name": "stdout"
        }
      ]
    },
    {
      "cell_type": "markdown",
      "metadata": {
        "id": "ES6kkI3CEWgF"
      },
      "source": [
        "#Classical Optimization"
      ]
    },
    {
      "cell_type": "markdown",
      "metadata": {
        "id": "Ku64r63YnfHu"
      },
      "source": [
        "##Optimizing with scipy"
      ]
    },
    {
      "cell_type": "code",
      "metadata": {
        "colab": {
          "base_uri": "https://localhost:8080/"
        },
        "id": "X_8AcXscEaOm",
        "outputId": "0198ce30-27f4-42e6-b379-825c22ef4b4d"
      },
      "source": [
        "x0 = np.ones(N)\n",
        "#print(A.reshape((N,)))\n",
        "#print(kernel)\n",
        "print(A@x0)\n",
        "#Creating box constraints\n",
        "bounds = scopt.Bounds(np.zeros(N),2*np.ones(N))\n",
        "\n",
        "#Creating equality constraint\n",
        "eq_cons = {'type' : 'eq', 'fun' : lambda x: A@x, 'jac' : lambda x: A }\n",
        "start_scipy = time.process_time()\n",
        "res = scopt.minimize(obj, x0, method = 'SLSQP', options = {'ftol': 1e-9, 'disp': True}, bounds = bounds, constraints = [eq_cons])\n",
        "print(\"Total time for scipy: \", time.process_time() - start_scipy, 'seconds')\n",
        "\n",
        "print(np.around(res.x,2))"
      ],
      "execution_count": null,
      "outputs": [
        {
          "output_type": "stream",
          "text": [
            "[2.]\n",
            "Optimization terminated successfully.    (Exit mode 0)\n",
            "            Current function value: -38.813213352481824\n",
            "            Iterations: 21\n",
            "            Function evaluations: 1304\n",
            "            Gradient evaluations: 21\n",
            "Total time for scipy:  0.17066924299999187 seconds\n",
            "[0.59 2.   0.23 2.   1.54 1.74 0.65 0.13 2.   0.97 0.96 2.   2.   0.6\n",
            " 2.   0.12 0.96 1.84 2.   0.   2.   1.61 0.   2.   1.27 1.17 1.23 1.09\n",
            " 0.59 1.35 0.26 0.41 1.37 2.   2.   0.93 0.15 1.61 0.   1.32 0.27 1.16\n",
            " 2.   0.69 0.   0.1  1.05 0.36 1.96 0.18 1.8  0.   2.   0.92 2.   2.\n",
            " 1.54 1.53 2.   0.85]\n"
          ],
          "name": "stdout"
        }
      ]
    },
    {
      "cell_type": "markdown",
      "metadata": {
        "id": "QpZhe6MIgOBv"
      },
      "source": [
        "##Validate Classical SVM (scipy optimization)"
      ]
    },
    {
      "cell_type": "code",
      "metadata": {
        "colab": {
          "base_uri": "https://localhost:8080/"
        },
        "id": "dOnNJ0bQgNgI",
        "outputId": "e302baa1-801e-4342-a63c-d1607a3372ea"
      },
      "source": [
        "model_obj.alpha = res.x\n",
        "print(np.around(res.x,2))\n",
        "print(obj(res.x))\n",
        "for i in np.linspace(0.2,0.4, 1):\n",
        "  model_obj.calc_b(2)\n",
        "  model_obj.training_accuracy()\n",
        "  model_obj.validation()"
      ],
      "execution_count": null,
      "outputs": [
        {
          "output_type": "stream",
          "text": [
            "[0.59 2.   0.23 2.   1.54 1.74 0.65 0.13 2.   0.97 0.96 2.   2.   0.6\n",
            " 2.   0.12 0.96 1.84 2.   0.   2.   1.61 0.   2.   1.27 1.17 1.23 1.09\n",
            " 0.59 1.35 0.26 0.41 1.37 2.   2.   0.93 0.15 1.61 0.   1.32 0.27 1.16\n",
            " 2.   0.69 0.   0.1  1.05 0.36 1.96 0.18 1.8  0.   2.   0.92 2.   2.\n",
            " 1.54 1.53 2.   0.85]\n",
            "-38.813213352481824\n",
            "Finding the bias parameter\n",
            "Finding Training Accuracy of the model\n",
            "Training Accuracy of the classifier:  100.0\n",
            "Validating model\n",
            "Number of elements the model is validated for =  3000\n",
            "[-1. -1. -1. ... -1.  1.  1.]\n",
            "Accuracy of the classifier:  73.0\n"
          ],
          "name": "stdout"
        }
      ]
    },
    {
      "cell_type": "code",
      "metadata": {
        "colab": {
          "base_uri": "https://localhost:8080/",
          "height": 281
        },
        "id": "CTX0YmGxiim7",
        "outputId": "ff4b81f1-430b-4386-c765-e95d82795761"
      },
      "source": [
        "plt.hist(res.x, bins = np.linspace(0,5,50))\n",
        "plt.title(\"Distribution of weights\")\n",
        "plt.show()"
      ],
      "execution_count": null,
      "outputs": [
        {
          "output_type": "display_data",
          "data": {
            "image/png": "[encoded data removed]",
            "text/plain": [
              "<Figure size 432x288 with 1 Axes>"
            ]
          },
          "metadata": {
            "tags": []
          }
        }
      ]
    },
    {
      "cell_type": "markdown",
      "metadata": {
        "id": "4HhC2lZMEEpS"
      },
      "source": [
        "# Ensemble Class"
      ]
    },
    {
      "cell_type": "code",
      "metadata": {
        "id": "EmMG8kSWc5ah"
      },
      "source": [
        "class Ensemble:\n",
        "  def __init__(self, model, training_batches, training_batches_labels, sim = True, ensemble_length = 10):\n",
        "    global kernel, labels\n",
        "    N = len(training_batches_labels[0])\n",
        "    print(\"N = \", N)\n",
        "    self.ensemble = [model(training_batches[i], training_batches_labels[i], N, 2, 2, gamma = 0.01,zeta = 100,sim = sim) for i in range(ensemble_length)]\n",
        "    for i in range(ensemble_length):\n",
        "      print(\"SVM number \",i)\n",
        "      A = training_batches_labels[i]\n",
        "      A = A.reshape([1,len(A)])\n",
        "      b = np.array([[0]])\n",
        "      self.ensemble_length = ensemble_length\n",
        "\n",
        "      self.ensemble[i].calc_kernel()\n",
        "      kernel = self.ensemble[i].kernel\n",
        "      labels = self.ensemble[i].labels\n",
        "      \n",
        "      M = 1\n",
        "      B = 2\n",
        "      K = 2\n",
        "      L = np.zeros([1,N]).T - 0.5\n",
        "      K0 = 2\n",
        "\n",
        "      sampler = neal.SimulatedAnnealingSampler()\n",
        "      # sampler = DWaveSampler()\n",
        "      start = time.process_time()\n",
        "      r = find_graver(N,B,K,M,L,A,samples = 1000, sim = sim, K0 = K0)\n",
        "      print(\"Time taken to find graver basis: \", time.process_time() - start, \"seconds\")\n",
        "\n",
        "      B = 2\n",
        "      K = 2\n",
        "      L = np.zeros([1,N]).T\n",
        "      K0 = 2\n",
        "      upper = sum([B**i for i in range(K)])\n",
        "\n",
        "      start = time.process_time()\n",
        "      feas_sols = get_feasible(N,B,K,M,L,A,b,samples = 10000, sim = sim, K0 = K0)\n",
        "      print(\"Time taken to find feasible solutions: \", time.process_time() - start, \"seconds\")\n",
        "      print(\"Number of feasible solutions = \",len(feas_sols))\n",
        "      print(\"Length of Graver basis = \", len(r))\n",
        "\n",
        "      r = np.array(r)\n",
        "      feas_sols = np.array(feas_sols)\n",
        "      init_obj = np.zeros((len(feas_sols),1))\n",
        "      iters_full = np.zeros((len(feas_sols),1))\n",
        "      final_obj_full = np.zeros((len(feas_sols),1))\n",
        "      times_full = np.zeros((len(feas_sols),1))\n",
        "      start_2 = time.process_time()\n",
        "      best_sol = 100000\n",
        "      for index, sol in enumerate(feas_sols):\n",
        "        init_obj[index] = obj(sol)\n",
        "        start = time.process_time()\n",
        "        iter,f_obj,xf = augmentation(grav = r, func = obj, x = sol, x_lo = 0*np.ones_like(sol), x_up = 2*np.ones_like(sol), OPTION=3,VERBOSE=False)\n",
        "        if(f_obj <= best_sol):\n",
        "          best_sol = f_obj\n",
        "          best_arg = xf\n",
        "        final_obj_full[index] = f_obj\n",
        "\n",
        "      self.ensemble[i].alpha = best_arg\n",
        "      self.ensemble[i].calc_b(3)\n",
        "      self.ensemble[i].training_accuracy()\n",
        "\n",
        "  def validate_models(self, validate_data, validate_labels, validate_N = 3000):\n",
        "    validate_N = validate_N\n",
        "    for i in range(self.ensemble_length):\n",
        "      self.ensemble[i].validation(validate_data, validate_labels, validate_N)\n",
        "\n",
        "\n",
        "  def prediction(self, val):\n",
        "    prediction_ensemble = []\n",
        "    for i in self.ensemble:\n",
        "      prediction_ensemble.append(i.decision(val))\n",
        "    return np.sign(sum(prediction_ensemble))\n",
        "    \n",
        "  def validate_ensemble(self, validate_data, validate_labels):\n",
        "    print(\"Finding accuracy of ensemble...\")\n",
        "    final_prediction = np.zeros(len(validate_labels))\n",
        "    for i, val in enumerate(validate_data):\n",
        "      final_prediction[i] = self.prediction(val)\n",
        "    accuracy = len(np.where(np.array(validate_labels)== final_prediction)[0])/len(validate_data)*100\n",
        "    print(\"The accuracy of the ensemble is: \",accuracy)\n",
        "    return accuracy"
      ],
      "execution_count": null,
      "outputs": []
    },
    {
      "cell_type": "markdown",
      "metadata": {
        "id": "71Het9dQW9ez"
      },
      "source": [
        "# Testing Ensemble"
      ]
    },
    {
      "cell_type": "code",
      "metadata": {
        "colab": {
          "base_uri": "https://localhost:8080/"
        },
        "id": "OqR5G8JQK9xm",
        "outputId": "186d6255-06a4-411c-a829-672423ae4f52"
      },
      "source": [
        "binary_validate_labels = np.array([-1 if validate_labels[i]<5 else 1 for i in range(len(validate_data))])\n",
        "N = 50\n",
        "ensemble_length = 5\n",
        "batches = np.reshape(training_data, [int(len(training_data)/N), N, len(training_data[0])])\n",
        "binary_training_labels = np.array([-1 if training_labels[i]<5 else 1 for i in range(len(training_data))])\n",
        "batches_labels = np.reshape(binary_training_labels, [int(len(binary_training_labels)/N), N])\n",
        "\n",
        "ensemble = Ensemble(model, batches, batches_labels, ensemble_length=ensemble_length)"
      ],
      "execution_count": null,
      "outputs": [
        {
          "output_type": "stream",
          "text": [
            "N =  50\n",
            "SVM number  0\n",
            "Calculating Kernel\n",
            "Doing simulated Annealing\n",
            "Shape before removing zero elements =  (50, 100)\n",
            "Shape after removing zero elements:  (50, 100)\n",
            "Shape before post-processing:  (50, 100)\n",
            "Shape after post-processing:  (50, 100)\n",
            "Checking if all elements are in kernel: \n",
            "The number of kernel elements after post-processing is:  100\n",
            "Time taken to find graver basis:  1.9318902109999954 seconds\n",
            "Doing simulated Annealing\n",
            "Time taken to find feasible solutions:  1.1735153719999971 seconds\n",
            "Number of feasible solutions =  50\n",
            "Length of Graver basis =  200\n",
            "Finding the bias parameter\n",
            "Finding Training Accuracy of the model\n",
            "Training Accuracy of the classifier:  96.0\n",
            "SVM number  1\n",
            "Calculating Kernel\n",
            "Doing simulated Annealing\n",
            "Shape before removing zero elements =  (50, 100)\n",
            "Shape after removing zero elements:  (50, 100)\n",
            "Shape before post-processing:  (50, 100)\n",
            "Shape after post-processing:  (50, 100)\n",
            "Checking if all elements are in kernel: \n",
            "The number of kernel elements after post-processing is:  100\n",
            "Time taken to find graver basis:  1.9317858330000206 seconds\n",
            "Doing simulated Annealing\n",
            "Time taken to find feasible solutions:  1.150305646999982 seconds\n",
            "Number of feasible solutions =  50\n",
            "Length of Graver basis =  200\n",
            "Finding the bias parameter\n",
            "Finding Training Accuracy of the model\n",
            "Training Accuracy of the classifier:  96.0\n",
            "SVM number  2\n",
            "Calculating Kernel\n",
            "Doing simulated Annealing\n",
            "Shape before removing zero elements =  (50, 100)\n",
            "Shape after removing zero elements:  (50, 100)\n",
            "Shape before post-processing:  (50, 100)\n",
            "Shape after post-processing:  (50, 100)\n",
            "Checking if all elements are in kernel: \n",
            "The number of kernel elements after post-processing is:  100\n",
            "Time taken to find graver basis:  1.9600519010000141 seconds\n",
            "Doing simulated Annealing\n",
            "Time taken to find feasible solutions:  1.1864380170000004 seconds\n",
            "Number of feasible solutions =  50\n",
            "Length of Graver basis =  200\n",
            "Finding the bias parameter\n",
            "Finding Training Accuracy of the model\n",
            "Training Accuracy of the classifier:  100.0\n",
            "SVM number  3\n",
            "Calculating Kernel\n",
            "Doing simulated Annealing\n",
            "Shape before removing zero elements =  (50, 100)\n",
            "Shape after removing zero elements:  (50, 100)\n",
            "Shape before post-processing:  (50, 100)\n",
            "Shape after post-processing:  (50, 100)\n",
            "Checking if all elements are in kernel: \n",
            "The number of kernel elements after post-processing is:  100\n",
            "Time taken to find graver basis:  1.9388401919999865 seconds\n",
            "Doing simulated Annealing\n",
            "Time taken to find feasible solutions:  1.1769222219999733 seconds\n",
            "Number of feasible solutions =  50\n",
            "Length of Graver basis =  200\n",
            "Finding the bias parameter\n",
            "Finding Training Accuracy of the model\n",
            "Training Accuracy of the classifier:  98.0\n",
            "SVM number  4\n",
            "Calculating Kernel\n",
            "Doing simulated Annealing\n",
            "Shape before removing zero elements =  (50, 100)\n",
            "Shape after removing zero elements:  (50, 100)\n",
            "Shape before post-processing:  (50, 100)\n",
            "Shape after post-processing:  (50, 100)\n",
            "Checking if all elements are in kernel: \n",
            "The number of kernel elements after post-processing is:  100\n",
            "Time taken to find graver basis:  1.9354475830000126 seconds\n",
            "Doing simulated Annealing\n",
            "Time taken to find feasible solutions:  1.1601931970000123 seconds\n",
            "Number of feasible solutions =  50\n",
            "Length of Graver basis =  200\n",
            "Finding the bias parameter\n",
            "Finding Training Accuracy of the model\n",
            "Training Accuracy of the classifier:  90.0\n"
          ],
          "name": "stdout"
        }
      ]
    },
    {
      "cell_type": "code",
      "metadata": {
        "colab": {
          "base_uri": "https://localhost:8080/"
        },
        "id": "8yJs6q3ZNb7b",
        "outputId": "9d0f5cba-a45e-4d4c-d2e9-d26e4be12d59"
      },
      "source": [
        "ensemble.validate_models(validate_data, binary_validate_labels)\n",
        "ensemble.validate_ensemble(validate_data, binary_validate_labels)"
      ],
      "execution_count": null,
      "outputs": [
        {
          "output_type": "stream",
          "text": [
            "Validating model\n",
            "Number of elements the model is validated for =  3000\n",
            "[ 1.  1.  1. ... -1. -1. -1.]\n",
            "Accuracy of the classifier:  68.93333333333334\n",
            "Validating model\n",
            "Number of elements the model is validated for =  3000\n",
            "[ 1.  1.  1. ... -1.  1.  1.]\n",
            "Accuracy of the classifier:  67.63333333333334\n",
            "Validating model\n",
            "Number of elements the model is validated for =  3000\n",
            "[-1. -1. -1. ... -1. -1.  1.]\n",
            "Accuracy of the classifier:  70.53333333333333\n",
            "Validating model\n",
            "Number of elements the model is validated for =  3000\n",
            "[-1.  1.  1. ... -1. -1.  1.]\n",
            "Accuracy of the classifier:  73.36666666666667\n",
            "Validating model\n",
            "Number of elements the model is validated for =  3000\n",
            "[-1. -1. -1. ... -1. -1.  1.]\n",
            "Accuracy of the classifier:  68.10000000000001\n",
            "Finding accuracy of ensemble...\n",
            "The accuracy of the ensemble is:  75.75833333333334\n"
          ],
          "name": "stdout"
        },
        {
          "output_type": "execute_result",
          "data": {
            "text/plain": [
              "75.75833333333334"
            ]
          },
          "metadata": {
            "tags": []
          },
          "execution_count": 38
        }
      ]
    },
    {
      "cell_type": "markdown",
      "metadata": {
        "id": "4a-J3N5Wns3j"
      },
      "source": [
        "# DAGSVM for 0-3"
      ]
    },
    {
      "cell_type": "code",
      "metadata": {
        "id": "vxikIcocnvbk"
      },
      "source": [
        "DAG = []\n",
        "N = 60\n",
        "ensemble_length = 3"
      ],
      "execution_count": null,
      "outputs": []
    },
    {
      "cell_type": "code",
      "metadata": {
        "colab": {
          "base_uri": "https://localhost:8080/"
        },
        "id": "aJs3Qima3m0k",
        "outputId": "a03d043a-b8f0-49b1-88c2-96d9f5e84e29"
      },
      "source": [
        "DAG_training_batches = le3_training_set.reshape([int(len(le3_training_set)/N),N,784])\n",
        "DAG_training_batches_labels = np.array([-1 if le3_training_labels[i]<2 else 1 for i in range(len(le3_training_labels))])\n",
        "DAG_training_batches_labels = DAG_training_batches_labels.reshape([int(len(DAG_training_batches_labels)/N),N])\n",
        "DAG.append(Ensemble(model, DAG_training_batches[2:], DAG_training_batches_labels[2:], ensemble_length = ensemble_length, sim = False))\n",
        "DAG_validate_set = le3_validate_set\n",
        "DAG_validate_labels = np.array([-1 if le3_validate_labels[i]<2 else 1 for i in range(len(le3_validate_labels))])\n",
        "# DAG[-1].validate_models(DAG_validate_set, DAG_validate_labels, len(DAG_validate_labels))\n",
        "# DAG[-1].validate_ensemble(DAG_validate_set, DAG_validate_labels)"
      ],
      "execution_count": null,
      "outputs": [
        {
          "output_type": "stream",
          "text": [
            "N =  60\n",
            "SVM number  0\n",
            "Calculating Kernel\n",
            "Encoding =  [0.25, 0.5]\n",
            "Finding Embedding\n",
            "Embedding was already there for 120 spins\n",
            "Time taken = {'qpu_sampling_time': 134660, 'qpu_anneal_time_per_sample': 5, 'qpu_readout_time_per_sample': 108, 'qpu_access_time': 159694, 'qpu_access_overhead_time': 26264, 'qpu_programming_time': 25034, 'qpu_delay_time_per_sample': 22, 'post_processing_overhead_time': 243, 'total_post_processing_time': 32381, 'total_real_time': 159694, 'run_time_chip': 134660, 'anneal_time_per_run': 5, 'readout_time_per_run': 108}\n",
            "Shape before removing zero elements =  (60, 1000)\n",
            "Shape after removing zero elements:  (60, 1000)\n",
            "Shape before post-processing:  (60, 82)\n",
            "Shape after post-processing:  (60, 389)\n",
            "Checking if all elements are in kernel: \n",
            "The number of kernel elements after post-processing is:  389\n",
            "Time taken to find graver basis:  3.1769525210000005 seconds\n",
            "Encoding =  [0.25, 0.5]\n",
            "Finding Embedding\n",
            "Embedding was already there for 120 spins\n",
            "Time taken = {'qpu_sampling_time': 1346600, 'qpu_anneal_time_per_sample': 5, 'qpu_readout_time_per_sample': 108, 'qpu_access_time': 1371637, 'qpu_access_overhead_time': 97974, 'qpu_programming_time': 25037, 'qpu_delay_time_per_sample': 22, 'post_processing_overhead_time': 3660, 'total_post_processing_time': 330335, 'total_real_time': 1371637, 'run_time_chip': 1346600, 'anneal_time_per_run': 5, 'readout_time_per_run': 108}\n",
            "Time taken to find feasible solutions:  12.432015861999998 seconds\n",
            "Number of feasible solutions =  771\n",
            "Length of Graver basis =  778\n",
            "Finding the bias parameter\n",
            "Finding Training Accuracy of the model\n",
            "Training Accuracy of the classifier:  100.0\n",
            "SVM number  1\n",
            "Calculating Kernel\n",
            "Encoding =  [0.25, 0.5]\n",
            "Finding Embedding\n",
            "Embedding was already there for 120 spins\n",
            "Time taken = {'qpu_sampling_time': 134660, 'qpu_anneal_time_per_sample': 5, 'qpu_readout_time_per_sample': 108, 'qpu_access_time': 159688, 'qpu_access_overhead_time': 15198, 'qpu_programming_time': 25028, 'qpu_delay_time_per_sample': 22, 'post_processing_overhead_time': 222, 'total_post_processing_time': 29360, 'total_real_time': 159688, 'run_time_chip': 134660, 'anneal_time_per_run': 5, 'readout_time_per_run': 108}\n",
            "Shape before removing zero elements =  (60, 1000)\n",
            "Shape after removing zero elements:  (60, 1000)\n",
            "Shape before post-processing:  (60, 67)\n",
            "Shape after post-processing:  (60, 241)\n",
            "Checking if all elements are in kernel: \n",
            "The number of kernel elements after post-processing is:  241\n",
            "Time taken to find graver basis:  2.428379574999994 seconds\n",
            "Encoding =  [0.25, 0.5]\n",
            "Finding Embedding\n",
            "Embedding was already there for 120 spins\n",
            "Time taken = {'qpu_sampling_time': 1346600, 'qpu_anneal_time_per_sample': 5, 'qpu_readout_time_per_sample': 108, 'qpu_access_time': 1371627, 'qpu_access_overhead_time': 85301, 'qpu_programming_time': 25027, 'qpu_delay_time_per_sample': 22, 'post_processing_overhead_time': 3421, 'total_post_processing_time': 326891, 'total_real_time': 1371627, 'run_time_chip': 1346600, 'anneal_time_per_run': 5, 'readout_time_per_run': 108}\n",
            "Time taken to find feasible solutions:  13.510754403999996 seconds\n",
            "Number of feasible solutions =  710\n",
            "Length of Graver basis =  482\n",
            "Finding the bias parameter\n",
            "Finding Training Accuracy of the model\n",
            "Training Accuracy of the classifier:  100.0\n",
            "SVM number  2\n",
            "Calculating Kernel\n",
            "Encoding =  [0.25, 0.5]\n",
            "Finding Embedding\n",
            "Embedding was already there for 120 spins\n",
            "Time taken = {'qpu_sampling_time': 134660, 'qpu_anneal_time_per_sample': 5, 'qpu_readout_time_per_sample': 108, 'qpu_access_time': 159700, 'qpu_access_overhead_time': 15320, 'qpu_programming_time': 25040, 'qpu_delay_time_per_sample': 22, 'post_processing_overhead_time': 257, 'total_post_processing_time': 31094, 'total_real_time': 159700, 'run_time_chip': 134660, 'anneal_time_per_run': 5, 'readout_time_per_run': 108}\n",
            "Shape before removing zero elements =  (60, 1000)\n",
            "Shape after removing zero elements:  (60, 1000)\n",
            "Shape before post-processing:  (60, 87)\n",
            "Shape after post-processing:  (60, 331)\n",
            "Checking if all elements are in kernel: \n",
            "The number of kernel elements after post-processing is:  331\n",
            "Time taken to find graver basis:  2.855994248000002 seconds\n",
            "Encoding =  [0.25, 0.5]\n",
            "Finding Embedding\n",
            "Embedding was already there for 120 spins\n",
            "Time taken = {'qpu_sampling_time': 1346600, 'qpu_anneal_time_per_sample': 5, 'qpu_readout_time_per_sample': 108, 'qpu_access_time': 1371632, 'qpu_access_overhead_time': 83671, 'qpu_programming_time': 25032, 'qpu_delay_time_per_sample': 22, 'post_processing_overhead_time': 3334, 'total_post_processing_time': 320545, 'total_real_time': 1371632, 'run_time_chip': 1346600, 'anneal_time_per_run': 5, 'readout_time_per_run': 108}\n",
            "Time taken to find feasible solutions:  15.028420966999988 seconds\n",
            "Number of feasible solutions =  724\n",
            "Length of Graver basis =  662\n",
            "Finding the bias parameter\n",
            "Finding Training Accuracy of the model\n",
            "Training Accuracy of the classifier:  100.0\n"
          ],
          "name": "stdout"
        }
      ]
    },
    {
      "cell_type": "code",
      "metadata": {
        "colab": {
          "base_uri": "https://localhost:8080/"
        },
        "id": "hEBWOYc9AVnS",
        "outputId": "800e92b4-0b1d-4b3c-f2b7-e756e12a7db9"
      },
      "source": [
        "DAG_training_batches = l2_training_set.reshape([int(len(l2_training_set)/N),N,784])\n",
        "DAG_training_batches_labels = np.array([-1 if l2_training_labels[i]<1 else 1 for i in range(len(l2_training_labels))])\n",
        "DAG_training_batches_labels = DAG_training_batches_labels.reshape([int(len(DAG_training_batches_labels)/N),N])\n",
        "DAG.append(Ensemble(model, DAG_training_batches, DAG_training_batches_labels, ensemble_length = ensemble_length, sim = False))\n",
        "DAG_validate_set = l2_validate_set\n",
        "DAG_validate_labels = np.array([-1 if l2_validate_labels[i]<1 else 1 for i in range(len(l2_validate_labels))])\n",
        "# DAG[-1].validate_models(DAG_validate_set, DAG_validate_labels, len(DAG_validate_labels))\n",
        "# DAG[-1].validate_ensemble(DAG_validate_set, DAG_validate_labels)"
      ],
      "execution_count": null,
      "outputs": [
        {
          "output_type": "stream",
          "text": [
            "N =  60\n",
            "SVM number  0\n",
            "Calculating Kernel\n",
            "Encoding =  [0.25, 0.5]\n",
            "Finding Embedding\n",
            "Embedding was already there for 120 spins\n",
            "Time taken = {'qpu_sampling_time': 134660, 'qpu_anneal_time_per_sample': 5, 'qpu_readout_time_per_sample': 108, 'qpu_access_time': 159694, 'qpu_access_overhead_time': 21152, 'qpu_programming_time': 25034, 'qpu_delay_time_per_sample': 22, 'post_processing_overhead_time': 223, 'total_post_processing_time': 29070, 'total_real_time': 159694, 'run_time_chip': 134660, 'anneal_time_per_run': 5, 'readout_time_per_run': 108}\n",
            "Shape before removing zero elements =  (60, 1000)\n",
            "Shape after removing zero elements:  (60, 1000)\n",
            "Shape before post-processing:  (60, 91)\n",
            "Shape after post-processing:  (60, 493)\n",
            "Checking if all elements are in kernel: \n",
            "The number of kernel elements after post-processing is:  493\n",
            "Time taken to find graver basis:  3.881423767000001 seconds\n",
            "Encoding =  [0.25, 0.5]\n",
            "Finding Embedding\n",
            "Embedding was already there for 120 spins\n",
            "Time taken = {'qpu_sampling_time': 1346600, 'qpu_anneal_time_per_sample': 5, 'qpu_readout_time_per_sample': 108, 'qpu_access_time': 1371625, 'qpu_access_overhead_time': 85666, 'qpu_programming_time': 25025, 'qpu_delay_time_per_sample': 22, 'post_processing_overhead_time': 3555, 'total_post_processing_time': 367643, 'total_real_time': 1371625, 'run_time_chip': 1346600, 'anneal_time_per_run': 5, 'readout_time_per_run': 108}\n",
            "Time taken to find feasible solutions:  12.496450202999995 seconds\n",
            "Number of feasible solutions =  387\n",
            "Length of Graver basis =  986\n",
            "Finding the bias parameter\n",
            "Finding Training Accuracy of the model\n",
            "Training Accuracy of the classifier:  100.0\n",
            "SVM number  1\n",
            "Calculating Kernel\n",
            "Encoding =  [0.25, 0.5]\n",
            "Finding Embedding\n",
            "Embedding was already there for 120 spins\n",
            "Time taken = {'qpu_sampling_time': 134660, 'qpu_anneal_time_per_sample': 5, 'qpu_readout_time_per_sample': 108, 'qpu_access_time': 159697, 'qpu_access_overhead_time': 15173, 'qpu_programming_time': 25037, 'qpu_delay_time_per_sample': 22, 'post_processing_overhead_time': 202, 'total_post_processing_time': 31236, 'total_real_time': 159697, 'run_time_chip': 134660, 'anneal_time_per_run': 5, 'readout_time_per_run': 108}\n",
            "Shape before removing zero elements =  (60, 1000)\n",
            "Shape after removing zero elements:  (60, 1000)\n",
            "Shape before post-processing:  (60, 78)\n",
            "Shape after post-processing:  (60, 435)\n",
            "Checking if all elements are in kernel: \n",
            "The number of kernel elements after post-processing is:  435\n",
            "Time taken to find graver basis:  5.622661875000006 seconds\n",
            "Encoding =  [0.25, 0.5]\n",
            "Finding Embedding\n",
            "Embedding was already there for 120 spins\n",
            "Time taken = {'qpu_sampling_time': 1346600, 'qpu_anneal_time_per_sample': 5, 'qpu_readout_time_per_sample': 108, 'qpu_access_time': 1371643, 'qpu_access_overhead_time': 85259, 'qpu_programming_time': 25043, 'qpu_delay_time_per_sample': 22, 'post_processing_overhead_time': 3694, 'total_post_processing_time': 367357, 'total_real_time': 1371643, 'run_time_chip': 1346600, 'anneal_time_per_run': 5, 'readout_time_per_run': 108}\n",
            "Time taken to find feasible solutions:  13.907202901999995 seconds\n",
            "Number of feasible solutions =  929\n",
            "Length of Graver basis =  870\n",
            "Finding the bias parameter\n",
            "Finding Training Accuracy of the model\n",
            "Training Accuracy of the classifier:  100.0\n",
            "SVM number  2\n",
            "Calculating Kernel\n",
            "Encoding =  [0.25, 0.5]\n",
            "Finding Embedding\n",
            "Embedding was already there for 120 spins\n",
            "Time taken = {'qpu_sampling_time': 134660, 'qpu_anneal_time_per_sample': 5, 'qpu_readout_time_per_sample': 108, 'qpu_access_time': 159689, 'qpu_access_overhead_time': 13810, 'qpu_programming_time': 25029, 'qpu_delay_time_per_sample': 22, 'post_processing_overhead_time': 219, 'total_post_processing_time': 30730, 'total_real_time': 159689, 'run_time_chip': 134660, 'anneal_time_per_run': 5, 'readout_time_per_run': 108}\n",
            "Shape before removing zero elements =  (60, 1000)\n",
            "Shape after removing zero elements:  (60, 1000)\n",
            "Shape before post-processing:  (60, 100)\n",
            "Shape after post-processing:  (60, 432)\n",
            "Checking if all elements are in kernel: \n",
            "The number of kernel elements after post-processing is:  432\n",
            "Time taken to find graver basis:  3.566723953999997 seconds\n",
            "Encoding =  [0.25, 0.5]\n",
            "Finding Embedding\n",
            "Embedding was already there for 120 spins\n",
            "Time taken = {'qpu_sampling_time': 1346600, 'qpu_anneal_time_per_sample': 5, 'qpu_readout_time_per_sample': 108, 'qpu_access_time': 1371629, 'qpu_access_overhead_time': 73775, 'qpu_programming_time': 25029, 'qpu_delay_time_per_sample': 22, 'post_processing_overhead_time': 3378, 'total_post_processing_time': 302195, 'total_real_time': 1371629, 'run_time_chip': 1346600, 'anneal_time_per_run': 5, 'readout_time_per_run': 108}\n",
            "Time taken to find feasible solutions:  12.845521303999988 seconds\n",
            "Number of feasible solutions =  923\n",
            "Length of Graver basis =  864\n",
            "Finding the bias parameter\n",
            "Finding Training Accuracy of the model\n",
            "Training Accuracy of the classifier:  100.0\n"
          ],
          "name": "stdout"
        }
      ]
    },
    {
      "cell_type": "code",
      "metadata": {
        "colab": {
          "base_uri": "https://localhost:8080/"
        },
        "id": "aickjZA9Z500",
        "outputId": "f8ec60c0-deb3-4cb2-9060-9ffcbef06079"
      },
      "source": [
        "DAG_training_batches = g2_training_set.reshape([int(len(g2_training_set)/N),N,784])\n",
        "DAG_training_batches_labels = np.array([-1 if g2_training_labels[i]<3 else 1 for i in range(len(g2_training_labels))])\n",
        "DAG_training_batches_labels = DAG_training_batches_labels.reshape([int(len(DAG_training_batches_labels)/N),N])\n",
        "DAG.append(Ensemble(model, DAG_training_batches, DAG_training_batches_labels, ensemble_length = ensemble_length, sim = False))\n",
        "DAG_validate_set = g2_validate_set\n",
        "DAG_validate_labels = np.array([-1 if g2_validate_labels[i]<3 else 1 for i in range(len(g2_validate_labels))])\n",
        "# DAG[-1].validate_models(DAG_validate_set, DAG_validate_labels, len(DAG_validate_labels))\n",
        "# DAG[-1].validate_ensemble(DAG_validate_set, DAG_validate_labels)"
      ],
      "execution_count": null,
      "outputs": [
        {
          "output_type": "stream",
          "text": [
            "N =  60\n",
            "SVM number  0\n",
            "Calculating Kernel\n",
            "Encoding =  [0.25, 0.5]\n",
            "Finding Embedding\n",
            "Embedding was already there for 120 spins\n",
            "Time taken = {'qpu_sampling_time': 134660, 'qpu_anneal_time_per_sample': 5, 'qpu_readout_time_per_sample': 108, 'qpu_access_time': 159687, 'qpu_access_overhead_time': 27442, 'qpu_programming_time': 25027, 'qpu_delay_time_per_sample': 22, 'post_processing_overhead_time': 231, 'total_post_processing_time': 29742, 'total_real_time': 159687, 'run_time_chip': 134660, 'anneal_time_per_run': 5, 'readout_time_per_run': 108}\n",
            "Shape before removing zero elements =  (60, 1000)\n",
            "Shape after removing zero elements:  (60, 1000)\n",
            "Shape before post-processing:  (60, 93)\n",
            "Shape after post-processing:  (60, 480)\n",
            "Checking if all elements are in kernel: \n",
            "The number of kernel elements after post-processing is:  480\n",
            "Time taken to find graver basis:  3.993588950000003 seconds\n",
            "Encoding =  [0.25, 0.5]\n",
            "Finding Embedding\n",
            "Embedding was already there for 120 spins\n",
            "Time taken = {'qpu_sampling_time': 1346600, 'qpu_anneal_time_per_sample': 5, 'qpu_readout_time_per_sample': 108, 'qpu_access_time': 1371624, 'qpu_access_overhead_time': 104130, 'qpu_programming_time': 25024, 'qpu_delay_time_per_sample': 22, 'post_processing_overhead_time': 3882, 'total_post_processing_time': 326480, 'total_real_time': 1371624, 'run_time_chip': 1346600, 'anneal_time_per_run': 5, 'readout_time_per_run': 108}\n",
            "Time taken to find feasible solutions:  13.316827923999995 seconds\n",
            "Number of feasible solutions =  672\n",
            "Length of Graver basis =  960\n",
            "Finding the bias parameter\n",
            "Finding Training Accuracy of the model\n",
            "Training Accuracy of the classifier:  96.66666666666667\n",
            "SVM number  1\n",
            "Calculating Kernel\n",
            "Encoding =  [0.25, 0.5]\n",
            "Finding Embedding\n",
            "Embedding was already there for 120 spins\n",
            "Time taken = {'qpu_sampling_time': 134660, 'qpu_anneal_time_per_sample': 5, 'qpu_readout_time_per_sample': 108, 'qpu_access_time': 159684, 'qpu_access_overhead_time': 19674, 'qpu_programming_time': 25024, 'qpu_delay_time_per_sample': 22, 'post_processing_overhead_time': 206, 'total_post_processing_time': 30718, 'total_real_time': 159684, 'run_time_chip': 134660, 'anneal_time_per_run': 5, 'readout_time_per_run': 108}\n",
            "Shape before removing zero elements =  (60, 1000)\n",
            "Shape after removing zero elements:  (60, 1000)\n",
            "Shape before post-processing:  (60, 73)\n",
            "Shape after post-processing:  (60, 495)\n",
            "Checking if all elements are in kernel: \n",
            "The number of kernel elements after post-processing is:  495\n",
            "Time taken to find graver basis:  7.133619247999945 seconds\n",
            "Encoding =  [0.25, 0.5]\n",
            "Finding Embedding\n",
            "Embedding was already there for 120 spins\n",
            "Time taken = {'qpu_sampling_time': 1346600, 'qpu_anneal_time_per_sample': 5, 'qpu_readout_time_per_sample': 108, 'qpu_access_time': 1371624, 'qpu_access_overhead_time': 71680, 'qpu_programming_time': 25024, 'qpu_delay_time_per_sample': 22, 'post_processing_overhead_time': 3294, 'total_post_processing_time': 326418, 'total_real_time': 1371624, 'run_time_chip': 1346600, 'anneal_time_per_run': 5, 'readout_time_per_run': 108}\n",
            "Time taken to find feasible solutions:  12.837739691000024 seconds\n",
            "Number of feasible solutions =  928\n",
            "Length of Graver basis =  990\n",
            "Finding the bias parameter\n",
            "Finding Training Accuracy of the model\n",
            "Training Accuracy of the classifier:  96.66666666666667\n",
            "SVM number  2\n",
            "Calculating Kernel\n",
            "Encoding =  [0.25, 0.5]\n",
            "Finding Embedding\n",
            "Embedding was already there for 120 spins\n",
            "Time taken = {'qpu_sampling_time': 134660, 'qpu_anneal_time_per_sample': 5, 'qpu_readout_time_per_sample': 108, 'qpu_access_time': 159691, 'qpu_access_overhead_time': 13958, 'qpu_programming_time': 25031, 'qpu_delay_time_per_sample': 22, 'post_processing_overhead_time': 229, 'total_post_processing_time': 29536, 'total_real_time': 159691, 'run_time_chip': 134660, 'anneal_time_per_run': 5, 'readout_time_per_run': 108}\n",
            "Shape before removing zero elements =  (60, 1000)\n",
            "Shape after removing zero elements:  (60, 1000)\n",
            "Shape before post-processing:  (60, 93)\n",
            "Shape after post-processing:  (60, 512)\n",
            "Checking if all elements are in kernel: \n",
            "The number of kernel elements after post-processing is:  512\n",
            "Time taken to find graver basis:  4.300586597999995 seconds\n",
            "Encoding =  [0.25, 0.5]\n",
            "Finding Embedding\n",
            "Embedding was already there for 120 spins\n",
            "Time taken = {'qpu_sampling_time': 1346600, 'qpu_anneal_time_per_sample': 5, 'qpu_readout_time_per_sample': 108, 'qpu_access_time': 1371631, 'qpu_access_overhead_time': 115555, 'qpu_programming_time': 25031, 'qpu_delay_time_per_sample': 22, 'post_processing_overhead_time': 3665, 'total_post_processing_time': 338820, 'total_real_time': 1371631, 'run_time_chip': 1346600, 'anneal_time_per_run': 5, 'readout_time_per_run': 108}\n",
            "Time taken to find feasible solutions:  13.122732508000013 seconds\n",
            "Number of feasible solutions =  934\n",
            "Length of Graver basis =  1024\n",
            "Finding the bias parameter\n",
            "Finding Training Accuracy of the model\n",
            "Training Accuracy of the classifier:  98.33333333333333\n"
          ],
          "name": "stdout"
        }
      ]
    },
    {
      "cell_type": "code",
      "metadata": {
        "id": "QujSmRDAm4hP"
      },
      "source": [
        "def DAG_prediction(DAG, i):\n",
        "  dec1 = DAG[0].prediction(i)\n",
        "  if dec1 == -1:\n",
        "    dec2 = DAG[1].prediction(i)\n",
        "    if dec2 == -1:\n",
        "      return 0\n",
        "    else:\n",
        "      return 1\n",
        "  else:\n",
        "    dec2 = DAG[2].prediction(i)\n",
        "    if dec2 == -1:\n",
        "      return 2\n",
        "    else:\n",
        "      return 3\n",
        "\n",
        "le3_indices = np.where(np.array(y_test) <= 3)\n",
        "le3_test_labels = np.array(y_test)[le3_indices]\n",
        "le3_test_set = np.array(x_test)[le3_indices]"
      ],
      "execution_count": null,
      "outputs": []
    },
    {
      "cell_type": "code",
      "metadata": {
        "colab": {
          "base_uri": "https://localhost:8080/"
        },
        "id": "ksVv5B_enuJQ",
        "outputId": "8897d85b-63bd-42c6-e1b1-901e174c40f0"
      },
      "source": [
        "DAG_predictions = []\n",
        "for i in le3_validate_set:\n",
        "  DAG_predictions.append(DAG_prediction(DAG, i))\n",
        "print(\"Accuracy of multiclass on validation set = \", 100*len(np.where(DAG_predictions == le3_validate_labels)[0])/len(le3_validate_labels))\n"
      ],
      "execution_count": null,
      "outputs": [
        {
          "output_type": "stream",
          "text": [
            "Accuracy of multiclass on validation set =  90.6\n"
          ],
          "name": "stdout"
        }
      ]
    },
    {
      "cell_type": "code",
      "metadata": {
        "colab": {
          "base_uri": "https://localhost:8080/"
        },
        "id": "WoMbCHYroJBf",
        "outputId": "61d72033-9286-480f-9fa4-db4a405538ce"
      },
      "source": [
        "DAG_predictions = []\n",
        "for i in le3_test_set:\n",
        "  DAG_predictions.append(DAG_prediction(DAG, i))\n",
        "print(\"Accuracy of multiclass on test set = \", 100*len(np.where(DAG_predictions == le3_test_labels)[0])/len(le3_test_labels))\n"
      ],
      "execution_count": null,
      "outputs": [
        {
          "output_type": "stream",
          "text": [
            "Accuracy of multiclass on test set =  90.90690401732019\n"
          ],
          "name": "stdout"
        }
      ]
    },
    {
      "cell_type": "markdown",
      "metadata": {
        "id": "kiDXqBPMFtV5"
      },
      "source": [
        "# DAGSVM for 0-7\r\n"
      ]
    },
    {
      "cell_type": "code",
      "metadata": {
        "id": "0hup5ItSFtWp"
      },
      "source": [
        "DAG = []\n",
        "N = 60\n",
        "ensemble_length = 1"
      ],
      "execution_count": null,
      "outputs": []
    },
    {
      "cell_type": "code",
      "metadata": {
        "colab": {
          "base_uri": "https://localhost:8080/"
        },
        "id": "ewuEuza-M3v0",
        "outputId": "ab300ff1-cdb0-444d-be02-b016a290b779"
      },
      "source": [
        "DAG_training_batches = l7_training_set.reshape([int(len(l7_training_set)/N),N,784])\r\n",
        "DAG_training_batches_labels = np.array([-1 if l7_training_labels[i]<4 else 1 for i in range(len(l7_training_labels))])\r\n",
        "DAG_training_batches_labels = DAG_training_batches_labels.reshape([int(len(DAG_training_batches_labels)/N),N])\r\n",
        "DAG.append(Ensemble(model, DAG_training_batches, DAG_training_batches_labels, ensemble_length = ensemble_length, sim = False))\r\n",
        "DAG_validate_set = l7_validate_set\r\n",
        "DAG_validate_labels = np.array([-1 if l7_validate_labels[i]<4 else 1 for i in range(len(l7_validate_labels))])\r\n",
        "DAG[-1].validate_models(DAG_validate_set, DAG_validate_labels, len(DAG_validate_labels))\r\n",
        "DAG[-1].validate_ensemble(DAG_validate_set, DAG_validate_labels)"
      ],
      "execution_count": null,
      "outputs": [
        {
          "output_type": "stream",
          "text": [
            "N =  60\n",
            "SVM number  0\n",
            "Calculating Kernel\n",
            "Encoding =  [0.25, 0.5]\n",
            "Finding Embedding\n",
            "Embedding was already there for 120 spins\n",
            "Time taken = {'qpu_sampling_time': 134660, 'qpu_anneal_time_per_sample': 5, 'qpu_readout_time_per_sample': 108, 'qpu_access_time': 159699, 'qpu_access_overhead_time': 15391, 'qpu_programming_time': 25039, 'qpu_delay_time_per_sample': 22, 'post_processing_overhead_time': 232, 'total_post_processing_time': 32600, 'total_real_time': 159699, 'run_time_chip': 134660, 'anneal_time_per_run': 5, 'readout_time_per_run': 108}\n",
            "Shape before removing zero elements =  (60, 1000)\n",
            "Shape after removing zero elements:  (60, 1000)\n",
            "Shape before post-processing:  (60, 90)\n",
            "Shape after post-processing:  (60, 489)\n",
            "Checking if all elements are in kernel: \n",
            "The number of kernel elements after post-processing is:  489\n",
            "Time taken to find graver basis:  4.08257974099979 seconds\n",
            "Encoding =  [0.25, 0.5]\n",
            "Finding Embedding\n",
            "Embedding was already there for 120 spins\n",
            "Time taken = {'qpu_sampling_time': 1346600, 'qpu_anneal_time_per_sample': 5, 'qpu_readout_time_per_sample': 108, 'qpu_access_time': 1371636, 'qpu_access_overhead_time': 75313, 'qpu_programming_time': 25036, 'qpu_delay_time_per_sample': 22, 'post_processing_overhead_time': 3616, 'total_post_processing_time': 347478, 'total_real_time': 1371636, 'run_time_chip': 1346600, 'anneal_time_per_run': 5, 'readout_time_per_run': 108}\n",
            "Time taken to find feasible solutions:  12.50833421599964 seconds\n",
            "Number of feasible solutions =  163\n",
            "Length of Graver basis =  978\n",
            "Finding the bias parameter\n",
            "Finding Training Accuracy of the model\n",
            "Training Accuracy of the classifier:  98.33333333333333\n",
            "Validating model\n",
            "Number of elements the model is validated for =  9000\n",
            "[ 1.  1.  1. ...  1.  1. -1.]\n",
            "Accuracy of the classifier:  83.65555555555557\n",
            "Finding accuracy of ensemble...\n",
            "The accuracy of the ensemble is:  83.65555555555557\n"
          ],
          "name": "stdout"
        },
        {
          "output_type": "execute_result",
          "data": {
            "text/plain": [
              "83.65555555555557"
            ]
          },
          "metadata": {
            "tags": []
          },
          "execution_count": 322
        }
      ]
    },
    {
      "cell_type": "code",
      "metadata": {
        "colab": {
          "base_uri": "https://localhost:8080/"
        },
        "id": "z904n_SiFtWw",
        "outputId": "9f05a8d4-8ed5-42c2-8bfa-d5d444a7fb62"
      },
      "source": [
        "DAG_training_batches = le3_training_set.reshape([int(len(le3_training_set)/N),N,784])\n",
        "DAG_training_batches_labels = np.array([-1 if le3_training_labels[i]<2 else 1 for i in range(len(le3_training_labels))])\n",
        "DAG_training_batches_labels = DAG_training_batches_labels.reshape([int(len(DAG_training_batches_labels)/N),N])\n",
        "DAG.append(Ensemble(model, DAG_training_batches, DAG_training_batches_labels, ensemble_length = ensemble_length, sim = False))\n",
        "DAG_validate_set = le3_validate_set\n",
        "DAG_validate_labels = np.array([-1 if le3_validate_labels[i]<2 else 1 for i in range(len(le3_validate_labels))])\n",
        "DAG[-1].validate_models(DAG_validate_set, DAG_validate_labels, len(DAG_validate_labels))\n",
        "DAG[-1].validate_ensemble(DAG_validate_set, DAG_validate_labels)"
      ],
      "execution_count": null,
      "outputs": [
        {
          "output_type": "stream",
          "text": [
            "N =  60\n",
            "SVM number  0\n",
            "Calculating Kernel\n",
            "Encoding =  [0.25, 0.5]\n",
            "Finding Embedding\n",
            "Embedding was already there for 120 spins\n",
            "Time taken = {'qpu_sampling_time': 134660, 'qpu_anneal_time_per_sample': 5, 'qpu_readout_time_per_sample': 108, 'qpu_access_time': 159676, 'qpu_access_overhead_time': 15056, 'qpu_programming_time': 25016, 'qpu_delay_time_per_sample': 22, 'post_processing_overhead_time': 249, 'total_post_processing_time': 33310, 'total_real_time': 159676, 'run_time_chip': 134660, 'anneal_time_per_run': 5, 'readout_time_per_run': 108}\n",
            "Shape before removing zero elements =  (60, 1000)\n",
            "Shape after removing zero elements:  (60, 1000)\n",
            "Shape before post-processing:  (60, 67)\n",
            "Shape after post-processing:  (60, 274)\n",
            "Checking if all elements are in kernel: \n",
            "The number of kernel elements after post-processing is:  274\n",
            "Time taken to find graver basis:  2.8444300249998378 seconds\n",
            "Encoding =  [0.25, 0.5]\n",
            "Finding Embedding\n",
            "Embedding was already there for 120 spins\n",
            "Time taken = {'qpu_sampling_time': 1346600, 'qpu_anneal_time_per_sample': 5, 'qpu_readout_time_per_sample': 108, 'qpu_access_time': 1371624, 'qpu_access_overhead_time': 71101, 'qpu_programming_time': 25024, 'qpu_delay_time_per_sample': 22, 'post_processing_overhead_time': 3303, 'total_post_processing_time': 323454, 'total_real_time': 1371624, 'run_time_chip': 1346600, 'anneal_time_per_run': 5, 'readout_time_per_run': 108}\n",
            "Time taken to find feasible solutions:  12.960485127000084 seconds\n",
            "Number of feasible solutions =  105\n",
            "Length of Graver basis =  548\n",
            "Finding the bias parameter\n",
            "Finding Training Accuracy of the model\n",
            "Training Accuracy of the classifier:  95.0\n",
            "Validating model\n",
            "Number of elements the model is validated for =  4000\n",
            "[ 1.  1. -1. ...  1.  1. -1.]\n",
            "Accuracy of the classifier:  76.0\n",
            "Finding accuracy of ensemble...\n",
            "The accuracy of the ensemble is:  76.0\n"
          ],
          "name": "stdout"
        },
        {
          "output_type": "execute_result",
          "data": {
            "text/plain": [
              "76.0"
            ]
          },
          "metadata": {
            "tags": []
          },
          "execution_count": 323
        }
      ]
    },
    {
      "cell_type": "code",
      "metadata": {
        "colab": {
          "base_uri": "https://localhost:8080/"
        },
        "id": "DrM7yHqmNKc7",
        "outputId": "e17bf9a7-54c0-42ea-e26e-52870a3174ae"
      },
      "source": [
        "DAG_training_batches = g3_training_set.reshape([int(len(g3_training_set)/N),N,784])\r\n",
        "DAG_training_batches_labels = np.array([-1 if g3_training_labels[i]<6 else 1 for i in range(len(g3_training_labels))])\r\n",
        "DAG_training_batches_labels = DAG_training_batches_labels.reshape([int(len(DAG_training_batches_labels)/N),N])\r\n",
        "DAG.append(Ensemble(model, DAG_training_batches, DAG_training_batches_labels, ensemble_length = ensemble_length, sim = False))\r\n",
        "DAG_validate_set = g3_validate_set\r\n",
        "DAG_validate_labels = np.array([-1 if g3_validate_labels[i]<6 else 1 for i in range(len(g3_validate_labels))])\r\n",
        "DAG[-1].validate_models(DAG_validate_set, DAG_validate_labels, len(DAG_validate_labels))\r\n",
        "DAG[-1].validate_ensemble(DAG_validate_set, DAG_validate_labels)"
      ],
      "execution_count": null,
      "outputs": [
        {
          "output_type": "stream",
          "text": [
            "N =  60\n",
            "SVM number  0\n",
            "Calculating Kernel\n",
            "Encoding =  [0.25, 0.5]\n",
            "Finding Embedding\n",
            "Embedding was already there for 120 spins\n",
            "Time taken = {'qpu_sampling_time': 134660, 'qpu_anneal_time_per_sample': 5, 'qpu_readout_time_per_sample': 108, 'qpu_access_time': 159690, 'qpu_access_overhead_time': 19722, 'qpu_programming_time': 25030, 'qpu_delay_time_per_sample': 22, 'post_processing_overhead_time': 211, 'total_post_processing_time': 29438, 'total_real_time': 159690, 'run_time_chip': 134660, 'anneal_time_per_run': 5, 'readout_time_per_run': 108}\n",
            "Shape before removing zero elements =  (60, 1000)\n",
            "Shape after removing zero elements:  (60, 1000)\n",
            "Shape before post-processing:  (60, 90)\n",
            "Shape after post-processing:  (60, 486)\n",
            "Checking if all elements are in kernel: \n",
            "The number of kernel elements after post-processing is:  486\n",
            "Time taken to find graver basis:  6.720424292000189 seconds\n",
            "Encoding =  [0.25, 0.5]\n",
            "Finding Embedding\n",
            "Embedding was already there for 120 spins\n",
            "Time taken = {'qpu_sampling_time': 1346600, 'qpu_anneal_time_per_sample': 5, 'qpu_readout_time_per_sample': 108, 'qpu_access_time': 1371632, 'qpu_access_overhead_time': 83455, 'qpu_programming_time': 25032, 'qpu_delay_time_per_sample': 22, 'post_processing_overhead_time': 3627, 'total_post_processing_time': 307816, 'total_real_time': 1371632, 'run_time_chip': 1346600, 'anneal_time_per_run': 5, 'readout_time_per_run': 108}\n",
            "Time taken to find feasible solutions:  12.829084894000061 seconds\n",
            "Number of feasible solutions =  896\n",
            "Length of Graver basis =  972\n",
            "Finding the bias parameter\n",
            "Finding Training Accuracy of the model\n",
            "Training Accuracy of the classifier:  98.33333333333333\n",
            "Validating model\n",
            "Number of elements the model is validated for =  4000\n",
            "[-1.  1.  1. ...  1. -1. -1.]\n",
            "Accuracy of the classifier:  89.97500000000001\n",
            "Finding accuracy of ensemble...\n",
            "The accuracy of the ensemble is:  89.97500000000001\n"
          ],
          "name": "stdout"
        },
        {
          "output_type": "execute_result",
          "data": {
            "text/plain": [
              "89.97500000000001"
            ]
          },
          "metadata": {
            "tags": []
          },
          "execution_count": 331
        }
      ]
    },
    {
      "cell_type": "code",
      "metadata": {
        "colab": {
          "base_uri": "https://localhost:8080/"
        },
        "id": "vH4w_GVRFtW7",
        "outputId": "d9d27ccd-02fc-4b1d-d1fb-bf65dcba75da"
      },
      "source": [
        "DAG_training_batches = l2_training_set.reshape([int(len(l2_training_set)/N),N,784])\n",
        "DAG_training_batches_labels = np.array([-1 if l2_training_labels[i]<1 else 1 for i in range(len(l2_training_labels))])\n",
        "DAG_training_batches_labels = DAG_training_batches_labels.reshape([int(len(DAG_training_batches_labels)/N),N])\n",
        "DAG.append(Ensemble(model, DAG_training_batches, DAG_training_batches_labels, ensemble_length = ensemble_length, sim = False))\n",
        "DAG_validate_set = l2_validate_set\n",
        "DAG_validate_labels = np.array([-1 if l2_validate_labels[i]<1 else 1 for i in range(len(l2_validate_labels))])\n",
        "DAG[-1].validate_models(DAG_validate_set, DAG_validate_labels, len(DAG_validate_labels))\n",
        "DAG[-1].validate_ensemble(DAG_validate_set, DAG_validate_labels)"
      ],
      "execution_count": null,
      "outputs": [
        {
          "output_type": "stream",
          "text": [
            "N =  60\n",
            "SVM number  0\n",
            "Calculating Kernel\n",
            "Encoding =  [0.25, 0.5]\n",
            "Finding Embedding\n",
            "Embedding was already there for 120 spins\n",
            "Time taken = {'qpu_sampling_time': 134660, 'qpu_anneal_time_per_sample': 5, 'qpu_readout_time_per_sample': 108, 'qpu_access_time': 159695, 'qpu_access_overhead_time': 16269, 'qpu_programming_time': 25035, 'qpu_delay_time_per_sample': 22, 'post_processing_overhead_time': 252, 'total_post_processing_time': 28850, 'total_real_time': 159695, 'run_time_chip': 134660, 'anneal_time_per_run': 5, 'readout_time_per_run': 108}\n",
            "Shape before removing zero elements =  (60, 1000)\n",
            "Shape after removing zero elements:  (60, 1000)\n",
            "Shape before post-processing:  (60, 86)\n",
            "Shape after post-processing:  (60, 503)\n",
            "Checking if all elements are in kernel: \n",
            "The number of kernel elements after post-processing is:  503\n",
            "Time taken to find graver basis:  4.316986085999815 seconds\n",
            "Encoding =  [0.25, 0.5]\n",
            "Finding Embedding\n",
            "Embedding was already there for 120 spins\n",
            "Time taken = {'qpu_sampling_time': 1346600, 'qpu_anneal_time_per_sample': 5, 'qpu_readout_time_per_sample': 108, 'qpu_access_time': 1371624, 'qpu_access_overhead_time': 79814, 'qpu_programming_time': 25024, 'qpu_delay_time_per_sample': 22, 'post_processing_overhead_time': 3971, 'total_post_processing_time': 333446, 'total_real_time': 1371624, 'run_time_chip': 1346600, 'anneal_time_per_run': 5, 'readout_time_per_run': 108}\n",
            "Time taken to find feasible solutions:  13.80146128000024 seconds\n",
            "Number of feasible solutions =  373\n",
            "Length of Graver basis =  1006\n",
            "Finding the bias parameter\n",
            "Finding Training Accuracy of the model\n",
            "Training Accuracy of the classifier:  100.0\n",
            "Validating model\n",
            "Number of elements the model is validated for =  2000\n",
            "[-1.  1.  1. ...  1. -1.  1.]\n",
            "Accuracy of the classifier:  99.55000000000001\n",
            "Finding accuracy of ensemble...\n",
            "The accuracy of the ensemble is:  99.55000000000001\n"
          ],
          "name": "stdout"
        },
        {
          "output_type": "execute_result",
          "data": {
            "text/plain": [
              "99.55000000000001"
            ]
          },
          "metadata": {
            "tags": []
          },
          "execution_count": 332
        }
      ]
    },
    {
      "cell_type": "code",
      "metadata": {
        "colab": {
          "base_uri": "https://localhost:8080/"
        },
        "id": "HeSzG4OXFtW_",
        "outputId": "cc99b94d-16a4-4ffd-8716-165b52dec7cb"
      },
      "source": [
        "DAG_training_batches = g2_training_set.reshape([int(len(g2_training_set)/N),N,784])\n",
        "DAG_training_batches_labels = np.array([-1 if g2_training_labels[i]<3 else 1 for i in range(len(g2_training_labels))])\n",
        "DAG_training_batches_labels = DAG_training_batches_labels.reshape([int(len(DAG_training_batches_labels)/N),N])\n",
        "DAG.append(Ensemble(model, DAG_training_batches, DAG_training_batches_labels, ensemble_length = ensemble_length, sim = False))\n",
        "DAG_validate_set = g2_validate_set\n",
        "DAG_validate_labels = np.array([-1 if g2_validate_labels[i]<3 else 1 for i in range(len(g2_validate_labels))])\n",
        "DAG[-1].validate_models(DAG_validate_set, DAG_validate_labels, len(DAG_validate_labels))\n",
        "DAG[-1].validate_ensemble(DAG_validate_set, DAG_validate_labels)"
      ],
      "execution_count": null,
      "outputs": [
        {
          "output_type": "stream",
          "text": [
            "N =  60\n",
            "SVM number  0\n",
            "Calculating Kernel\n",
            "Encoding =  [0.25, 0.5]\n",
            "Finding Embedding\n",
            "Embedding was already there for 120 spins\n",
            "Time taken = {'qpu_sampling_time': 134660, 'qpu_anneal_time_per_sample': 5, 'qpu_readout_time_per_sample': 108, 'qpu_access_time': 159687, 'qpu_access_overhead_time': 20947, 'qpu_programming_time': 25027, 'qpu_delay_time_per_sample': 22, 'post_processing_overhead_time': 234, 'total_post_processing_time': 30539, 'total_real_time': 159687, 'run_time_chip': 134660, 'anneal_time_per_run': 5, 'readout_time_per_run': 108}\n",
            "Shape before removing zero elements =  (60, 1000)\n",
            "Shape after removing zero elements:  (60, 1000)\n",
            "Shape before post-processing:  (60, 68)\n",
            "Shape after post-processing:  (60, 343)\n",
            "Checking if all elements are in kernel: \n",
            "The number of kernel elements after post-processing is:  343\n",
            "Time taken to find graver basis:  3.360388981000142 seconds\n",
            "Encoding =  [0.25, 0.5]\n",
            "Finding Embedding\n",
            "Embedding was already there for 120 spins\n",
            "Time taken = {'qpu_sampling_time': 1346600, 'qpu_anneal_time_per_sample': 5, 'qpu_readout_time_per_sample': 108, 'qpu_access_time': 1371624, 'qpu_access_overhead_time': 77166, 'qpu_programming_time': 25024, 'qpu_delay_time_per_sample': 22, 'post_processing_overhead_time': 3615, 'total_post_processing_time': 314834, 'total_real_time': 1371624, 'run_time_chip': 1346600, 'anneal_time_per_run': 5, 'readout_time_per_run': 108}\n",
            "Time taken to find feasible solutions:  13.71391813199989 seconds\n",
            "Number of feasible solutions =  737\n",
            "Length of Graver basis =  686\n",
            "Finding the bias parameter\n",
            "Finding Training Accuracy of the model\n",
            "Training Accuracy of the classifier:  100.0\n",
            "Validating model\n",
            "Number of elements the model is validated for =  1996\n",
            "[ 1. -1. -1. ... -1. -1. -1.]\n",
            "Accuracy of the classifier:  95.19038076152304\n",
            "Finding accuracy of ensemble...\n",
            "The accuracy of the ensemble is:  95.19038076152304\n"
          ],
          "name": "stdout"
        },
        {
          "output_type": "execute_result",
          "data": {
            "text/plain": [
              "95.19038076152304"
            ]
          },
          "metadata": {
            "tags": []
          },
          "execution_count": 333
        }
      ]
    },
    {
      "cell_type": "code",
      "metadata": {
        "colab": {
          "base_uri": "https://localhost:8080/"
        },
        "id": "BzU9nFOGNe9T",
        "outputId": "6a5f4272-36b6-4391-9c51-871d76b2e4e5"
      },
      "source": [
        "DAG_training_batches = l6_training_set.reshape([int(len(l6_training_set)/N),N,784])\r\n",
        "DAG_training_batches_labels = np.array([-1 if l6_training_labels[i]<5 else 1 for i in range(len(l6_training_labels))])\r\n",
        "DAG_training_batches_labels = DAG_training_batches_labels.reshape([int(len(DAG_training_batches_labels)/N),N])\r\n",
        "DAG.append(Ensemble(model, DAG_training_batches, DAG_training_batches_labels, ensemble_length = ensemble_length, sim = False))\r\n",
        "DAG_validate_set = l6_validate_set\r\n",
        "DAG_validate_labels = np.array([-1 if l6_validate_labels[i]<5 else 1 for i in range(len(l6_validate_labels))])\r\n",
        "DAG[-1].validate_models(DAG_validate_set, DAG_validate_labels, len(DAG_validate_labels))\r\n",
        "DAG[-1].validate_ensemble(DAG_validate_set, DAG_validate_labels)"
      ],
      "execution_count": null,
      "outputs": [
        {
          "output_type": "stream",
          "text": [
            "N =  60\n",
            "SVM number  0\n",
            "Calculating Kernel\n",
            "Encoding =  [0.25, 0.5]\n",
            "Finding Embedding\n",
            "Embedding was already there for 120 spins\n",
            "Time taken = {'qpu_sampling_time': 134660, 'qpu_anneal_time_per_sample': 5, 'qpu_readout_time_per_sample': 108, 'qpu_access_time': 159688, 'qpu_access_overhead_time': 24845, 'qpu_programming_time': 25028, 'qpu_delay_time_per_sample': 22, 'post_processing_overhead_time': 210, 'total_post_processing_time': 31946, 'total_real_time': 159688, 'run_time_chip': 134660, 'anneal_time_per_run': 5, 'readout_time_per_run': 108}\n",
            "Shape before removing zero elements =  (60, 1000)\n",
            "Shape after removing zero elements:  (60, 1000)\n",
            "Shape before post-processing:  (60, 92)\n",
            "Shape after post-processing:  (60, 499)\n",
            "Checking if all elements are in kernel: \n",
            "The number of kernel elements after post-processing is:  499\n",
            "Time taken to find graver basis:  4.3442397939998045 seconds\n",
            "Encoding =  [0.25, 0.5]\n",
            "Finding Embedding\n",
            "Embedding was already there for 120 spins\n",
            "Time taken = {'qpu_sampling_time': 1346600, 'qpu_anneal_time_per_sample': 5, 'qpu_readout_time_per_sample': 108, 'qpu_access_time': 1371630, 'qpu_access_overhead_time': 221461, 'qpu_programming_time': 25030, 'qpu_delay_time_per_sample': 22, 'post_processing_overhead_time': 3717, 'total_post_processing_time': 353465, 'total_real_time': 1371630, 'run_time_chip': 1346600, 'anneal_time_per_run': 5, 'readout_time_per_run': 108}\n",
            "Time taken to find feasible solutions:  13.196416696000142 seconds\n",
            "Number of feasible solutions =  195\n",
            "Length of Graver basis =  998\n",
            "Finding the bias parameter\n",
            "Finding Training Accuracy of the model\n",
            "Training Accuracy of the classifier:  100.0\n",
            "Validating model\n",
            "Number of elements the model is validated for =  1906\n",
            "[ 1.  1. -1. ... -1. -1. -1.]\n",
            "Accuracy of the classifier:  96.16998950682057\n",
            "Finding accuracy of ensemble...\n",
            "The accuracy of the ensemble is:  96.16998950682057\n"
          ],
          "name": "stdout"
        },
        {
          "output_type": "execute_result",
          "data": {
            "text/plain": [
              "96.16998950682057"
            ]
          },
          "metadata": {
            "tags": []
          },
          "execution_count": 334
        }
      ]
    },
    {
      "cell_type": "code",
      "metadata": {
        "colab": {
          "base_uri": "https://localhost:8080/"
        },
        "id": "XgC50UqYNpPI",
        "outputId": "f451cf8f-215c-4fd0-e320-09ce1db625a1"
      },
      "source": [
        "DAG_training_batches = g6_training_set.reshape([int(len(g6_training_set)/N),N,784])\r\n",
        "DAG_training_batches_labels = np.array([-1 if g6_training_labels[i]<7 else 1 for i in range(len(g6_training_labels))])\r\n",
        "DAG_training_batches_labels = DAG_training_batches_labels.reshape([int(len(DAG_training_batches_labels)/N),N])\r\n",
        "DAG.append(Ensemble(model, DAG_training_batches, DAG_training_batches_labels, ensemble_length = ensemble_length, sim = False))\r\n",
        "DAG_validate_set = g6_validate_set\r\n",
        "DAG_validate_labels = np.array([-1 if g6_validate_labels[i]<7 else 1 for i in range(len(g6_validate_labels))])\r\n",
        "DAG[-1].validate_models(DAG_validate_set, DAG_validate_labels, len(DAG_validate_labels))\r\n",
        "DAG[-1].validate_ensemble(DAG_validate_set, DAG_validate_labels)"
      ],
      "execution_count": null,
      "outputs": [
        {
          "output_type": "stream",
          "text": [
            "N =  60\n",
            "SVM number  0\n",
            "Calculating Kernel\n",
            "Encoding =  [0.25, 0.5]\n",
            "Finding Embedding\n",
            "Embedding was already there for 120 spins\n",
            "Time taken = {'qpu_sampling_time': 134660, 'qpu_anneal_time_per_sample': 5, 'qpu_readout_time_per_sample': 108, 'qpu_access_time': 159686, 'qpu_access_overhead_time': 22668, 'qpu_programming_time': 25026, 'qpu_delay_time_per_sample': 22, 'post_processing_overhead_time': 246, 'total_post_processing_time': 32992, 'total_real_time': 159686, 'run_time_chip': 134660, 'anneal_time_per_run': 5, 'readout_time_per_run': 108}\n",
            "Shape before removing zero elements =  (60, 1000)\n",
            "Shape after removing zero elements:  (60, 1000)\n",
            "Shape before post-processing:  (60, 74)\n",
            "Shape after post-processing:  (60, 256)\n",
            "Checking if all elements are in kernel: \n",
            "The number of kernel elements after post-processing is:  256\n",
            "Time taken to find graver basis:  3.227927795999676 seconds\n",
            "Encoding =  [0.25, 0.5]\n",
            "Finding Embedding\n",
            "Embedding was already there for 120 spins\n",
            "Time taken = {'qpu_sampling_time': 1346600, 'qpu_anneal_time_per_sample': 5, 'qpu_readout_time_per_sample': 108, 'qpu_access_time': 1371629, 'qpu_access_overhead_time': 697297, 'qpu_programming_time': 25029, 'qpu_delay_time_per_sample': 22, 'post_processing_overhead_time': 3643, 'total_post_processing_time': 319532, 'total_real_time': 1371629, 'run_time_chip': 1346600, 'anneal_time_per_run': 5, 'readout_time_per_run': 108}\n",
            "Time taken to find feasible solutions:  17.380747947000145 seconds\n",
            "Number of feasible solutions =  933\n",
            "Length of Graver basis =  512\n",
            "Finding the bias parameter\n",
            "Finding Training Accuracy of the model\n",
            "Training Accuracy of the classifier:  100.0\n",
            "Validating model\n",
            "Number of elements the model is validated for =  2000\n",
            "[-1. -1. -1. ...  1. -1. -1.]\n",
            "Accuracy of the classifier:  98.7\n",
            "Finding accuracy of ensemble...\n",
            "The accuracy of the ensemble is:  98.7\n"
          ],
          "name": "stdout"
        },
        {
          "output_type": "execute_result",
          "data": {
            "text/plain": [
              "98.7"
            ]
          },
          "metadata": {
            "tags": []
          },
          "execution_count": 335
        }
      ]
    },
    {
      "cell_type": "code",
      "metadata": {
        "id": "von_RnIYFtXD"
      },
      "source": [
        "def DAG_prediction_09(DAG, i):\n",
        "  dec1 = DAG[0].prediction(i)\n",
        "  if dec1 == -1:\n",
        "    dec2 = DAG[1].prediction(i)\n",
        "    if dec2 == -1:\n",
        "      dec3 = DAG[3].prediction(i)\n",
        "      if dec3 == -1:\n",
        "        return 0\n",
        "      else:\n",
        "        return 1\n",
        "    elif dec2 == 1:\n",
        "      dec3 = DAG[4].prediction(i)\n",
        "      if dec3 == -1:\n",
        "        return 2\n",
        "      else:\n",
        "        return 3\n",
        "  elif dec1 == 1:\n",
        "    dec2 = DAG[2].prediction(i)\n",
        "    if dec2 == -1:\n",
        "      dec3 = DAG[5].prediction(i)\n",
        "      if dec3 == -1:\n",
        "        return 4\n",
        "      else:\n",
        "        return 5\n",
        "    elif dec2 == 1:\n",
        "      dec3 = DAG[6].prediction(i)\n",
        "      if dec3 == -1:\n",
        "        return 6\n",
        "      else:\n",
        "        return 7\n",
        "\n",
        "l7_indices = np.where(np.array(y_test) <= 7)\n",
        "l7_test_labels = np.array(y_test)[l7_indices]\n",
        "l7_test_set = np.array(x_test)[l7_indices]"
      ],
      "execution_count": null,
      "outputs": []
    },
    {
      "cell_type": "code",
      "metadata": {
        "colab": {
          "base_uri": "https://localhost:8080/"
        },
        "id": "wGdINPpqFtXG",
        "outputId": "c0714f3e-a58c-4e61-fd39-02128d022ce2"
      },
      "source": [
        "DAG_predictions = []\n",
        "for i in l7_validate_set:\n",
        "  DAG_predictions.append(DAG_prediction_09(DAG, i))\n",
        "print(\"Accuracy of multiclass on validation set = \", 100*len(np.where(DAG_predictions == l7_validate_labels)[0])/len(l7_validate_labels))\n"
      ],
      "execution_count": null,
      "outputs": [
        {
          "output_type": "stream",
          "text": [
            "Accuracy of multiclass on validation set =  71.43333333333334\n"
          ],
          "name": "stdout"
        }
      ]
    },
    {
      "cell_type": "code",
      "metadata": {
        "colab": {
          "base_uri": "https://localhost:8080/"
        },
        "id": "P4dwONHnFtXI",
        "outputId": "ead4e4a8-48df-4038-e707-d203870ecbb6"
      },
      "source": [
        "DAG_predictions = []\n",
        "for i in l7_test_set:\n",
        "  DAG_predictions.append(DAG_prediction_09(DAG, i))\n",
        "print(\"Accuracy of multiclass on test set = \", 100*len(np.where(DAG_predictions == l7_test_labels)[0])/len(l7_test_labels))\n"
      ],
      "execution_count": null,
      "outputs": [
        {
          "output_type": "stream",
          "text": [
            "Accuracy of multiclass on test set =  72.10926780591244\n"
          ],
          "name": "stdout"
        }
      ]
    },
    {
      "cell_type": "markdown",
      "metadata": {
        "id": "MIdGp6xzgFTM"
      },
      "source": [
        "# DAG_Classical for 0-3\r\n"
      ]
    },
    {
      "cell_type": "code",
      "metadata": {
        "id": "aI_DPPcDgFTz"
      },
      "source": [
        "DAG_classical = []"
      ],
      "execution_count": null,
      "outputs": []
    },
    {
      "cell_type": "code",
      "metadata": {
        "colab": {
          "base_uri": "https://localhost:8080/"
        },
        "id": "cpczbfM1gFT3",
        "outputId": "b3ace06c-4a24-4e3d-a233-402263826988"
      },
      "source": [
        "DAG_training_batches = le3_training_set.reshape([int(len(le3_training_set)/N),N,784])\r\n",
        "DAG_training_batches_labels = np.array([-1 if le3_training_labels[i]<2 else 1 for i in range(len(le3_training_labels))])\r\n",
        "DAG_training_batches_labels = DAG_training_batches_labels.reshape([int(len(DAG_training_batches_labels)/N),N])\r\n",
        "DAG_classical.append(model(DAG_training_batches[0], DAG_training_batches_labels[0], N = 100))\r\n",
        "DAG_classical[-1].calc_kernel()\r\n",
        "kernel = DAG_classical[-1].kernel\r\n",
        "labels = DAG_classical[-1].labels\r\n",
        "x0 = np.ones(N)\r\n",
        "A = labels\r\n",
        "A.reshape([1,len(A)])\r\n",
        "#print(A.reshape((N,)))\r\n",
        "#print(kernel)\r\n",
        "# print(A@x0)\r\n",
        "#Creating box constraints\r\n",
        "bounds = scopt.Bounds(np.zeros(N),2*np.ones(N))\r\n",
        "\r\n",
        "#Creating equality constraint\r\n",
        "eq_cons = {'type' : 'eq', 'fun' : lambda x: A@x, 'jac' : lambda x: A }\r\n",
        "start_scipy = time.process_time()\r\n",
        "res = scopt.minimize(obj, x0, method = 'SLSQP', options = {'ftol': 1e-9, 'disp': True}, bounds = bounds, constraints = [eq_cons])\r\n",
        "print(\"Total time for scipy: \", time.process_time() - start_scipy, 'seconds')\r\n",
        "\r\n",
        "DAG_classical[-1].alpha = res.x\r\n",
        "# print(np.around(res.x,2))\r\n",
        "# print(obj(res.x))\r\n",
        "DAG_classical[-1].calc_b(2)\r\n",
        "DAG_classical[-1].training_accuracy()\r\n",
        "# DAG_classical[-1].validation()"
      ],
      "execution_count": null,
      "outputs": [
        {
          "output_type": "stream",
          "text": [
            "Calculating Kernel\n",
            "Optimization terminated successfully.    (Exit mode 0)\n",
            "            Current function value: -28.965751757426357\n",
            "            Iterations: 22\n",
            "            Function evaluations: 2245\n",
            "            Gradient evaluations: 22\n",
            "Total time for scipy:  1.1199563999998645 seconds\n",
            "Finding the bias parameter\n",
            "Finding Training Accuracy of the model\n",
            "Training Accuracy of the classifier:  100.0\n"
          ],
          "name": "stdout"
        },
        {
          "output_type": "execute_result",
          "data": {
            "text/plain": [
              "100.0"
            ]
          },
          "metadata": {
            "tags": []
          },
          "execution_count": 277
        }
      ]
    },
    {
      "cell_type": "code",
      "metadata": {
        "colab": {
          "base_uri": "https://localhost:8080/"
        },
        "id": "25QMIa8UgFT7",
        "outputId": "971149ac-38cb-4842-c12f-200753052fa7"
      },
      "source": [
        "DAG_training_batches = l2_training_set.reshape([int(len(l2_training_set)/N),N,784])\r\n",
        "DAG_training_batches_labels = np.array([-1 if l2_training_labels[i]<1 else 1 for i in range(len(l2_training_labels))])\r\n",
        "DAG_training_batches_labels = DAG_training_batches_labels.reshape([int(len(DAG_training_batches_labels)/N),N])\r\n",
        "DAG_classical.append(model(DAG_training_batches[0], DAG_training_batches_labels[0], N = 100))\r\n",
        "DAG_classical[-1].calc_kernel()\r\n",
        "kernel = DAG_classical[-1].kernel\r\n",
        "labels = DAG_classical[-1].labels\r\n",
        "x0 = np.ones(N)\r\n",
        "A = labels\r\n",
        "A.reshape([1,len(A)])\r\n",
        "#print(A.reshape((N,)))\r\n",
        "#print(kernel)\r\n",
        "# print(A@x0)\r\n",
        "#Creating box constraints\r\n",
        "bounds = scopt.Bounds(np.zeros(N),2*np.ones(N))\r\n",
        "\r\n",
        "#Creating equality constraint\r\n",
        "eq_cons = {'type' : 'eq', 'fun' : lambda x: A@x, 'jac' : lambda x: A }\r\n",
        "start_scipy = time.process_time()\r\n",
        "res = scopt.minimize(obj, x0, method = 'SLSQP', options = {'ftol': 1e-9, 'disp': True}, bounds = bounds, constraints = [eq_cons])\r\n",
        "print(\"Total time for scipy: \", time.process_time() - start_scipy, 'seconds')\r\n",
        "\r\n",
        "DAG_classical[-1].alpha = res.x\r\n",
        "# print(np.around(res.x,2))\r\n",
        "# print(obj(res.x))\r\n",
        "DAG_classical[-1].calc_b(2)\r\n",
        "DAG_classical[-1].training_accuracy()\r\n",
        "# DAG_classical[-1].validation()"
      ],
      "execution_count": null,
      "outputs": [
        {
          "output_type": "stream",
          "text": [
            "Calculating Kernel\n",
            "Optimization terminated successfully.    (Exit mode 0)\n",
            "            Current function value: -6.120498754789738\n",
            "            Iterations: 24\n",
            "            Function evaluations: 2449\n",
            "            Gradient evaluations: 24\n",
            "Total time for scipy:  1.3280044899997847 seconds\n",
            "Finding the bias parameter\n",
            "Finding Training Accuracy of the model\n",
            "Training Accuracy of the classifier:  100.0\n"
          ],
          "name": "stdout"
        },
        {
          "output_type": "execute_result",
          "data": {
            "text/plain": [
              "100.0"
            ]
          },
          "metadata": {
            "tags": []
          },
          "execution_count": 278
        }
      ]
    },
    {
      "cell_type": "code",
      "metadata": {
        "colab": {
          "base_uri": "https://localhost:8080/"
        },
        "id": "CIvSBW2UgFT9",
        "outputId": "51ee7ace-f149-4b1a-a0f9-cf3cecb2db37"
      },
      "source": [
        "DAG_training_batches = g2_training_set.reshape([int(len(g2_training_set)/N),N,784])\r\n",
        "DAG_training_batches_labels = np.array([-1 if g2_training_labels[i]<3 else 1 for i in range(len(g2_training_labels))])\r\n",
        "DAG_training_batches_labels = DAG_training_batches_labels.reshape([int(len(DAG_training_batches_labels)/N),N])\r\n",
        "DAG_classical.append(model(DAG_training_batches[0], DAG_training_batches_labels[0], N = 100))\r\n",
        "DAG_classical[-1].calc_kernel()\r\n",
        "kernel = DAG_classical[-1].kernel\r\n",
        "labels = DAG_classical[-1].labels\r\n",
        "x0 = np.ones(N)\r\n",
        "A = labels\r\n",
        "A.reshape([1,len(A)])\r\n",
        "#print(A.reshape((N,)))\r\n",
        "#print(kernel)\r\n",
        "# print(A@x0)\r\n",
        "#Creating box constraints\r\n",
        "bounds = scopt.Bounds(np.zeros(N),2*np.ones(N))\r\n",
        "\r\n",
        "#Creating equality constraint\r\n",
        "eq_cons = {'type' : 'eq', 'fun' : lambda x: A@x, 'jac' : lambda x: A }\r\n",
        "start_scipy = time.process_time()\r\n",
        "res = scopt.minimize(obj, x0, method = 'SLSQP', options = {'ftol': 1e-9, 'disp': True}, bounds = bounds, constraints = [eq_cons])\r\n",
        "print(\"Total time for scipy: \", time.process_time() - start_scipy, 'seconds')\r\n",
        "\r\n",
        "DAG_classical[-1].alpha = res.x\r\n",
        "# print(np.around(res.x,2))\r\n",
        "# print(obj(res.x))\r\n",
        "DAG_classical[-1].calc_b(2)\r\n",
        "DAG_classical[-1].training_accuracy()\r\n",
        "# DAG_classical[-1].validation()"
      ],
      "execution_count": null,
      "outputs": [
        {
          "output_type": "stream",
          "text": [
            "Calculating Kernel\n",
            "Optimization terminated successfully.    (Exit mode 0)\n",
            "            Current function value: -21.96701928214268\n",
            "            Iterations: 16\n",
            "            Function evaluations: 1632\n",
            "            Gradient evaluations: 16\n",
            "Total time for scipy:  0.8308447770000384 seconds\n",
            "Finding the bias parameter\n",
            "Finding Training Accuracy of the model\n",
            "Training Accuracy of the classifier:  100.0\n"
          ],
          "name": "stdout"
        },
        {
          "output_type": "execute_result",
          "data": {
            "text/plain": [
              "100.0"
            ]
          },
          "metadata": {
            "tags": []
          },
          "execution_count": 279
        }
      ]
    },
    {
      "cell_type": "code",
      "metadata": {
        "id": "GsAaIkuFgFUE"
      },
      "source": [
        "def DAG_decision_03(DAG, i):\r\n",
        "  dec1 = DAG[0].decision(i)\r\n",
        "  if dec1 == -1:\r\n",
        "    dec2 = DAG[1].decision(i)\r\n",
        "    if dec2 == -1:\r\n",
        "      return 0\r\n",
        "    else:\r\n",
        "      return 1\r\n",
        "  elif dec1 == 1:\r\n",
        "    dec2 = DAG[2].decision(i)\r\n",
        "    if dec2 == -1:\r\n",
        "      return 2\r\n",
        "    else:\r\n",
        "      return 3\r\n",
        "\r\n",
        "le3_indices = np.where(np.array(y_test) <= 3)\r\n",
        "le3_test_labels = np.array(y_test)[le3_indices]\r\n",
        "le3_test_set = np.array(x_test)[le3_indices]"
      ],
      "execution_count": null,
      "outputs": []
    },
    {
      "cell_type": "code",
      "metadata": {
        "colab": {
          "base_uri": "https://localhost:8080/"
        },
        "id": "u3Zfhhs0gFUG",
        "outputId": "74c9d630-0ac0-4c33-c7ec-5f89c662f8a3"
      },
      "source": [
        "DAG_decision = []\r\n",
        "for i in le3_validate_set:\r\n",
        "  DAG_decision.append(DAG_decision_03(DAG_classical, i))\r\n",
        "print(\"Accuracy of multiclass on validation set = \", 100*len(np.where(DAG_decision == le3_validate_labels)[0])/len(le3_validate_labels))\r\n",
        "\r\n",
        "DAG_decision = []\r\n",
        "for i in le3_test_set:\r\n",
        "  DAG_decision.append(DAG_decision_03(DAG_classical, i))\r\n",
        "print(\"Accuracy of multiclass on test set = \", 100*len(np.where(DAG_decision == le3_test_labels)[0])/len(le3_test_labels))"
      ],
      "execution_count": null,
      "outputs": [
        {
          "output_type": "stream",
          "text": [
            "Accuracy of multiclass on validation set =  93.425\n",
            "Accuracy of multiclass on test set =  94.5874428674525\n"
          ],
          "name": "stdout"
        }
      ]
    },
    {
      "cell_type": "markdown",
      "metadata": {
        "id": "DB8megAdUKRU"
      },
      "source": [
        "# DAG_Classical for 0-7\r\n"
      ]
    },
    {
      "cell_type": "code",
      "metadata": {
        "id": "E_qJDGQPUNt8"
      },
      "source": [
        "DAG_classical = []"
      ],
      "execution_count": null,
      "outputs": []
    },
    {
      "cell_type": "code",
      "metadata": {
        "colab": {
          "base_uri": "https://localhost:8080/"
        },
        "id": "zsWOL2uiU4zS",
        "outputId": "50bfdff6-5d7f-4cac-d907-d518dcbab10d"
      },
      "source": [
        "DAG_training_batches = l7_training_set.reshape([int(len(l7_training_set)/N),N,784])\r\n",
        "DAG_training_batches_labels = np.array([-1 if l7_training_labels[i]<4 else 1 for i in range(len(l7_training_labels))])\r\n",
        "DAG_training_batches_labels = DAG_training_batches_labels.reshape([int(len(DAG_training_batches_labels)/N),N])\r\n",
        "DAG_classical.append(model(DAG_training_batches[0], DAG_training_batches_labels[0], N = 100))\r\n",
        "DAG_classical[-1].calc_kernel()\r\n",
        "kernel = DAG_classical[-1].kernel\r\n",
        "labels = DAG_classical[-1].labels\r\n",
        "x0 = np.ones(N)\r\n",
        "A = labels\r\n",
        "A.reshape([1,len(A)])\r\n",
        "#print(A.reshape((N,)))\r\n",
        "#print(kernel)\r\n",
        "# print(A@x0)\r\n",
        "#Creating box constraints\r\n",
        "bounds = scopt.Bounds(np.zeros(N),2*np.ones(N))\r\n",
        "\r\n",
        "#Creating equality constraint\r\n",
        "eq_cons = {'type' : 'eq', 'fun' : lambda x: A@x, 'jac' : lambda x: A }\r\n",
        "start_scipy = time.process_time()\r\n",
        "res = scopt.minimize(obj, x0, method = 'SLSQP', options = {'ftol': 1e-9, 'disp': True}, bounds = bounds, constraints = [eq_cons])\r\n",
        "print(\"Total time for scipy: \", time.process_time() - start_scipy, 'seconds')\r\n",
        "\r\n",
        "DAG_classical[-1].alpha = res.x\r\n",
        "# print(np.around(res.x,2))\r\n",
        "# print(obj(res.x))\r\n",
        "DAG_classical[-1].calc_b(2)\r\n",
        "DAG_classical[-1].training_accuracy()\r\n",
        "# DAG_classical[-1].validation()"
      ],
      "execution_count": null,
      "outputs": [
        {
          "output_type": "stream",
          "text": [
            "Calculating Kernel\n",
            "Optimization terminated successfully.    (Exit mode 0)\n",
            "            Current function value: -28.832619640497043\n",
            "            Iterations: 21\n",
            "            Function evaluations: 2144\n",
            "            Gradient evaluations: 21\n",
            "Total time for scipy:  1.057540495000012 seconds\n",
            "Finding the bias parameter\n",
            "Finding Training Accuracy of the model\n",
            "Training Accuracy of the classifier:  100.0\n"
          ],
          "name": "stdout"
        },
        {
          "output_type": "execute_result",
          "data": {
            "text/plain": [
              "100.0"
            ]
          },
          "metadata": {
            "tags": []
          },
          "execution_count": 250
        }
      ]
    },
    {
      "cell_type": "code",
      "metadata": {
        "id": "ostRMfFBWypQ",
        "colab": {
          "base_uri": "https://localhost:8080/"
        },
        "outputId": "e8e7d8e9-8a7a-4dcd-cac9-eb2fcf7e3666"
      },
      "source": [
        "DAG_training_batches = le3_training_set.reshape([int(len(le3_training_set)/N),N,784])\r\n",
        "DAG_training_batches_labels = np.array([-1 if le3_training_labels[i]<2 else 1 for i in range(len(le3_training_labels))])\r\n",
        "DAG_training_batches_labels = DAG_training_batches_labels.reshape([int(len(DAG_training_batches_labels)/N),N])\r\n",
        "DAG_classical.append(model(DAG_training_batches[0], DAG_training_batches_labels[0], N = 100))\r\n",
        "DAG_classical[-1].calc_kernel()\r\n",
        "kernel = DAG_classical[-1].kernel\r\n",
        "labels = DAG_classical[-1].labels\r\n",
        "x0 = np.ones(N)\r\n",
        "A = labels\r\n",
        "A.reshape([1,len(A)])\r\n",
        "#print(A.reshape((N,)))\r\n",
        "#print(kernel)\r\n",
        "# print(A@x0)\r\n",
        "#Creating box constraints\r\n",
        "bounds = scopt.Bounds(np.zeros(N),2*np.ones(N))\r\n",
        "\r\n",
        "#Creating equality constraint\r\n",
        "eq_cons = {'type' : 'eq', 'fun' : lambda x: A@x, 'jac' : lambda x: A }\r\n",
        "start_scipy = time.process_time()\r\n",
        "res = scopt.minimize(obj, x0, method = 'SLSQP', options = {'ftol': 1e-9, 'disp': True}, bounds = bounds, constraints = [eq_cons])\r\n",
        "print(\"Total time for scipy: \", time.process_time() - start_scipy, 'seconds')\r\n",
        "\r\n",
        "DAG_classical[-1].alpha = res.x\r\n",
        "# print(np.around(res.x,2))\r\n",
        "# print(obj(res.x))\r\n",
        "DAG_classical[-1].calc_b(2)\r\n",
        "DAG_classical[-1].training_accuracy()\r\n",
        "# DAG_classical[-1].validation()"
      ],
      "execution_count": null,
      "outputs": [
        {
          "output_type": "stream",
          "text": [
            "Calculating Kernel\n",
            "Optimization terminated successfully.    (Exit mode 0)\n",
            "            Current function value: -28.965751757426357\n",
            "            Iterations: 22\n",
            "            Function evaluations: 2245\n",
            "            Gradient evaluations: 22\n",
            "Total time for scipy:  1.1441680299999462 seconds\n",
            "Finding the bias parameter\n",
            "Finding Training Accuracy of the model\n",
            "Training Accuracy of the classifier:  100.0\n"
          ],
          "name": "stdout"
        },
        {
          "output_type": "execute_result",
          "data": {
            "text/plain": [
              "100.0"
            ]
          },
          "metadata": {
            "tags": []
          },
          "execution_count": 251
        }
      ]
    },
    {
      "cell_type": "code",
      "metadata": {
        "id": "V4eciQdGW9uc",
        "colab": {
          "base_uri": "https://localhost:8080/"
        },
        "outputId": "1a4afefd-1da1-43f4-d0cb-de7c6c3f3d4d"
      },
      "source": [
        "DAG_training_batches = g3_training_set.reshape([int(len(g3_training_set)/N),N,784])\r\n",
        "DAG_training_batches_labels = np.array([-1 if g3_training_labels[i]<6 else 1 for i in range(len(g3_training_labels))])\r\n",
        "DAG_training_batches_labels = DAG_training_batches_labels.reshape([int(len(DAG_training_batches_labels)/N),N])\r\n",
        "DAG_classical.append(model(DAG_training_batches[0], DAG_training_batches_labels[0], N = 100))\r\n",
        "DAG_classical[-1].calc_kernel()\r\n",
        "kernel = DAG_classical[-1].kernel\r\n",
        "labels = DAG_classical[-1].labels\r\n",
        "x0 = np.ones(N)\r\n",
        "A = labels\r\n",
        "A.reshape([1,len(A)])\r\n",
        "#print(A.reshape((N,)))\r\n",
        "#print(kernel)\r\n",
        "# print(A@x0)\r\n",
        "#Creating box constraints\r\n",
        "bounds = scopt.Bounds(np.zeros(N),2*np.ones(N))\r\n",
        "\r\n",
        "#Creating equality constraint\r\n",
        "eq_cons = {'type' : 'eq', 'fun' : lambda x: A@x, 'jac' : lambda x: A }\r\n",
        "start_scipy = time.process_time()\r\n",
        "res = scopt.minimize(obj, x0, method = 'SLSQP', options = {'ftol': 1e-9, 'disp': True}, bounds = bounds, constraints = [eq_cons])\r\n",
        "print(\"Total time for scipy: \", time.process_time() - start_scipy, 'seconds')\r\n",
        "\r\n",
        "DAG_classical[-1].alpha = res.x\r\n",
        "# print(np.around(res.x,2))\r\n",
        "# print(obj(res.x))\r\n",
        "DAG_classical[-1].calc_b(2)\r\n",
        "DAG_classical[-1].training_accuracy()\r\n",
        "# DAG_classical[-1].validation()"
      ],
      "execution_count": null,
      "outputs": [
        {
          "output_type": "stream",
          "text": [
            "Calculating Kernel\n",
            "Optimization terminated successfully.    (Exit mode 0)\n",
            "            Current function value: -30.828444281958152\n",
            "            Iterations: 19\n",
            "            Function evaluations: 1941\n",
            "            Gradient evaluations: 19\n",
            "Total time for scipy:  0.9419449390002228 seconds\n",
            "Finding the bias parameter\n",
            "Finding Training Accuracy of the model\n",
            "Training Accuracy of the classifier:  100.0\n"
          ],
          "name": "stdout"
        },
        {
          "output_type": "execute_result",
          "data": {
            "text/plain": [
              "100.0"
            ]
          },
          "metadata": {
            "tags": []
          },
          "execution_count": 252
        }
      ]
    },
    {
      "cell_type": "code",
      "metadata": {
        "id": "ug8N6sbMW1bl",
        "colab": {
          "base_uri": "https://localhost:8080/"
        },
        "outputId": "10168552-0326-475e-fe1d-ae7de168aba2"
      },
      "source": [
        "DAG_training_batches = l2_training_set.reshape([int(len(l2_training_set)/N),N,784])\r\n",
        "DAG_training_batches_labels = np.array([-1 if l2_training_labels[i]<1 else 1 for i in range(len(l2_training_labels))])\r\n",
        "DAG_training_batches_labels = DAG_training_batches_labels.reshape([int(len(DAG_training_batches_labels)/N),N])\r\n",
        "DAG_classical.append(model(DAG_training_batches[0], DAG_training_batches_labels[0], N = 100))\r\n",
        "DAG_classical[-1].calc_kernel()\r\n",
        "kernel = DAG_classical[-1].kernel\r\n",
        "labels = DAG_classical[-1].labels\r\n",
        "x0 = np.ones(N)\r\n",
        "A = labels\r\n",
        "A.reshape([1,len(A)])\r\n",
        "#print(A.reshape((N,)))\r\n",
        "#print(kernel)\r\n",
        "# print(A@x0)\r\n",
        "#Creating box constraints\r\n",
        "bounds = scopt.Bounds(np.zeros(N),2*np.ones(N))\r\n",
        "\r\n",
        "#Creating equality constraint\r\n",
        "eq_cons = {'type' : 'eq', 'fun' : lambda x: A@x, 'jac' : lambda x: A }\r\n",
        "start_scipy = time.process_time()\r\n",
        "res = scopt.minimize(obj, x0, method = 'SLSQP', options = {'ftol': 1e-9, 'disp': True}, bounds = bounds, constraints = [eq_cons])\r\n",
        "print(\"Total time for scipy: \", time.process_time() - start_scipy, 'seconds')\r\n",
        "\r\n",
        "DAG_classical[-1].alpha = res.x\r\n",
        "# print(np.around(res.x,2))\r\n",
        "# print(obj(res.x))\r\n",
        "DAG_classical[-1].calc_b(2)\r\n",
        "DAG_classical[-1].training_accuracy()\r\n",
        "# DAG_classical[-1].validation()"
      ],
      "execution_count": null,
      "outputs": [
        {
          "output_type": "stream",
          "text": [
            "Calculating Kernel\n",
            "Optimization terminated successfully.    (Exit mode 0)\n",
            "            Current function value: -6.120498754789738\n",
            "            Iterations: 24\n",
            "            Function evaluations: 2449\n",
            "            Gradient evaluations: 24\n",
            "Total time for scipy:  1.3043899750000492 seconds\n",
            "Finding the bias parameter\n",
            "Finding Training Accuracy of the model\n",
            "Training Accuracy of the classifier:  100.0\n"
          ],
          "name": "stdout"
        },
        {
          "output_type": "execute_result",
          "data": {
            "text/plain": [
              "100.0"
            ]
          },
          "metadata": {
            "tags": []
          },
          "execution_count": 253
        }
      ]
    },
    {
      "cell_type": "code",
      "metadata": {
        "id": "An8_q2KJW3by",
        "colab": {
          "base_uri": "https://localhost:8080/"
        },
        "outputId": "ffcd27b1-47a6-4bc6-d1fe-a8c02d5d75c0"
      },
      "source": [
        "DAG_training_batches = g2_training_set.reshape([int(len(g2_training_set)/N),N,784])\r\n",
        "DAG_training_batches_labels = np.array([-1 if g2_training_labels[i]<3 else 1 for i in range(len(g2_training_labels))])\r\n",
        "DAG_training_batches_labels = DAG_training_batches_labels.reshape([int(len(DAG_training_batches_labels)/N),N])\r\n",
        "DAG_classical.append(model(DAG_training_batches[0], DAG_training_batches_labels[0], N = 100))\r\n",
        "DAG_classical[-1].calc_kernel()\r\n",
        "kernel = DAG_classical[-1].kernel\r\n",
        "labels = DAG_classical[-1].labels\r\n",
        "x0 = np.ones(N)\r\n",
        "A = labels\r\n",
        "A.reshape([1,len(A)])\r\n",
        "#print(A.reshape((N,)))\r\n",
        "#print(kernel)\r\n",
        "# print(A@x0)\r\n",
        "#Creating box constraints\r\n",
        "bounds = scopt.Bounds(np.zeros(N),2*np.ones(N))\r\n",
        "\r\n",
        "#Creating equality constraint\r\n",
        "eq_cons = {'type' : 'eq', 'fun' : lambda x: A@x, 'jac' : lambda x: A }\r\n",
        "start_scipy = time.process_time()\r\n",
        "res = scopt.minimize(obj, x0, method = 'SLSQP', options = {'ftol': 1e-9, 'disp': True}, bounds = bounds, constraints = [eq_cons])\r\n",
        "print(\"Total time for scipy: \", time.process_time() - start_scipy, 'seconds')\r\n",
        "\r\n",
        "DAG_classical[-1].alpha = res.x\r\n",
        "# print(np.around(res.x,2))\r\n",
        "# print(obj(res.x))\r\n",
        "DAG_classical[-1].calc_b(2)\r\n",
        "DAG_classical[-1].training_accuracy()\r\n",
        "# DAG_classical[-1].validation()"
      ],
      "execution_count": null,
      "outputs": [
        {
          "output_type": "stream",
          "text": [
            "Calculating Kernel\n",
            "Optimization terminated successfully.    (Exit mode 0)\n",
            "            Current function value: -21.96701928214268\n",
            "            Iterations: 16\n",
            "            Function evaluations: 1632\n",
            "            Gradient evaluations: 16\n",
            "Total time for scipy:  0.8296053199997004 seconds\n",
            "Finding the bias parameter\n",
            "Finding Training Accuracy of the model\n",
            "Training Accuracy of the classifier:  100.0\n"
          ],
          "name": "stdout"
        },
        {
          "output_type": "execute_result",
          "data": {
            "text/plain": [
              "100.0"
            ]
          },
          "metadata": {
            "tags": []
          },
          "execution_count": 254
        }
      ]
    },
    {
      "cell_type": "code",
      "metadata": {
        "id": "_BdUpZizXAi4",
        "colab": {
          "base_uri": "https://localhost:8080/"
        },
        "outputId": "5023070c-dc7c-4387-d8a2-b8ae2f4c5cd8"
      },
      "source": [
        "DAG_training_batches = l6_training_set.reshape([int(len(l6_training_set)/N),N,784])\r\n",
        "DAG_training_batches_labels = np.array([-1 if l6_training_labels[i]<5 else 1 for i in range(len(l6_training_labels))])\r\n",
        "DAG_training_batches_labels = DAG_training_batches_labels.reshape([int(len(DAG_training_batches_labels)/N),N])\r\n",
        "DAG_classical.append(model(DAG_training_batches[0], DAG_training_batches_labels[0], N = 100))\r\n",
        "DAG_classical[-1].calc_kernel()\r\n",
        "kernel = DAG_classical[-1].kernel\r\n",
        "labels = DAG_classical[-1].labels\r\n",
        "x0 = np.ones(N)\r\n",
        "A = labels\r\n",
        "A.reshape([1,len(A)])\r\n",
        "#print(A.reshape((N,)))\r\n",
        "#print(kernel)\r\n",
        "# print(A@x0)\r\n",
        "#Creating box constraints\r\n",
        "bounds = scopt.Bounds(np.zeros(N),2*np.ones(N))\r\n",
        "\r\n",
        "#Creating equality constraint\r\n",
        "eq_cons = {'type' : 'eq', 'fun' : lambda x: A@x, 'jac' : lambda x: A }\r\n",
        "start_scipy = time.process_time()\r\n",
        "res = scopt.minimize(obj, x0, method = 'SLSQP', options = {'ftol': 1e-9, 'disp': True}, bounds = bounds, constraints = [eq_cons])\r\n",
        "print(\"Total time for scipy: \", time.process_time() - start_scipy, 'seconds')\r\n",
        "\r\n",
        "DAG_classical[-1].alpha = res.x\r\n",
        "# print(np.around(res.x,2))\r\n",
        "# print(obj(res.x))\r\n",
        "DAG_classical[-1].calc_b(2)\r\n",
        "DAG_classical[-1].training_accuracy()\r\n",
        "# DAG_classical[-1].validation()"
      ],
      "execution_count": null,
      "outputs": [
        {
          "output_type": "stream",
          "text": [
            "Calculating Kernel\n",
            "Optimization terminated successfully.    (Exit mode 0)\n",
            "            Current function value: -18.659509007651174\n",
            "            Iterations: 16\n",
            "            Function evaluations: 1633\n",
            "            Gradient evaluations: 16\n",
            "Total time for scipy:  0.8394485499998154 seconds\n",
            "Finding the bias parameter\n",
            "Finding Training Accuracy of the model\n",
            "Training Accuracy of the classifier:  100.0\n"
          ],
          "name": "stdout"
        },
        {
          "output_type": "execute_result",
          "data": {
            "text/plain": [
              "100.0"
            ]
          },
          "metadata": {
            "tags": []
          },
          "execution_count": 255
        }
      ]
    },
    {
      "cell_type": "code",
      "metadata": {
        "id": "JEfWpm9lXCPh",
        "colab": {
          "base_uri": "https://localhost:8080/"
        },
        "outputId": "5a5d345c-eed5-4ee4-db55-78cfda2073a5"
      },
      "source": [
        "DAG_training_batches = g6_training_set.reshape([int(len(g6_training_set)/N),N,784])\r\n",
        "DAG_training_batches_labels = np.array([-1 if g6_training_labels[i]<7 else 1 for i in range(len(g6_training_labels))])\r\n",
        "DAG_training_batches_labels = DAG_training_batches_labels.reshape([int(len(DAG_training_batches_labels)/N),N])\r\n",
        "DAG_classical.append(model(DAG_training_batches[0], DAG_training_batches_labels[0], N = 100))\r\n",
        "DAG_classical[-1].calc_kernel()\r\n",
        "kernel = DAG_classical[-1].kernel\r\n",
        "labels = DAG_classical[-1].labels\r\n",
        "x0 = np.ones(N)\r\n",
        "A = labels\r\n",
        "A.reshape([1,len(A)])\r\n",
        "#print(A.reshape((N,)))\r\n",
        "#print(kernel)\r\n",
        "# print(A@x0)\r\n",
        "#Creating box constraints\r\n",
        "bounds = scopt.Bounds(np.zeros(N),2*np.ones(N))\r\n",
        "\r\n",
        "#Creating equality constraint\r\n",
        "eq_cons = {'type' : 'eq', 'fun' : lambda x: A@x, 'jac' : lambda x: A }\r\n",
        "start_scipy = time.process_time()\r\n",
        "res = scopt.minimize(obj, x0, method = 'SLSQP', options = {'ftol': 1e-9, 'disp': True}, bounds = bounds, constraints = [eq_cons])\r\n",
        "print(\"Total time for scipy: \", time.process_time() - start_scipy, 'seconds')\r\n",
        "\r\n",
        "DAG_classical[-1].alpha = res.x\r\n",
        "# print(np.around(res.x,2))\r\n",
        "# print(obj(res.x))\r\n",
        "DAG_classical[-1].calc_b(2)\r\n",
        "DAG_classical[-1].training_accuracy()\r\n",
        "# DAG_classical[-1].validation()"
      ],
      "execution_count": null,
      "outputs": [
        {
          "output_type": "stream",
          "text": [
            "Calculating Kernel\n",
            "Optimization terminated successfully.    (Exit mode 0)\n",
            "            Current function value: -11.121415597766823\n",
            "            Iterations: 18\n",
            "            Function evaluations: 1838\n",
            "            Gradient evaluations: 18\n",
            "Total time for scipy:  0.9642110540003159 seconds\n",
            "Finding the bias parameter\n",
            "Finding Training Accuracy of the model\n",
            "Training Accuracy of the classifier:  100.0\n"
          ],
          "name": "stdout"
        },
        {
          "output_type": "execute_result",
          "data": {
            "text/plain": [
              "100.0"
            ]
          },
          "metadata": {
            "tags": []
          },
          "execution_count": 256
        }
      ]
    },
    {
      "cell_type": "code",
      "metadata": {
        "id": "2HGRCtImXdbt"
      },
      "source": [
        "def DAG_decision_09(DAG, i):\r\n",
        "  dec1 = DAG[0].decision(i)\r\n",
        "  if dec1 == -1:\r\n",
        "    dec2 = DAG[1].decision(i)\r\n",
        "    if dec2 == -1:\r\n",
        "      dec3 = DAG[3].decision(i)\r\n",
        "      if dec3 == -1:\r\n",
        "        return 0\r\n",
        "      else:\r\n",
        "        return 1\r\n",
        "    elif dec2 == 1:\r\n",
        "      dec3 = DAG[4].decision(i)\r\n",
        "      if dec3 == -1:\r\n",
        "        return 2\r\n",
        "      else:\r\n",
        "        return 3\r\n",
        "  elif dec1 == 1:\r\n",
        "    dec2 = DAG[2].decision(i)\r\n",
        "    if dec2 == -1:\r\n",
        "      dec3 = DAG[5].decision(i)\r\n",
        "      if dec3 == -1:\r\n",
        "        return 4\r\n",
        "      else:\r\n",
        "        return 5\r\n",
        "    elif dec2 == 1:\r\n",
        "      dec3 = DAG[6].decision(i)\r\n",
        "      if dec3 == -1:\r\n",
        "        return 6\r\n",
        "      else:\r\n",
        "        return 7\r\n",
        "\r\n",
        "l7_indices = np.where(np.array(y_test) <= 7)\r\n",
        "l7_test_labels = np.array(y_test)[l7_indices]\r\n",
        "l7_test_set = np.array(x_test)[l7_indices]"
      ],
      "execution_count": null,
      "outputs": []
    },
    {
      "cell_type": "code",
      "metadata": {
        "id": "pEdGZTqdXhjx",
        "colab": {
          "base_uri": "https://localhost:8080/"
        },
        "outputId": "117b9cc5-a82d-47fb-ff4d-7c9366829132"
      },
      "source": [
        "DAG_decision = []\r\n",
        "for i in l7_validate_set:\r\n",
        "  DAG_decision.append(DAG_decision_09(DAG_classical, i))\r\n",
        "print(\"Accuracy of multiclass on validation set = \", 100*len(np.where(DAG_decision == l7_validate_labels)[0])/len(l7_validate_labels))\r\n",
        "\r\n",
        "DAG_decision = []\r\n",
        "for i in l7_test_set:\r\n",
        "  DAG_decision.append(DAG_decision_09(DAG_classical, i))\r\n",
        "print(\"Accuracy of multiclass on test set = \", 100*len(np.where(DAG_decision == l7_test_labels)[0])/len(l7_test_labels))"
      ],
      "execution_count": null,
      "outputs": [
        {
          "output_type": "stream",
          "text": [
            "Accuracy of multiclass on validation set =  84.11111111111111\n",
            "Accuracy of multiclass on test set =  85.3810652363727\n"
          ],
          "name": "stdout"
        }
      ]
    },
    {
      "cell_type": "markdown",
      "metadata": {
        "id": "DoxV0rVlP1qG"
      },
      "source": [
        "# Check data"
      ]
    },
    {
      "cell_type": "code",
      "metadata": {
        "colab": {
          "base_uri": "https://localhost:8080/",
          "height": 1000
        },
        "id": "B3rsayUj3Ndt",
        "outputId": "fba6c0c5-7f3e-4dd4-cf3f-cbc07be1e259"
      },
      "source": [
        "x, y = le3_test_set, DAG_predictions\n",
        "for i in range(10):\n",
        "  check = i\n",
        "  plt.imshow(np.reshape(x[check],(28,28)),cmap = 'gray')\n",
        "  plt.title(y[check])\n",
        "  plt.show()"
      ],
      "execution_count": null,
      "outputs": [
        {
          "output_type": "display_data",
          "data": {
            "image/png": "[encoded data removed]",
            "text/plain": [
              "<Figure size 432x288 with 1 Axes>"
            ]
          },
          "metadata": {
            "tags": []
          }
        },
        {
          "output_type": "display_data",
          "data": {
            "image/png": "[encoded data removed]",
            "text/plain": [
              "<Figure size 432x288 with 1 Axes>"
            ]
          },
          "metadata": {
            "tags": []
          }
        },
        {
          "output_type": "display_data",
          "data": {
            "image/png": "[encoded data removed]",
            "text/plain": [
              "<Figure size 432x288 with 1 Axes>"
            ]
          },
          "metadata": {
            "tags": []
          }
        },
        {
          "output_type": "display_data",
          "data": {
            "image/png": "[encoded data removed]",
            "text/plain": [
              "<Figure size 432x288 with 1 Axes>"
            ]
          },
          "metadata": {
            "tags": []
          }
        },
        {
          "output_type": "display_data",
          "data": {
            "image/png": "[encoded data removed]",
            "text/plain": [
              "<Figure size 432x288 with 1 Axes>"
            ]
          },
          "metadata": {
            "tags": []
          }
        },
        {
          "output_type": "display_data",
          "data": {
            "image/png": "[encoded data removed]",
            "text/plain": [
              "<Figure size 432x288 with 1 Axes>"
            ]
          },
          "metadata": {
            "tags": []
          }
        },
        {
          "output_type": "display_data",
          "data": {
            "image/png": "[encoded data removed]",
            "text/plain": [
              "<Figure size 432x288 with 1 Axes>"
            ]
          },
          "metadata": {
            "tags": []
          }
        },
        {
          "output_type": "display_data",
          "data": {
            "image/png": "[encoded data removed]",
            "text/plain": [
              "<Figure size 432x288 with 1 Axes>"
            ]
          },
          "metadata": {
            "tags": []
          }
        },
        {
          "output_type": "display_data",
          "data": {
            "image/png": "[encoded data removed]",
            "text/plain": [
              "<Figure size 432x288 with 1 Axes>"
            ]
          },
          "metadata": {
            "tags": []
          }
        },
        {
          "output_type": "display_data",
          "data": {
            "image/png": "[encoded data removed]",
            "text/plain": [
              "<Figure size 432x288 with 1 Axes>"
            ]
          },
          "metadata": {
            "tags": []
          }
        }
      ]
    },
    {
      "cell_type": "code",
      "metadata": {
        "id": "4QSrZZ_aWaz0"
      },
      "source": [
        ""
      ],
      "execution_count": null,
      "outputs": []
    }
  ]
}